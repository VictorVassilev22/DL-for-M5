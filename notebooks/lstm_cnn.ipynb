{
 "cells": [
  {
   "cell_type": "code",
   "execution_count": 1,
   "metadata": {
    "collapsed": true,
    "ExecuteTime": {
     "end_time": "2023-06-25T06:49:54.030094800Z",
     "start_time": "2023-06-25T06:49:52.940638800Z"
    }
   },
   "outputs": [],
   "source": [
    "import numpy as np\n",
    "import pandas as pd\n",
    "import config.config_paths as paths\n",
    "from sklearn.preprocessing import MinMaxScaler"
   ]
  },
  {
   "cell_type": "code",
   "execution_count": 2,
   "outputs": [],
   "source": [
    "# Reading the CSV files\n",
    "cal_data = pd.read_csv(paths.calendar_path)\n",
    "salestv_data = pd.read_csv(paths.sales_train_val_path)\n",
    "ss_data = pd.read_csv(paths.sample_submission_path)"
   ],
   "metadata": {
    "collapsed": false,
    "ExecuteTime": {
     "end_time": "2023-06-25T06:49:55.945768Z",
     "start_time": "2023-06-25T06:49:54.028094300Z"
    }
   }
  },
  {
   "cell_type": "code",
   "execution_count": 3,
   "outputs": [],
   "source": [
    "timesteps=14\n",
    "startDay=0"
   ],
   "metadata": {
    "collapsed": false,
    "ExecuteTime": {
     "end_time": "2023-06-25T06:49:55.959646500Z",
     "start_time": "2023-06-25T06:49:55.946768400Z"
    }
   }
  },
  {
   "cell_type": "code",
   "execution_count": 4,
   "outputs": [
    {
     "data": {
      "text/plain": "(30490, 1919)"
     },
     "execution_count": 4,
     "metadata": {},
     "output_type": "execute_result"
    }
   ],
   "source": [
    "salestv_data.shape"
   ],
   "metadata": {
    "collapsed": false,
    "ExecuteTime": {
     "end_time": "2023-06-25T06:49:56.006662100Z",
     "start_time": "2023-06-25T06:49:55.959646500Z"
    }
   }
  },
  {
   "cell_type": "code",
   "execution_count": 5,
   "outputs": [
    {
     "data": {
      "text/plain": "                              id        item_id    dept_id   cat_id store_id  \\\n0  HOBBIES_1_001_CA_1_validation  HOBBIES_1_001  HOBBIES_1  HOBBIES     CA_1   \n1  HOBBIES_1_002_CA_1_validation  HOBBIES_1_002  HOBBIES_1  HOBBIES     CA_1   \n2  HOBBIES_1_003_CA_1_validation  HOBBIES_1_003  HOBBIES_1  HOBBIES     CA_1   \n3  HOBBIES_1_004_CA_1_validation  HOBBIES_1_004  HOBBIES_1  HOBBIES     CA_1   \n4  HOBBIES_1_005_CA_1_validation  HOBBIES_1_005  HOBBIES_1  HOBBIES     CA_1   \n\n  state_id  d_1  d_2  d_3  d_4  ...  d_1904  d_1905  d_1906  d_1907  d_1908  \\\n0       CA    0    0    0    0  ...       1       3       0       1       1   \n1       CA    0    0    0    0  ...       0       0       0       0       0   \n2       CA    0    0    0    0  ...       2       1       2       1       1   \n3       CA    0    0    0    0  ...       1       0       5       4       1   \n4       CA    0    0    0    0  ...       2       1       1       0       1   \n\n   d_1909  d_1910  d_1911  d_1912  d_1913  \n0       1       3       0       1       1  \n1       1       0       0       0       0  \n2       1       0       1       1       1  \n3       0       1       3       7       2  \n4       1       2       2       2       4  \n\n[5 rows x 1919 columns]",
      "text/html": "<div>\n<style scoped>\n    .dataframe tbody tr th:only-of-type {\n        vertical-align: middle;\n    }\n\n    .dataframe tbody tr th {\n        vertical-align: top;\n    }\n\n    .dataframe thead th {\n        text-align: right;\n    }\n</style>\n<table border=\"1\" class=\"dataframe\">\n  <thead>\n    <tr style=\"text-align: right;\">\n      <th></th>\n      <th>id</th>\n      <th>item_id</th>\n      <th>dept_id</th>\n      <th>cat_id</th>\n      <th>store_id</th>\n      <th>state_id</th>\n      <th>d_1</th>\n      <th>d_2</th>\n      <th>d_3</th>\n      <th>d_4</th>\n      <th>...</th>\n      <th>d_1904</th>\n      <th>d_1905</th>\n      <th>d_1906</th>\n      <th>d_1907</th>\n      <th>d_1908</th>\n      <th>d_1909</th>\n      <th>d_1910</th>\n      <th>d_1911</th>\n      <th>d_1912</th>\n      <th>d_1913</th>\n    </tr>\n  </thead>\n  <tbody>\n    <tr>\n      <th>0</th>\n      <td>HOBBIES_1_001_CA_1_validation</td>\n      <td>HOBBIES_1_001</td>\n      <td>HOBBIES_1</td>\n      <td>HOBBIES</td>\n      <td>CA_1</td>\n      <td>CA</td>\n      <td>0</td>\n      <td>0</td>\n      <td>0</td>\n      <td>0</td>\n      <td>...</td>\n      <td>1</td>\n      <td>3</td>\n      <td>0</td>\n      <td>1</td>\n      <td>1</td>\n      <td>1</td>\n      <td>3</td>\n      <td>0</td>\n      <td>1</td>\n      <td>1</td>\n    </tr>\n    <tr>\n      <th>1</th>\n      <td>HOBBIES_1_002_CA_1_validation</td>\n      <td>HOBBIES_1_002</td>\n      <td>HOBBIES_1</td>\n      <td>HOBBIES</td>\n      <td>CA_1</td>\n      <td>CA</td>\n      <td>0</td>\n      <td>0</td>\n      <td>0</td>\n      <td>0</td>\n      <td>...</td>\n      <td>0</td>\n      <td>0</td>\n      <td>0</td>\n      <td>0</td>\n      <td>0</td>\n      <td>1</td>\n      <td>0</td>\n      <td>0</td>\n      <td>0</td>\n      <td>0</td>\n    </tr>\n    <tr>\n      <th>2</th>\n      <td>HOBBIES_1_003_CA_1_validation</td>\n      <td>HOBBIES_1_003</td>\n      <td>HOBBIES_1</td>\n      <td>HOBBIES</td>\n      <td>CA_1</td>\n      <td>CA</td>\n      <td>0</td>\n      <td>0</td>\n      <td>0</td>\n      <td>0</td>\n      <td>...</td>\n      <td>2</td>\n      <td>1</td>\n      <td>2</td>\n      <td>1</td>\n      <td>1</td>\n      <td>1</td>\n      <td>0</td>\n      <td>1</td>\n      <td>1</td>\n      <td>1</td>\n    </tr>\n    <tr>\n      <th>3</th>\n      <td>HOBBIES_1_004_CA_1_validation</td>\n      <td>HOBBIES_1_004</td>\n      <td>HOBBIES_1</td>\n      <td>HOBBIES</td>\n      <td>CA_1</td>\n      <td>CA</td>\n      <td>0</td>\n      <td>0</td>\n      <td>0</td>\n      <td>0</td>\n      <td>...</td>\n      <td>1</td>\n      <td>0</td>\n      <td>5</td>\n      <td>4</td>\n      <td>1</td>\n      <td>0</td>\n      <td>1</td>\n      <td>3</td>\n      <td>7</td>\n      <td>2</td>\n    </tr>\n    <tr>\n      <th>4</th>\n      <td>HOBBIES_1_005_CA_1_validation</td>\n      <td>HOBBIES_1_005</td>\n      <td>HOBBIES_1</td>\n      <td>HOBBIES</td>\n      <td>CA_1</td>\n      <td>CA</td>\n      <td>0</td>\n      <td>0</td>\n      <td>0</td>\n      <td>0</td>\n      <td>...</td>\n      <td>2</td>\n      <td>1</td>\n      <td>1</td>\n      <td>0</td>\n      <td>1</td>\n      <td>1</td>\n      <td>2</td>\n      <td>2</td>\n      <td>2</td>\n      <td>4</td>\n    </tr>\n  </tbody>\n</table>\n<p>5 rows × 1919 columns</p>\n</div>"
     },
     "execution_count": 5,
     "metadata": {},
     "output_type": "execute_result"
    }
   ],
   "source": [
    "salestv_data.head()"
   ],
   "metadata": {
    "collapsed": false,
    "ExecuteTime": {
     "end_time": "2023-06-25T06:49:56.013663700Z",
     "start_time": "2023-06-25T06:49:55.978656100Z"
    }
   }
  },
  {
   "cell_type": "code",
   "execution_count": 6,
   "outputs": [
    {
     "data": {
      "text/plain": "         date  wm_yr_wk    weekday  wday  month  year    d event_name_1  \\\n0  2011-01-29     11101   Saturday     1      1  2011  d_1          NaN   \n1  2011-01-30     11101     Sunday     2      1  2011  d_2          NaN   \n2  2011-01-31     11101     Monday     3      1  2011  d_3          NaN   \n3  2011-02-01     11101    Tuesday     4      2  2011  d_4          NaN   \n4  2011-02-02     11101  Wednesday     5      2  2011  d_5          NaN   \n\n  event_type_1 event_name_2 event_type_2  snap_CA  snap_TX  snap_WI  \n0          NaN          NaN          NaN        0        0        0  \n1          NaN          NaN          NaN        0        0        0  \n2          NaN          NaN          NaN        0        0        0  \n3          NaN          NaN          NaN        1        1        0  \n4          NaN          NaN          NaN        1        0        1  ",
      "text/html": "<div>\n<style scoped>\n    .dataframe tbody tr th:only-of-type {\n        vertical-align: middle;\n    }\n\n    .dataframe tbody tr th {\n        vertical-align: top;\n    }\n\n    .dataframe thead th {\n        text-align: right;\n    }\n</style>\n<table border=\"1\" class=\"dataframe\">\n  <thead>\n    <tr style=\"text-align: right;\">\n      <th></th>\n      <th>date</th>\n      <th>wm_yr_wk</th>\n      <th>weekday</th>\n      <th>wday</th>\n      <th>month</th>\n      <th>year</th>\n      <th>d</th>\n      <th>event_name_1</th>\n      <th>event_type_1</th>\n      <th>event_name_2</th>\n      <th>event_type_2</th>\n      <th>snap_CA</th>\n      <th>snap_TX</th>\n      <th>snap_WI</th>\n    </tr>\n  </thead>\n  <tbody>\n    <tr>\n      <th>0</th>\n      <td>2011-01-29</td>\n      <td>11101</td>\n      <td>Saturday</td>\n      <td>1</td>\n      <td>1</td>\n      <td>2011</td>\n      <td>d_1</td>\n      <td>NaN</td>\n      <td>NaN</td>\n      <td>NaN</td>\n      <td>NaN</td>\n      <td>0</td>\n      <td>0</td>\n      <td>0</td>\n    </tr>\n    <tr>\n      <th>1</th>\n      <td>2011-01-30</td>\n      <td>11101</td>\n      <td>Sunday</td>\n      <td>2</td>\n      <td>1</td>\n      <td>2011</td>\n      <td>d_2</td>\n      <td>NaN</td>\n      <td>NaN</td>\n      <td>NaN</td>\n      <td>NaN</td>\n      <td>0</td>\n      <td>0</td>\n      <td>0</td>\n    </tr>\n    <tr>\n      <th>2</th>\n      <td>2011-01-31</td>\n      <td>11101</td>\n      <td>Monday</td>\n      <td>3</td>\n      <td>1</td>\n      <td>2011</td>\n      <td>d_3</td>\n      <td>NaN</td>\n      <td>NaN</td>\n      <td>NaN</td>\n      <td>NaN</td>\n      <td>0</td>\n      <td>0</td>\n      <td>0</td>\n    </tr>\n    <tr>\n      <th>3</th>\n      <td>2011-02-01</td>\n      <td>11101</td>\n      <td>Tuesday</td>\n      <td>4</td>\n      <td>2</td>\n      <td>2011</td>\n      <td>d_4</td>\n      <td>NaN</td>\n      <td>NaN</td>\n      <td>NaN</td>\n      <td>NaN</td>\n      <td>1</td>\n      <td>1</td>\n      <td>0</td>\n    </tr>\n    <tr>\n      <th>4</th>\n      <td>2011-02-02</td>\n      <td>11101</td>\n      <td>Wednesday</td>\n      <td>5</td>\n      <td>2</td>\n      <td>2011</td>\n      <td>d_5</td>\n      <td>NaN</td>\n      <td>NaN</td>\n      <td>NaN</td>\n      <td>NaN</td>\n      <td>1</td>\n      <td>0</td>\n      <td>1</td>\n    </tr>\n  </tbody>\n</table>\n</div>"
     },
     "execution_count": 6,
     "metadata": {},
     "output_type": "execute_result"
    }
   ],
   "source": [
    "cal_data.head()"
   ],
   "metadata": {
    "collapsed": false,
    "ExecuteTime": {
     "end_time": "2023-06-25T06:49:56.014663900Z",
     "start_time": "2023-06-25T06:49:55.992658600Z"
    }
   }
  },
  {
   "cell_type": "code",
   "execution_count": 7,
   "outputs": [
    {
     "data": {
      "text/plain": "                                id  F1  F2  F3  F4  F5  F6  F7  F8  F9  ...  \\\n60975  FOODS_3_823_WI_3_evaluation   0   0   0   0   0   0   0   0   0  ...   \n60976  FOODS_3_824_WI_3_evaluation   0   0   0   0   0   0   0   0   0  ...   \n60977  FOODS_3_825_WI_3_evaluation   0   0   0   0   0   0   0   0   0  ...   \n60978  FOODS_3_826_WI_3_evaluation   0   0   0   0   0   0   0   0   0  ...   \n60979  FOODS_3_827_WI_3_evaluation   0   0   0   0   0   0   0   0   0  ...   \n\n       F19  F20  F21  F22  F23  F24  F25  F26  F27  F28  \n60975    0    0    0    0    0    0    0    0    0    0  \n60976    0    0    0    0    0    0    0    0    0    0  \n60977    0    0    0    0    0    0    0    0    0    0  \n60978    0    0    0    0    0    0    0    0    0    0  \n60979    0    0    0    0    0    0    0    0    0    0  \n\n[5 rows x 29 columns]",
      "text/html": "<div>\n<style scoped>\n    .dataframe tbody tr th:only-of-type {\n        vertical-align: middle;\n    }\n\n    .dataframe tbody tr th {\n        vertical-align: top;\n    }\n\n    .dataframe thead th {\n        text-align: right;\n    }\n</style>\n<table border=\"1\" class=\"dataframe\">\n  <thead>\n    <tr style=\"text-align: right;\">\n      <th></th>\n      <th>id</th>\n      <th>F1</th>\n      <th>F2</th>\n      <th>F3</th>\n      <th>F4</th>\n      <th>F5</th>\n      <th>F6</th>\n      <th>F7</th>\n      <th>F8</th>\n      <th>F9</th>\n      <th>...</th>\n      <th>F19</th>\n      <th>F20</th>\n      <th>F21</th>\n      <th>F22</th>\n      <th>F23</th>\n      <th>F24</th>\n      <th>F25</th>\n      <th>F26</th>\n      <th>F27</th>\n      <th>F28</th>\n    </tr>\n  </thead>\n  <tbody>\n    <tr>\n      <th>60975</th>\n      <td>FOODS_3_823_WI_3_evaluation</td>\n      <td>0</td>\n      <td>0</td>\n      <td>0</td>\n      <td>0</td>\n      <td>0</td>\n      <td>0</td>\n      <td>0</td>\n      <td>0</td>\n      <td>0</td>\n      <td>...</td>\n      <td>0</td>\n      <td>0</td>\n      <td>0</td>\n      <td>0</td>\n      <td>0</td>\n      <td>0</td>\n      <td>0</td>\n      <td>0</td>\n      <td>0</td>\n      <td>0</td>\n    </tr>\n    <tr>\n      <th>60976</th>\n      <td>FOODS_3_824_WI_3_evaluation</td>\n      <td>0</td>\n      <td>0</td>\n      <td>0</td>\n      <td>0</td>\n      <td>0</td>\n      <td>0</td>\n      <td>0</td>\n      <td>0</td>\n      <td>0</td>\n      <td>...</td>\n      <td>0</td>\n      <td>0</td>\n      <td>0</td>\n      <td>0</td>\n      <td>0</td>\n      <td>0</td>\n      <td>0</td>\n      <td>0</td>\n      <td>0</td>\n      <td>0</td>\n    </tr>\n    <tr>\n      <th>60977</th>\n      <td>FOODS_3_825_WI_3_evaluation</td>\n      <td>0</td>\n      <td>0</td>\n      <td>0</td>\n      <td>0</td>\n      <td>0</td>\n      <td>0</td>\n      <td>0</td>\n      <td>0</td>\n      <td>0</td>\n      <td>...</td>\n      <td>0</td>\n      <td>0</td>\n      <td>0</td>\n      <td>0</td>\n      <td>0</td>\n      <td>0</td>\n      <td>0</td>\n      <td>0</td>\n      <td>0</td>\n      <td>0</td>\n    </tr>\n    <tr>\n      <th>60978</th>\n      <td>FOODS_3_826_WI_3_evaluation</td>\n      <td>0</td>\n      <td>0</td>\n      <td>0</td>\n      <td>0</td>\n      <td>0</td>\n      <td>0</td>\n      <td>0</td>\n      <td>0</td>\n      <td>0</td>\n      <td>...</td>\n      <td>0</td>\n      <td>0</td>\n      <td>0</td>\n      <td>0</td>\n      <td>0</td>\n      <td>0</td>\n      <td>0</td>\n      <td>0</td>\n      <td>0</td>\n      <td>0</td>\n    </tr>\n    <tr>\n      <th>60979</th>\n      <td>FOODS_3_827_WI_3_evaluation</td>\n      <td>0</td>\n      <td>0</td>\n      <td>0</td>\n      <td>0</td>\n      <td>0</td>\n      <td>0</td>\n      <td>0</td>\n      <td>0</td>\n      <td>0</td>\n      <td>...</td>\n      <td>0</td>\n      <td>0</td>\n      <td>0</td>\n      <td>0</td>\n      <td>0</td>\n      <td>0</td>\n      <td>0</td>\n      <td>0</td>\n      <td>0</td>\n      <td>0</td>\n    </tr>\n  </tbody>\n</table>\n<p>5 rows × 29 columns</p>\n</div>"
     },
     "execution_count": 7,
     "metadata": {},
     "output_type": "execute_result"
    }
   ],
   "source": [
    "ss_data.tail()"
   ],
   "metadata": {
    "collapsed": false,
    "ExecuteTime": {
     "end_time": "2023-06-25T06:49:56.024666100Z",
     "start_time": "2023-06-25T06:49:56.009662700Z"
    }
   }
  },
  {
   "cell_type": "code",
   "execution_count": 8,
   "outputs": [
    {
     "data": {
      "text/plain": "                d_1           d_2           d_3           d_4           d_5  \\\ncount  30490.000000  30490.000000  30490.000000  30490.000000  30490.000000   \nmean       1.070220      1.041292      0.780026      0.833454      0.627944   \nstd        5.126689      5.365468      3.667454      4.415141      3.379344   \nmin        0.000000      0.000000      0.000000      0.000000      0.000000   \n25%        0.000000      0.000000      0.000000      0.000000      0.000000   \n50%        0.000000      0.000000      0.000000      0.000000      0.000000   \n75%        0.000000      0.000000      0.000000      0.000000      0.000000   \nmax      360.000000    436.000000    207.000000    323.000000    296.000000   \n\n                d_6           d_7           d_8           d_9          d_10  \\\ncount  30490.000000  30490.000000  30490.000000  30490.000000  30490.000000   \nmean       0.958052      0.918662      1.244080      1.073663      0.838701   \nstd        4.785947      5.059495      6.617729      5.917204      4.206199   \nmin        0.000000      0.000000      0.000000      0.000000      0.000000   \n25%        0.000000      0.000000      0.000000      0.000000      0.000000   \n50%        0.000000      0.000000      0.000000      0.000000      0.000000   \n75%        0.000000      0.000000      0.000000      0.000000      0.000000   \nmax      314.000000    316.000000    370.000000    385.000000    353.000000   \n\n       ...        d_1904        d_1905        d_1906        d_1907  \\\ncount  ...  30490.000000  30490.000000  30490.000000  30490.000000   \nmean   ...      1.370581      1.586159      1.693670      1.248245   \nstd    ...      3.740017      4.097191      4.359809      3.276925   \nmin    ...      0.000000      0.000000      0.000000      0.000000   \n25%    ...      0.000000      0.000000      0.000000      0.000000   \n50%    ...      0.000000      0.000000      0.000000      0.000000   \n75%    ...      1.000000      2.000000      2.000000      1.000000   \nmax    ...    129.000000    160.000000    204.000000     98.000000   \n\n             d_1908        d_1909        d_1910        d_1911        d_1912  \\\ncount  30490.000000  30490.000000  30490.000000  30490.000000  30490.000000   \nmean       1.232207      1.159167      1.149000      1.328862      1.605838   \nstd        3.125471      2.876026      2.950364      3.358012      4.089422   \nmin        0.000000      0.000000      0.000000      0.000000      0.000000   \n25%        0.000000      0.000000      0.000000      0.000000      0.000000   \n50%        0.000000      0.000000      0.000000      0.000000      0.000000   \n75%        1.000000      1.000000      1.000000      1.000000      2.000000   \nmax      100.000000     88.000000     77.000000    141.000000    171.000000   \n\n             d_1913  \ncount  30490.000000  \nmean       1.633158  \nstd        3.812248  \nmin        0.000000  \n25%        0.000000  \n50%        0.000000  \n75%        2.000000  \nmax      130.000000  \n\n[8 rows x 1913 columns]",
      "text/html": "<div>\n<style scoped>\n    .dataframe tbody tr th:only-of-type {\n        vertical-align: middle;\n    }\n\n    .dataframe tbody tr th {\n        vertical-align: top;\n    }\n\n    .dataframe thead th {\n        text-align: right;\n    }\n</style>\n<table border=\"1\" class=\"dataframe\">\n  <thead>\n    <tr style=\"text-align: right;\">\n      <th></th>\n      <th>d_1</th>\n      <th>d_2</th>\n      <th>d_3</th>\n      <th>d_4</th>\n      <th>d_5</th>\n      <th>d_6</th>\n      <th>d_7</th>\n      <th>d_8</th>\n      <th>d_9</th>\n      <th>d_10</th>\n      <th>...</th>\n      <th>d_1904</th>\n      <th>d_1905</th>\n      <th>d_1906</th>\n      <th>d_1907</th>\n      <th>d_1908</th>\n      <th>d_1909</th>\n      <th>d_1910</th>\n      <th>d_1911</th>\n      <th>d_1912</th>\n      <th>d_1913</th>\n    </tr>\n  </thead>\n  <tbody>\n    <tr>\n      <th>count</th>\n      <td>30490.000000</td>\n      <td>30490.000000</td>\n      <td>30490.000000</td>\n      <td>30490.000000</td>\n      <td>30490.000000</td>\n      <td>30490.000000</td>\n      <td>30490.000000</td>\n      <td>30490.000000</td>\n      <td>30490.000000</td>\n      <td>30490.000000</td>\n      <td>...</td>\n      <td>30490.000000</td>\n      <td>30490.000000</td>\n      <td>30490.000000</td>\n      <td>30490.000000</td>\n      <td>30490.000000</td>\n      <td>30490.000000</td>\n      <td>30490.000000</td>\n      <td>30490.000000</td>\n      <td>30490.000000</td>\n      <td>30490.000000</td>\n    </tr>\n    <tr>\n      <th>mean</th>\n      <td>1.070220</td>\n      <td>1.041292</td>\n      <td>0.780026</td>\n      <td>0.833454</td>\n      <td>0.627944</td>\n      <td>0.958052</td>\n      <td>0.918662</td>\n      <td>1.244080</td>\n      <td>1.073663</td>\n      <td>0.838701</td>\n      <td>...</td>\n      <td>1.370581</td>\n      <td>1.586159</td>\n      <td>1.693670</td>\n      <td>1.248245</td>\n      <td>1.232207</td>\n      <td>1.159167</td>\n      <td>1.149000</td>\n      <td>1.328862</td>\n      <td>1.605838</td>\n      <td>1.633158</td>\n    </tr>\n    <tr>\n      <th>std</th>\n      <td>5.126689</td>\n      <td>5.365468</td>\n      <td>3.667454</td>\n      <td>4.415141</td>\n      <td>3.379344</td>\n      <td>4.785947</td>\n      <td>5.059495</td>\n      <td>6.617729</td>\n      <td>5.917204</td>\n      <td>4.206199</td>\n      <td>...</td>\n      <td>3.740017</td>\n      <td>4.097191</td>\n      <td>4.359809</td>\n      <td>3.276925</td>\n      <td>3.125471</td>\n      <td>2.876026</td>\n      <td>2.950364</td>\n      <td>3.358012</td>\n      <td>4.089422</td>\n      <td>3.812248</td>\n    </tr>\n    <tr>\n      <th>min</th>\n      <td>0.000000</td>\n      <td>0.000000</td>\n      <td>0.000000</td>\n      <td>0.000000</td>\n      <td>0.000000</td>\n      <td>0.000000</td>\n      <td>0.000000</td>\n      <td>0.000000</td>\n      <td>0.000000</td>\n      <td>0.000000</td>\n      <td>...</td>\n      <td>0.000000</td>\n      <td>0.000000</td>\n      <td>0.000000</td>\n      <td>0.000000</td>\n      <td>0.000000</td>\n      <td>0.000000</td>\n      <td>0.000000</td>\n      <td>0.000000</td>\n      <td>0.000000</td>\n      <td>0.000000</td>\n    </tr>\n    <tr>\n      <th>25%</th>\n      <td>0.000000</td>\n      <td>0.000000</td>\n      <td>0.000000</td>\n      <td>0.000000</td>\n      <td>0.000000</td>\n      <td>0.000000</td>\n      <td>0.000000</td>\n      <td>0.000000</td>\n      <td>0.000000</td>\n      <td>0.000000</td>\n      <td>...</td>\n      <td>0.000000</td>\n      <td>0.000000</td>\n      <td>0.000000</td>\n      <td>0.000000</td>\n      <td>0.000000</td>\n      <td>0.000000</td>\n      <td>0.000000</td>\n      <td>0.000000</td>\n      <td>0.000000</td>\n      <td>0.000000</td>\n    </tr>\n    <tr>\n      <th>50%</th>\n      <td>0.000000</td>\n      <td>0.000000</td>\n      <td>0.000000</td>\n      <td>0.000000</td>\n      <td>0.000000</td>\n      <td>0.000000</td>\n      <td>0.000000</td>\n      <td>0.000000</td>\n      <td>0.000000</td>\n      <td>0.000000</td>\n      <td>...</td>\n      <td>0.000000</td>\n      <td>0.000000</td>\n      <td>0.000000</td>\n      <td>0.000000</td>\n      <td>0.000000</td>\n      <td>0.000000</td>\n      <td>0.000000</td>\n      <td>0.000000</td>\n      <td>0.000000</td>\n      <td>0.000000</td>\n    </tr>\n    <tr>\n      <th>75%</th>\n      <td>0.000000</td>\n      <td>0.000000</td>\n      <td>0.000000</td>\n      <td>0.000000</td>\n      <td>0.000000</td>\n      <td>0.000000</td>\n      <td>0.000000</td>\n      <td>0.000000</td>\n      <td>0.000000</td>\n      <td>0.000000</td>\n      <td>...</td>\n      <td>1.000000</td>\n      <td>2.000000</td>\n      <td>2.000000</td>\n      <td>1.000000</td>\n      <td>1.000000</td>\n      <td>1.000000</td>\n      <td>1.000000</td>\n      <td>1.000000</td>\n      <td>2.000000</td>\n      <td>2.000000</td>\n    </tr>\n    <tr>\n      <th>max</th>\n      <td>360.000000</td>\n      <td>436.000000</td>\n      <td>207.000000</td>\n      <td>323.000000</td>\n      <td>296.000000</td>\n      <td>314.000000</td>\n      <td>316.000000</td>\n      <td>370.000000</td>\n      <td>385.000000</td>\n      <td>353.000000</td>\n      <td>...</td>\n      <td>129.000000</td>\n      <td>160.000000</td>\n      <td>204.000000</td>\n      <td>98.000000</td>\n      <td>100.000000</td>\n      <td>88.000000</td>\n      <td>77.000000</td>\n      <td>141.000000</td>\n      <td>171.000000</td>\n      <td>130.000000</td>\n    </tr>\n  </tbody>\n</table>\n<p>8 rows × 1913 columns</p>\n</div>"
     },
     "execution_count": 8,
     "metadata": {},
     "output_type": "execute_result"
    }
   ],
   "source": [
    "salestv_data.describe()"
   ],
   "metadata": {
    "collapsed": false,
    "ExecuteTime": {
     "end_time": "2023-06-25T06:49:58.770292400Z",
     "start_time": "2023-06-25T06:49:56.024666100Z"
    }
   }
  },
  {
   "cell_type": "code",
   "execution_count": 9,
   "outputs": [
    {
     "data": {
      "text/plain": "          id  item_id  dept_id  cat_id  store_id  state_id    d_1    d_2  \\\n0      False    False    False   False     False     False  False  False   \n1      False    False    False   False     False     False  False  False   \n2      False    False    False   False     False     False  False  False   \n3      False    False    False   False     False     False  False  False   \n4      False    False    False   False     False     False  False  False   \n...      ...      ...      ...     ...       ...       ...    ...    ...   \n30485  False    False    False   False     False     False  False  False   \n30486  False    False    False   False     False     False  False  False   \n30487  False    False    False   False     False     False  False  False   \n30488  False    False    False   False     False     False  False  False   \n30489  False    False    False   False     False     False  False  False   \n\n         d_3    d_4  ...  d_1904  d_1905  d_1906  d_1907  d_1908  d_1909  \\\n0      False  False  ...   False   False   False   False   False   False   \n1      False  False  ...   False   False   False   False   False   False   \n2      False  False  ...   False   False   False   False   False   False   \n3      False  False  ...   False   False   False   False   False   False   \n4      False  False  ...   False   False   False   False   False   False   \n...      ...    ...  ...     ...     ...     ...     ...     ...     ...   \n30485  False  False  ...   False   False   False   False   False   False   \n30486  False  False  ...   False   False   False   False   False   False   \n30487  False  False  ...   False   False   False   False   False   False   \n30488  False  False  ...   False   False   False   False   False   False   \n30489  False  False  ...   False   False   False   False   False   False   \n\n       d_1910  d_1911  d_1912  d_1913  \n0       False   False   False   False  \n1       False   False   False   False  \n2       False   False   False   False  \n3       False   False   False   False  \n4       False   False   False   False  \n...       ...     ...     ...     ...  \n30485   False   False   False   False  \n30486   False   False   False   False  \n30487   False   False   False   False  \n30488   False   False   False   False  \n30489   False   False   False   False  \n\n[30490 rows x 1919 columns]",
      "text/html": "<div>\n<style scoped>\n    .dataframe tbody tr th:only-of-type {\n        vertical-align: middle;\n    }\n\n    .dataframe tbody tr th {\n        vertical-align: top;\n    }\n\n    .dataframe thead th {\n        text-align: right;\n    }\n</style>\n<table border=\"1\" class=\"dataframe\">\n  <thead>\n    <tr style=\"text-align: right;\">\n      <th></th>\n      <th>id</th>\n      <th>item_id</th>\n      <th>dept_id</th>\n      <th>cat_id</th>\n      <th>store_id</th>\n      <th>state_id</th>\n      <th>d_1</th>\n      <th>d_2</th>\n      <th>d_3</th>\n      <th>d_4</th>\n      <th>...</th>\n      <th>d_1904</th>\n      <th>d_1905</th>\n      <th>d_1906</th>\n      <th>d_1907</th>\n      <th>d_1908</th>\n      <th>d_1909</th>\n      <th>d_1910</th>\n      <th>d_1911</th>\n      <th>d_1912</th>\n      <th>d_1913</th>\n    </tr>\n  </thead>\n  <tbody>\n    <tr>\n      <th>0</th>\n      <td>False</td>\n      <td>False</td>\n      <td>False</td>\n      <td>False</td>\n      <td>False</td>\n      <td>False</td>\n      <td>False</td>\n      <td>False</td>\n      <td>False</td>\n      <td>False</td>\n      <td>...</td>\n      <td>False</td>\n      <td>False</td>\n      <td>False</td>\n      <td>False</td>\n      <td>False</td>\n      <td>False</td>\n      <td>False</td>\n      <td>False</td>\n      <td>False</td>\n      <td>False</td>\n    </tr>\n    <tr>\n      <th>1</th>\n      <td>False</td>\n      <td>False</td>\n      <td>False</td>\n      <td>False</td>\n      <td>False</td>\n      <td>False</td>\n      <td>False</td>\n      <td>False</td>\n      <td>False</td>\n      <td>False</td>\n      <td>...</td>\n      <td>False</td>\n      <td>False</td>\n      <td>False</td>\n      <td>False</td>\n      <td>False</td>\n      <td>False</td>\n      <td>False</td>\n      <td>False</td>\n      <td>False</td>\n      <td>False</td>\n    </tr>\n    <tr>\n      <th>2</th>\n      <td>False</td>\n      <td>False</td>\n      <td>False</td>\n      <td>False</td>\n      <td>False</td>\n      <td>False</td>\n      <td>False</td>\n      <td>False</td>\n      <td>False</td>\n      <td>False</td>\n      <td>...</td>\n      <td>False</td>\n      <td>False</td>\n      <td>False</td>\n      <td>False</td>\n      <td>False</td>\n      <td>False</td>\n      <td>False</td>\n      <td>False</td>\n      <td>False</td>\n      <td>False</td>\n    </tr>\n    <tr>\n      <th>3</th>\n      <td>False</td>\n      <td>False</td>\n      <td>False</td>\n      <td>False</td>\n      <td>False</td>\n      <td>False</td>\n      <td>False</td>\n      <td>False</td>\n      <td>False</td>\n      <td>False</td>\n      <td>...</td>\n      <td>False</td>\n      <td>False</td>\n      <td>False</td>\n      <td>False</td>\n      <td>False</td>\n      <td>False</td>\n      <td>False</td>\n      <td>False</td>\n      <td>False</td>\n      <td>False</td>\n    </tr>\n    <tr>\n      <th>4</th>\n      <td>False</td>\n      <td>False</td>\n      <td>False</td>\n      <td>False</td>\n      <td>False</td>\n      <td>False</td>\n      <td>False</td>\n      <td>False</td>\n      <td>False</td>\n      <td>False</td>\n      <td>...</td>\n      <td>False</td>\n      <td>False</td>\n      <td>False</td>\n      <td>False</td>\n      <td>False</td>\n      <td>False</td>\n      <td>False</td>\n      <td>False</td>\n      <td>False</td>\n      <td>False</td>\n    </tr>\n    <tr>\n      <th>...</th>\n      <td>...</td>\n      <td>...</td>\n      <td>...</td>\n      <td>...</td>\n      <td>...</td>\n      <td>...</td>\n      <td>...</td>\n      <td>...</td>\n      <td>...</td>\n      <td>...</td>\n      <td>...</td>\n      <td>...</td>\n      <td>...</td>\n      <td>...</td>\n      <td>...</td>\n      <td>...</td>\n      <td>...</td>\n      <td>...</td>\n      <td>...</td>\n      <td>...</td>\n      <td>...</td>\n    </tr>\n    <tr>\n      <th>30485</th>\n      <td>False</td>\n      <td>False</td>\n      <td>False</td>\n      <td>False</td>\n      <td>False</td>\n      <td>False</td>\n      <td>False</td>\n      <td>False</td>\n      <td>False</td>\n      <td>False</td>\n      <td>...</td>\n      <td>False</td>\n      <td>False</td>\n      <td>False</td>\n      <td>False</td>\n      <td>False</td>\n      <td>False</td>\n      <td>False</td>\n      <td>False</td>\n      <td>False</td>\n      <td>False</td>\n    </tr>\n    <tr>\n      <th>30486</th>\n      <td>False</td>\n      <td>False</td>\n      <td>False</td>\n      <td>False</td>\n      <td>False</td>\n      <td>False</td>\n      <td>False</td>\n      <td>False</td>\n      <td>False</td>\n      <td>False</td>\n      <td>...</td>\n      <td>False</td>\n      <td>False</td>\n      <td>False</td>\n      <td>False</td>\n      <td>False</td>\n      <td>False</td>\n      <td>False</td>\n      <td>False</td>\n      <td>False</td>\n      <td>False</td>\n    </tr>\n    <tr>\n      <th>30487</th>\n      <td>False</td>\n      <td>False</td>\n      <td>False</td>\n      <td>False</td>\n      <td>False</td>\n      <td>False</td>\n      <td>False</td>\n      <td>False</td>\n      <td>False</td>\n      <td>False</td>\n      <td>...</td>\n      <td>False</td>\n      <td>False</td>\n      <td>False</td>\n      <td>False</td>\n      <td>False</td>\n      <td>False</td>\n      <td>False</td>\n      <td>False</td>\n      <td>False</td>\n      <td>False</td>\n    </tr>\n    <tr>\n      <th>30488</th>\n      <td>False</td>\n      <td>False</td>\n      <td>False</td>\n      <td>False</td>\n      <td>False</td>\n      <td>False</td>\n      <td>False</td>\n      <td>False</td>\n      <td>False</td>\n      <td>False</td>\n      <td>...</td>\n      <td>False</td>\n      <td>False</td>\n      <td>False</td>\n      <td>False</td>\n      <td>False</td>\n      <td>False</td>\n      <td>False</td>\n      <td>False</td>\n      <td>False</td>\n      <td>False</td>\n    </tr>\n    <tr>\n      <th>30489</th>\n      <td>False</td>\n      <td>False</td>\n      <td>False</td>\n      <td>False</td>\n      <td>False</td>\n      <td>False</td>\n      <td>False</td>\n      <td>False</td>\n      <td>False</td>\n      <td>False</td>\n      <td>...</td>\n      <td>False</td>\n      <td>False</td>\n      <td>False</td>\n      <td>False</td>\n      <td>False</td>\n      <td>False</td>\n      <td>False</td>\n      <td>False</td>\n      <td>False</td>\n      <td>False</td>\n    </tr>\n  </tbody>\n</table>\n<p>30490 rows × 1919 columns</p>\n</div>"
     },
     "execution_count": 9,
     "metadata": {},
     "output_type": "execute_result"
    }
   ],
   "source": [
    "salestv_data.isnull()"
   ],
   "metadata": {
    "collapsed": false,
    "ExecuteTime": {
     "end_time": "2023-06-25T06:49:58.847436600Z",
     "start_time": "2023-06-25T06:49:58.770292400Z"
    }
   }
  },
  {
   "cell_type": "code",
   "execution_count": 10,
   "outputs": [
    {
     "name": "stdout",
     "output_type": "stream",
     "text": [
      "<class 'pandas.core.frame.DataFrame'>\n",
      "RangeIndex: 30490 entries, 0 to 30489\n",
      "Columns: 1919 entries, id to d_1913\n",
      "dtypes: int64(1913), object(6)\n",
      "memory usage: 446.4+ MB\n",
      "None\n"
     ]
    }
   ],
   "source": [
    "print(salestv_data.info())"
   ],
   "metadata": {
    "collapsed": false,
    "ExecuteTime": {
     "end_time": "2023-06-25T06:49:58.952460300Z",
     "start_time": "2023-06-25T06:49:58.818430200Z"
    }
   }
  },
  {
   "cell_type": "code",
   "execution_count": 11,
   "outputs": [],
   "source": [
    "# Making dates as row to get the data in exact format\n",
    "salestv_data_transposed = salestv_data.T"
   ],
   "metadata": {
    "collapsed": false,
    "ExecuteTime": {
     "end_time": "2023-06-25T06:49:59.455578300Z",
     "start_time": "2023-06-25T06:49:58.913452Z"
    }
   }
  },
  {
   "cell_type": "code",
   "execution_count": 12,
   "outputs": [
    {
     "data": {
      "text/plain": "                                  0                              1      \\\nid        HOBBIES_1_001_CA_1_validation  HOBBIES_1_002_CA_1_validation   \nitem_id                   HOBBIES_1_001                  HOBBIES_1_002   \ndept_id                       HOBBIES_1                      HOBBIES_1   \ncat_id                          HOBBIES                        HOBBIES   \nstore_id                           CA_1                           CA_1   \nstate_id                             CA                             CA   \nd_1                                   0                              0   \nd_2                                   0                              0   \n\n                                  2                              3      \\\nid        HOBBIES_1_003_CA_1_validation  HOBBIES_1_004_CA_1_validation   \nitem_id                   HOBBIES_1_003                  HOBBIES_1_004   \ndept_id                       HOBBIES_1                      HOBBIES_1   \ncat_id                          HOBBIES                        HOBBIES   \nstore_id                           CA_1                           CA_1   \nstate_id                             CA                             CA   \nd_1                                   0                              0   \nd_2                                   0                              0   \n\n                                  4                              5      \\\nid        HOBBIES_1_005_CA_1_validation  HOBBIES_1_006_CA_1_validation   \nitem_id                   HOBBIES_1_005                  HOBBIES_1_006   \ndept_id                       HOBBIES_1                      HOBBIES_1   \ncat_id                          HOBBIES                        HOBBIES   \nstore_id                           CA_1                           CA_1   \nstate_id                             CA                             CA   \nd_1                                   0                              0   \nd_2                                   0                              0   \n\n                                  6                              7      \\\nid        HOBBIES_1_007_CA_1_validation  HOBBIES_1_008_CA_1_validation   \nitem_id                   HOBBIES_1_007                  HOBBIES_1_008   \ndept_id                       HOBBIES_1                      HOBBIES_1   \ncat_id                          HOBBIES                        HOBBIES   \nstore_id                           CA_1                           CA_1   \nstate_id                             CA                             CA   \nd_1                                   0                             12   \nd_2                                   0                             15   \n\n                                  8                              9      ...  \\\nid        HOBBIES_1_009_CA_1_validation  HOBBIES_1_010_CA_1_validation  ...   \nitem_id                   HOBBIES_1_009                  HOBBIES_1_010  ...   \ndept_id                       HOBBIES_1                      HOBBIES_1  ...   \ncat_id                          HOBBIES                        HOBBIES  ...   \nstore_id                           CA_1                           CA_1  ...   \nstate_id                             CA                             CA  ...   \nd_1                                   2                              0  ...   \nd_2                                   0                              0  ...   \n\n                                30480                        30481  \\\nid        FOODS_3_818_WI_3_validation  FOODS_3_819_WI_3_validation   \nitem_id                   FOODS_3_818                  FOODS_3_819   \ndept_id                       FOODS_3                      FOODS_3   \ncat_id                          FOODS                        FOODS   \nstore_id                         WI_3                         WI_3   \nstate_id                           WI                           WI   \nd_1                                 0                           14   \nd_2                                 0                           11   \n\n                                30482                        30483  \\\nid        FOODS_3_820_WI_3_validation  FOODS_3_821_WI_3_validation   \nitem_id                   FOODS_3_820                  FOODS_3_821   \ndept_id                       FOODS_3                      FOODS_3   \ncat_id                          FOODS                        FOODS   \nstore_id                         WI_3                         WI_3   \nstate_id                           WI                           WI   \nd_1                                 1                            0   \nd_2                                 1                            0   \n\n                                30484                        30485  \\\nid        FOODS_3_822_WI_3_validation  FOODS_3_823_WI_3_validation   \nitem_id                   FOODS_3_822                  FOODS_3_823   \ndept_id                       FOODS_3                      FOODS_3   \ncat_id                          FOODS                        FOODS   \nstore_id                         WI_3                         WI_3   \nstate_id                           WI                           WI   \nd_1                                 4                            0   \nd_2                                 4                            0   \n\n                                30486                        30487  \\\nid        FOODS_3_824_WI_3_validation  FOODS_3_825_WI_3_validation   \nitem_id                   FOODS_3_824                  FOODS_3_825   \ndept_id                       FOODS_3                      FOODS_3   \ncat_id                          FOODS                        FOODS   \nstore_id                         WI_3                         WI_3   \nstate_id                           WI                           WI   \nd_1                                 0                            0   \nd_2                                 0                            6   \n\n                                30488                        30489  \nid        FOODS_3_826_WI_3_validation  FOODS_3_827_WI_3_validation  \nitem_id                   FOODS_3_826                  FOODS_3_827  \ndept_id                       FOODS_3                      FOODS_3  \ncat_id                          FOODS                        FOODS  \nstore_id                         WI_3                         WI_3  \nstate_id                           WI                           WI  \nd_1                                 0                            0  \nd_2                                 0                            0  \n\n[8 rows x 30490 columns]",
      "text/html": "<div>\n<style scoped>\n    .dataframe tbody tr th:only-of-type {\n        vertical-align: middle;\n    }\n\n    .dataframe tbody tr th {\n        vertical-align: top;\n    }\n\n    .dataframe thead th {\n        text-align: right;\n    }\n</style>\n<table border=\"1\" class=\"dataframe\">\n  <thead>\n    <tr style=\"text-align: right;\">\n      <th></th>\n      <th>0</th>\n      <th>1</th>\n      <th>2</th>\n      <th>3</th>\n      <th>4</th>\n      <th>5</th>\n      <th>6</th>\n      <th>7</th>\n      <th>8</th>\n      <th>9</th>\n      <th>...</th>\n      <th>30480</th>\n      <th>30481</th>\n      <th>30482</th>\n      <th>30483</th>\n      <th>30484</th>\n      <th>30485</th>\n      <th>30486</th>\n      <th>30487</th>\n      <th>30488</th>\n      <th>30489</th>\n    </tr>\n  </thead>\n  <tbody>\n    <tr>\n      <th>id</th>\n      <td>HOBBIES_1_001_CA_1_validation</td>\n      <td>HOBBIES_1_002_CA_1_validation</td>\n      <td>HOBBIES_1_003_CA_1_validation</td>\n      <td>HOBBIES_1_004_CA_1_validation</td>\n      <td>HOBBIES_1_005_CA_1_validation</td>\n      <td>HOBBIES_1_006_CA_1_validation</td>\n      <td>HOBBIES_1_007_CA_1_validation</td>\n      <td>HOBBIES_1_008_CA_1_validation</td>\n      <td>HOBBIES_1_009_CA_1_validation</td>\n      <td>HOBBIES_1_010_CA_1_validation</td>\n      <td>...</td>\n      <td>FOODS_3_818_WI_3_validation</td>\n      <td>FOODS_3_819_WI_3_validation</td>\n      <td>FOODS_3_820_WI_3_validation</td>\n      <td>FOODS_3_821_WI_3_validation</td>\n      <td>FOODS_3_822_WI_3_validation</td>\n      <td>FOODS_3_823_WI_3_validation</td>\n      <td>FOODS_3_824_WI_3_validation</td>\n      <td>FOODS_3_825_WI_3_validation</td>\n      <td>FOODS_3_826_WI_3_validation</td>\n      <td>FOODS_3_827_WI_3_validation</td>\n    </tr>\n    <tr>\n      <th>item_id</th>\n      <td>HOBBIES_1_001</td>\n      <td>HOBBIES_1_002</td>\n      <td>HOBBIES_1_003</td>\n      <td>HOBBIES_1_004</td>\n      <td>HOBBIES_1_005</td>\n      <td>HOBBIES_1_006</td>\n      <td>HOBBIES_1_007</td>\n      <td>HOBBIES_1_008</td>\n      <td>HOBBIES_1_009</td>\n      <td>HOBBIES_1_010</td>\n      <td>...</td>\n      <td>FOODS_3_818</td>\n      <td>FOODS_3_819</td>\n      <td>FOODS_3_820</td>\n      <td>FOODS_3_821</td>\n      <td>FOODS_3_822</td>\n      <td>FOODS_3_823</td>\n      <td>FOODS_3_824</td>\n      <td>FOODS_3_825</td>\n      <td>FOODS_3_826</td>\n      <td>FOODS_3_827</td>\n    </tr>\n    <tr>\n      <th>dept_id</th>\n      <td>HOBBIES_1</td>\n      <td>HOBBIES_1</td>\n      <td>HOBBIES_1</td>\n      <td>HOBBIES_1</td>\n      <td>HOBBIES_1</td>\n      <td>HOBBIES_1</td>\n      <td>HOBBIES_1</td>\n      <td>HOBBIES_1</td>\n      <td>HOBBIES_1</td>\n      <td>HOBBIES_1</td>\n      <td>...</td>\n      <td>FOODS_3</td>\n      <td>FOODS_3</td>\n      <td>FOODS_3</td>\n      <td>FOODS_3</td>\n      <td>FOODS_3</td>\n      <td>FOODS_3</td>\n      <td>FOODS_3</td>\n      <td>FOODS_3</td>\n      <td>FOODS_3</td>\n      <td>FOODS_3</td>\n    </tr>\n    <tr>\n      <th>cat_id</th>\n      <td>HOBBIES</td>\n      <td>HOBBIES</td>\n      <td>HOBBIES</td>\n      <td>HOBBIES</td>\n      <td>HOBBIES</td>\n      <td>HOBBIES</td>\n      <td>HOBBIES</td>\n      <td>HOBBIES</td>\n      <td>HOBBIES</td>\n      <td>HOBBIES</td>\n      <td>...</td>\n      <td>FOODS</td>\n      <td>FOODS</td>\n      <td>FOODS</td>\n      <td>FOODS</td>\n      <td>FOODS</td>\n      <td>FOODS</td>\n      <td>FOODS</td>\n      <td>FOODS</td>\n      <td>FOODS</td>\n      <td>FOODS</td>\n    </tr>\n    <tr>\n      <th>store_id</th>\n      <td>CA_1</td>\n      <td>CA_1</td>\n      <td>CA_1</td>\n      <td>CA_1</td>\n      <td>CA_1</td>\n      <td>CA_1</td>\n      <td>CA_1</td>\n      <td>CA_1</td>\n      <td>CA_1</td>\n      <td>CA_1</td>\n      <td>...</td>\n      <td>WI_3</td>\n      <td>WI_3</td>\n      <td>WI_3</td>\n      <td>WI_3</td>\n      <td>WI_3</td>\n      <td>WI_3</td>\n      <td>WI_3</td>\n      <td>WI_3</td>\n      <td>WI_3</td>\n      <td>WI_3</td>\n    </tr>\n    <tr>\n      <th>state_id</th>\n      <td>CA</td>\n      <td>CA</td>\n      <td>CA</td>\n      <td>CA</td>\n      <td>CA</td>\n      <td>CA</td>\n      <td>CA</td>\n      <td>CA</td>\n      <td>CA</td>\n      <td>CA</td>\n      <td>...</td>\n      <td>WI</td>\n      <td>WI</td>\n      <td>WI</td>\n      <td>WI</td>\n      <td>WI</td>\n      <td>WI</td>\n      <td>WI</td>\n      <td>WI</td>\n      <td>WI</td>\n      <td>WI</td>\n    </tr>\n    <tr>\n      <th>d_1</th>\n      <td>0</td>\n      <td>0</td>\n      <td>0</td>\n      <td>0</td>\n      <td>0</td>\n      <td>0</td>\n      <td>0</td>\n      <td>12</td>\n      <td>2</td>\n      <td>0</td>\n      <td>...</td>\n      <td>0</td>\n      <td>14</td>\n      <td>1</td>\n      <td>0</td>\n      <td>4</td>\n      <td>0</td>\n      <td>0</td>\n      <td>0</td>\n      <td>0</td>\n      <td>0</td>\n    </tr>\n    <tr>\n      <th>d_2</th>\n      <td>0</td>\n      <td>0</td>\n      <td>0</td>\n      <td>0</td>\n      <td>0</td>\n      <td>0</td>\n      <td>0</td>\n      <td>15</td>\n      <td>0</td>\n      <td>0</td>\n      <td>...</td>\n      <td>0</td>\n      <td>11</td>\n      <td>1</td>\n      <td>0</td>\n      <td>4</td>\n      <td>0</td>\n      <td>0</td>\n      <td>6</td>\n      <td>0</td>\n      <td>0</td>\n    </tr>\n  </tbody>\n</table>\n<p>8 rows × 30490 columns</p>\n</div>"
     },
     "execution_count": 12,
     "metadata": {},
     "output_type": "execute_result"
    }
   ],
   "source": [
    "salestv_data_transposed.head(8)"
   ],
   "metadata": {
    "collapsed": false,
    "ExecuteTime": {
     "end_time": "2023-06-25T06:49:59.474582700Z",
     "start_time": "2023-06-25T06:49:59.455578300Z"
    }
   }
  },
  {
   "cell_type": "code",
   "execution_count": 13,
   "outputs": [
    {
     "data": {
      "text/plain": "(1919, 30490)"
     },
     "execution_count": 13,
     "metadata": {},
     "output_type": "execute_result"
    }
   ],
   "source": [
    "salestv_data_transposed.shape"
   ],
   "metadata": {
    "collapsed": false,
    "ExecuteTime": {
     "end_time": "2023-06-25T06:49:59.519592800Z",
     "start_time": "2023-06-25T06:49:59.473582600Z"
    }
   }
  },
  {
   "cell_type": "code",
   "execution_count": 14,
   "outputs": [
    {
     "data": {
      "text/plain": "     0      1      2      3      4      5      6      7      8      9      \\\nd_1    0.0    0.0    0.0    0.0    0.0    0.0    0.0   12.0    2.0    0.0   \nd_2    0.0    0.0    0.0    0.0    0.0    0.0    0.0   15.0    0.0    0.0   \nd_3    0.0    0.0    0.0    0.0    0.0    0.0    0.0    0.0    7.0    1.0   \nd_4    0.0    0.0    0.0    0.0    0.0    0.0    0.0    0.0    3.0    0.0   \nd_5    0.0    0.0    0.0    0.0    0.0    0.0    0.0    0.0    0.0    0.0   \nd_6    0.0    0.0    0.0    0.0    0.0    0.0    0.0    4.0    2.0    0.0   \nd_7    0.0    0.0    0.0    0.0    0.0    0.0    0.0    6.0    3.0    0.0   \nd_8    0.0    0.0    0.0    0.0    0.0    0.0    0.0    5.0    9.0    0.0   \n\n     ...  30480  30481  30482  30483  30484  30485  30486  30487  30488  30489  \nd_1  ...    0.0   14.0    1.0    0.0    4.0    0.0    0.0    0.0    0.0    0.0  \nd_2  ...    0.0   11.0    1.0    0.0    4.0    0.0    0.0    6.0    0.0    0.0  \nd_3  ...    0.0    5.0    1.0    0.0    2.0    2.0    0.0    0.0    0.0    0.0  \nd_4  ...    0.0    6.0    1.0    0.0    5.0    2.0    0.0    2.0    0.0    0.0  \nd_5  ...    0.0    5.0    1.0    0.0    2.0    0.0    0.0    2.0    0.0    0.0  \nd_6  ...    0.0   13.0    2.0    0.0    7.0    3.0    5.0    4.0    0.0    0.0  \nd_7  ...    0.0   18.0    1.0    0.0    8.0    1.0    0.0    1.0    0.0    0.0  \nd_8  ...    0.0   13.0    3.0    0.0    4.0    4.0    1.0    8.0    0.0    0.0  \n\n[8 rows x 30490 columns]",
      "text/html": "<div>\n<style scoped>\n    .dataframe tbody tr th:only-of-type {\n        vertical-align: middle;\n    }\n\n    .dataframe tbody tr th {\n        vertical-align: top;\n    }\n\n    .dataframe thead th {\n        text-align: right;\n    }\n</style>\n<table border=\"1\" class=\"dataframe\">\n  <thead>\n    <tr style=\"text-align: right;\">\n      <th></th>\n      <th>0</th>\n      <th>1</th>\n      <th>2</th>\n      <th>3</th>\n      <th>4</th>\n      <th>5</th>\n      <th>6</th>\n      <th>7</th>\n      <th>8</th>\n      <th>9</th>\n      <th>...</th>\n      <th>30480</th>\n      <th>30481</th>\n      <th>30482</th>\n      <th>30483</th>\n      <th>30484</th>\n      <th>30485</th>\n      <th>30486</th>\n      <th>30487</th>\n      <th>30488</th>\n      <th>30489</th>\n    </tr>\n  </thead>\n  <tbody>\n    <tr>\n      <th>d_1</th>\n      <td>0.0</td>\n      <td>0.0</td>\n      <td>0.0</td>\n      <td>0.0</td>\n      <td>0.0</td>\n      <td>0.0</td>\n      <td>0.0</td>\n      <td>12.0</td>\n      <td>2.0</td>\n      <td>0.0</td>\n      <td>...</td>\n      <td>0.0</td>\n      <td>14.0</td>\n      <td>1.0</td>\n      <td>0.0</td>\n      <td>4.0</td>\n      <td>0.0</td>\n      <td>0.0</td>\n      <td>0.0</td>\n      <td>0.0</td>\n      <td>0.0</td>\n    </tr>\n    <tr>\n      <th>d_2</th>\n      <td>0.0</td>\n      <td>0.0</td>\n      <td>0.0</td>\n      <td>0.0</td>\n      <td>0.0</td>\n      <td>0.0</td>\n      <td>0.0</td>\n      <td>15.0</td>\n      <td>0.0</td>\n      <td>0.0</td>\n      <td>...</td>\n      <td>0.0</td>\n      <td>11.0</td>\n      <td>1.0</td>\n      <td>0.0</td>\n      <td>4.0</td>\n      <td>0.0</td>\n      <td>0.0</td>\n      <td>6.0</td>\n      <td>0.0</td>\n      <td>0.0</td>\n    </tr>\n    <tr>\n      <th>d_3</th>\n      <td>0.0</td>\n      <td>0.0</td>\n      <td>0.0</td>\n      <td>0.0</td>\n      <td>0.0</td>\n      <td>0.0</td>\n      <td>0.0</td>\n      <td>0.0</td>\n      <td>7.0</td>\n      <td>1.0</td>\n      <td>...</td>\n      <td>0.0</td>\n      <td>5.0</td>\n      <td>1.0</td>\n      <td>0.0</td>\n      <td>2.0</td>\n      <td>2.0</td>\n      <td>0.0</td>\n      <td>0.0</td>\n      <td>0.0</td>\n      <td>0.0</td>\n    </tr>\n    <tr>\n      <th>d_4</th>\n      <td>0.0</td>\n      <td>0.0</td>\n      <td>0.0</td>\n      <td>0.0</td>\n      <td>0.0</td>\n      <td>0.0</td>\n      <td>0.0</td>\n      <td>0.0</td>\n      <td>3.0</td>\n      <td>0.0</td>\n      <td>...</td>\n      <td>0.0</td>\n      <td>6.0</td>\n      <td>1.0</td>\n      <td>0.0</td>\n      <td>5.0</td>\n      <td>2.0</td>\n      <td>0.0</td>\n      <td>2.0</td>\n      <td>0.0</td>\n      <td>0.0</td>\n    </tr>\n    <tr>\n      <th>d_5</th>\n      <td>0.0</td>\n      <td>0.0</td>\n      <td>0.0</td>\n      <td>0.0</td>\n      <td>0.0</td>\n      <td>0.0</td>\n      <td>0.0</td>\n      <td>0.0</td>\n      <td>0.0</td>\n      <td>0.0</td>\n      <td>...</td>\n      <td>0.0</td>\n      <td>5.0</td>\n      <td>1.0</td>\n      <td>0.0</td>\n      <td>2.0</td>\n      <td>0.0</td>\n      <td>0.0</td>\n      <td>2.0</td>\n      <td>0.0</td>\n      <td>0.0</td>\n    </tr>\n    <tr>\n      <th>d_6</th>\n      <td>0.0</td>\n      <td>0.0</td>\n      <td>0.0</td>\n      <td>0.0</td>\n      <td>0.0</td>\n      <td>0.0</td>\n      <td>0.0</td>\n      <td>4.0</td>\n      <td>2.0</td>\n      <td>0.0</td>\n      <td>...</td>\n      <td>0.0</td>\n      <td>13.0</td>\n      <td>2.0</td>\n      <td>0.0</td>\n      <td>7.0</td>\n      <td>3.0</td>\n      <td>5.0</td>\n      <td>4.0</td>\n      <td>0.0</td>\n      <td>0.0</td>\n    </tr>\n    <tr>\n      <th>d_7</th>\n      <td>0.0</td>\n      <td>0.0</td>\n      <td>0.0</td>\n      <td>0.0</td>\n      <td>0.0</td>\n      <td>0.0</td>\n      <td>0.0</td>\n      <td>6.0</td>\n      <td>3.0</td>\n      <td>0.0</td>\n      <td>...</td>\n      <td>0.0</td>\n      <td>18.0</td>\n      <td>1.0</td>\n      <td>0.0</td>\n      <td>8.0</td>\n      <td>1.0</td>\n      <td>0.0</td>\n      <td>1.0</td>\n      <td>0.0</td>\n      <td>0.0</td>\n    </tr>\n    <tr>\n      <th>d_8</th>\n      <td>0.0</td>\n      <td>0.0</td>\n      <td>0.0</td>\n      <td>0.0</td>\n      <td>0.0</td>\n      <td>0.0</td>\n      <td>0.0</td>\n      <td>5.0</td>\n      <td>9.0</td>\n      <td>0.0</td>\n      <td>...</td>\n      <td>0.0</td>\n      <td>13.0</td>\n      <td>3.0</td>\n      <td>0.0</td>\n      <td>4.0</td>\n      <td>4.0</td>\n      <td>1.0</td>\n      <td>8.0</td>\n      <td>0.0</td>\n      <td>0.0</td>\n    </tr>\n  </tbody>\n</table>\n<p>8 rows × 30490 columns</p>\n</div>"
     },
     "execution_count": 14,
     "metadata": {},
     "output_type": "execute_result"
    }
   ],
   "source": [
    "#remove first 6 rows as we do not need that to feed to our model\n",
    "salestv_data_cropped = salestv_data_transposed[6+startDay:].astype('float32')\n",
    "salestv_data_cropped.head(8)"
   ],
   "metadata": {
    "collapsed": false,
    "ExecuteTime": {
     "end_time": "2023-06-25T06:50:00.811890200Z",
     "start_time": "2023-06-25T06:49:59.492587Z"
    }
   }
  },
  {
   "cell_type": "code",
   "execution_count": 15,
   "outputs": [],
   "source": [
    "# Initialize a dataframe with zeros for 1969 days in the calendar\n",
    "\n",
    "daysBeforeEvent1 = pd.DataFrame(np.zeros((cal_data.shape[0], 1)))\n",
    "daysBeforeEvent2 = pd.DataFrame(np.zeros((cal_data.shape[0], 1)))\n",
    "\n",
    "snap_CA = cal_data[\"snap_CA\"]\n",
    "snap_TX = cal_data[\"snap_TX\"]\n",
    "snap_WI = cal_data[\"snap_WI\"]"
   ],
   "metadata": {
    "collapsed": false,
    "ExecuteTime": {
     "end_time": "2023-06-25T06:50:00.826900500Z",
     "start_time": "2023-06-25T06:50:00.812890600Z"
    }
   }
  },
  {
   "cell_type": "code",
   "execution_count": 16,
   "outputs": [],
   "source": [
    "# Label 1 to one day before the event_name_1\n",
    "# Label 1 to one day before the event_name_2\n",
    "# Sales are likely to increase one day before events like superbowl etc.\n",
    "\n",
    "for x, y in cal_data.iterrows():\n",
    "    if not (pd.isnull(cal_data[\"event_name_1\"][x])):\n",
    "        daysBeforeEvent1[0][x - 1] = 1\n",
    "\n",
    "    if not (pd.isnull(cal_data[\"event_name_2\"][x])):\n",
    "        daysBeforeEvent2[0][x - 1] = 1"
   ],
   "metadata": {
    "collapsed": false,
    "ExecuteTime": {
     "end_time": "2023-06-25T06:50:00.925922800Z",
     "start_time": "2023-06-25T06:50:00.828900700Z"
    }
   }
  },
  {
   "cell_type": "code",
   "execution_count": 17,
   "outputs": [
    {
     "data": {
      "text/plain": "(1969, 14)"
     },
     "execution_count": 17,
     "metadata": {},
     "output_type": "execute_result"
    }
   ],
   "source": [
    "cal_data.shape"
   ],
   "metadata": {
    "collapsed": false,
    "ExecuteTime": {
     "end_time": "2023-06-25T06:50:00.939925800Z",
     "start_time": "2023-06-25T06:50:00.924923Z"
    }
   }
  },
  {
   "cell_type": "code",
   "execution_count": 18,
   "outputs": [],
   "source": [
    "# input for training as a feature\n",
    "daysBeforeEvent1_train = daysBeforeEvent1[startDay:1913].astype('float32')\n",
    "daysBeforeEvent2_train = daysBeforeEvent2[startDay:1913].astype('float32')\n",
    "\n",
    "\n",
    "snap_CA_train = snap_CA[startDay:1913].astype('float32')\n",
    "snap_TX_train = snap_TX[startDay:1913].astype('float32')\n",
    "snap_WI_train = snap_WI[startDay:1913].astype('float32')"
   ],
   "metadata": {
    "collapsed": false,
    "ExecuteTime": {
     "end_time": "2023-06-25T06:50:00.985936300Z",
     "start_time": "2023-06-25T06:50:00.941926200Z"
    }
   }
  },
  {
   "cell_type": "code",
   "execution_count": 19,
   "outputs": [],
   "source": [
    "daysBeforeEvent1_test = daysBeforeEvent1[1913:1941].astype('float32')\n",
    "daysBeforeEvent2_test = daysBeforeEvent2[1913:1941].astype('float32')\n",
    "\n",
    "snap_CA_test = snap_CA[1913:1941].astype('float32')\n",
    "snap_TX_test = snap_TX[1913:1941].astype('float32')\n",
    "snap_WI_test = snap_WI[1913:1941].astype('float32')"
   ],
   "metadata": {
    "collapsed": false,
    "ExecuteTime": {
     "end_time": "2023-06-25T06:50:00.994938200Z",
     "start_time": "2023-06-25T06:50:00.956929800Z"
    }
   }
  },
  {
   "cell_type": "code",
   "execution_count": 20,
   "outputs": [
    {
     "name": "stdout",
     "output_type": "stream",
     "text": [
      "(1913, 1)\n",
      "(1913, 1)\n",
      "(28, 1)\n",
      "(28, 1)\n"
     ]
    }
   ],
   "source": [
    "print(daysBeforeEvent1_train.shape)\n",
    "print(daysBeforeEvent2_train.shape)\n",
    "print(daysBeforeEvent1_test.shape)\n",
    "print(daysBeforeEvent2_test.shape)"
   ],
   "metadata": {
    "collapsed": false,
    "ExecuteTime": {
     "end_time": "2023-06-25T06:50:00.994938200Z",
     "start_time": "2023-06-25T06:50:00.972933400Z"
    }
   }
  },
  {
   "cell_type": "code",
   "execution_count": 21,
   "outputs": [
    {
     "name": "stdout",
     "output_type": "stream",
     "text": [
      "(1913,)\n",
      "(1913,)\n",
      "(1913,)\n",
      "(28,)\n",
      "(28,)\n",
      "(28,)\n"
     ]
    }
   ],
   "source": [
    "print(snap_CA_train.shape)\n",
    "print(snap_TX_train.shape)\n",
    "print(snap_WI_train.shape)\n",
    "print(snap_CA_test.shape)\n",
    "print(snap_TX_test.shape)\n",
    "print(snap_WI_test.shape)"
   ],
   "metadata": {
    "collapsed": false,
    "ExecuteTime": {
     "end_time": "2023-06-25T06:50:01.003940300Z",
     "start_time": "2023-06-25T06:50:00.987937100Z"
    }
   }
  },
  {
   "cell_type": "code",
   "execution_count": 22,
   "outputs": [],
   "source": [
    "#Before concatanation with our main data \"dt\", indexes are made same and column name is changed to \"oneDayBeforeEvent\"\n",
    "daysBeforeEvent1_train.columns = [\"oneDayBeforeEvent1\"]\n",
    "daysBeforeEvent1_train.index = salestv_data_cropped.index\n",
    "\n",
    "daysBeforeEvent2_train.columns = [\"oneDayBeforeEvent2\"]\n",
    "daysBeforeEvent2_train.index = salestv_data_cropped.index\n",
    "\n",
    "snap_CA_train.columns = [\"snap_CA\"]\n",
    "snap_CA_train.index = salestv_data_cropped.index\n",
    "\n",
    "snap_TX_train.columns = [\"snap_TX\"]\n",
    "snap_TX_train.index = salestv_data_cropped.index\n",
    "\n",
    "snap_WI_train.columns = [\"snap_WI\"]\n",
    "snap_WI_train.index = salestv_data_cropped.index"
   ],
   "metadata": {
    "collapsed": false,
    "ExecuteTime": {
     "end_time": "2023-06-25T06:50:01.049950700Z",
     "start_time": "2023-06-25T06:50:01.003940300Z"
    }
   }
  },
  {
   "cell_type": "code",
   "execution_count": 23,
   "outputs": [
    {
     "name": "stdout",
     "output_type": "stream",
     "text": [
      "          0    1    2    3    4    5    6     7    8    9  ...  30485  30486  \\\n",
      "d_1     0.0  0.0  0.0  0.0  0.0  0.0  0.0  12.0  2.0  0.0  ...    0.0    0.0   \n",
      "d_2     0.0  0.0  0.0  0.0  0.0  0.0  0.0  15.0  0.0  0.0  ...    0.0    0.0   \n",
      "d_3     0.0  0.0  0.0  0.0  0.0  0.0  0.0   0.0  7.0  1.0  ...    2.0    0.0   \n",
      "d_4     0.0  0.0  0.0  0.0  0.0  0.0  0.0   0.0  3.0  0.0  ...    2.0    0.0   \n",
      "d_5     0.0  0.0  0.0  0.0  0.0  0.0  0.0   0.0  0.0  0.0  ...    0.0    0.0   \n",
      "...     ...  ...  ...  ...  ...  ...  ...   ...  ...  ...  ...    ...    ...   \n",
      "d_1909  1.0  1.0  1.0  0.0  1.0  0.0  1.0   4.0  0.0  0.0  ...    0.0    0.0   \n",
      "d_1910  3.0  0.0  0.0  1.0  2.0  0.0  0.0   6.0  0.0  0.0  ...    1.0    0.0   \n",
      "d_1911  0.0  0.0  1.0  3.0  2.0  2.0  0.0   3.0  0.0  2.0  ...    0.0    0.0   \n",
      "d_1912  1.0  0.0  1.0  7.0  2.0  0.0  1.0   2.0  0.0  0.0  ...    0.0    1.0   \n",
      "d_1913  1.0  0.0  1.0  2.0  4.0  0.0  1.0   1.0  0.0  2.0  ...    1.0    0.0   \n",
      "\n",
      "        30487  30488  30489  oneDayBeforeEvent1  oneDayBeforeEvent2  snap_CA  \\\n",
      "d_1       0.0    0.0    0.0                 0.0                 0.0      0.0   \n",
      "d_2       6.0    0.0    0.0                 0.0                 0.0      0.0   \n",
      "d_3       0.0    0.0    0.0                 0.0                 0.0      0.0   \n",
      "d_4       2.0    0.0    0.0                 0.0                 0.0      1.0   \n",
      "d_5       2.0    0.0    0.0                 0.0                 0.0      1.0   \n",
      "...       ...    ...    ...                 ...                 ...      ...   \n",
      "d_1909    1.0    1.0    0.0                 0.0                 0.0      0.0   \n",
      "d_1910    0.0    0.0    0.0                 0.0                 0.0      0.0   \n",
      "d_1911    0.0    3.0    0.0                 0.0                 0.0      0.0   \n",
      "d_1912    1.0    1.0    0.0                 0.0                 0.0      0.0   \n",
      "d_1913    0.0    3.0    0.0                 0.0                 0.0      0.0   \n",
      "\n",
      "        snap_TX  snap_WI  \n",
      "d_1         0.0      0.0  \n",
      "d_2         0.0      0.0  \n",
      "d_3         0.0      0.0  \n",
      "d_4         1.0      0.0  \n",
      "d_5         0.0      1.0  \n",
      "...         ...      ...  \n",
      "d_1909      0.0      0.0  \n",
      "d_1910      0.0      0.0  \n",
      "d_1911      0.0      0.0  \n",
      "d_1912      0.0      0.0  \n",
      "d_1913      0.0      0.0  \n",
      "\n",
      "[1913 rows x 30495 columns]\n"
     ]
    }
   ],
   "source": [
    "final_data = pd.concat([salestv_data_cropped, daysBeforeEvent1_train, daysBeforeEvent2_train,\n",
    "                         snap_CA_train, snap_TX_train, snap_WI_train], axis = 1, sort=False)\n",
    "print(final_data)"
   ],
   "metadata": {
    "collapsed": false,
    "ExecuteTime": {
     "end_time": "2023-06-25T06:50:01.162980700Z",
     "start_time": "2023-06-25T06:50:01.020944400Z"
    }
   }
  },
  {
   "cell_type": "code",
   "execution_count": 24,
   "outputs": [
    {
     "name": "stdout",
     "output_type": "stream",
     "text": [
      "<class 'pandas.core.frame.DataFrame'>\n",
      "Index: 1913 entries, d_1 to d_1913\n",
      "Columns: 30495 entries, 0 to snap_WI\n",
      "dtypes: float32(30495)\n",
      "memory usage: 222.6+ MB\n"
     ]
    }
   ],
   "source": [
    "final_data.info()"
   ],
   "metadata": {
    "collapsed": false,
    "ExecuteTime": {
     "end_time": "2023-06-25T06:50:02.060183400Z",
     "start_time": "2023-06-25T06:50:01.163979900Z"
    }
   }
  },
  {
   "cell_type": "code",
   "execution_count": 25,
   "outputs": [
    {
     "data": {
      "text/plain": "(1913, 30495)"
     },
     "execution_count": 25,
     "metadata": {},
     "output_type": "execute_result"
    }
   ],
   "source": [
    "final_data.shape"
   ],
   "metadata": {
    "collapsed": false,
    "ExecuteTime": {
     "end_time": "2023-06-25T06:50:02.106287400Z",
     "start_time": "2023-06-25T06:50:02.060183400Z"
    }
   }
  },
  {
   "cell_type": "code",
   "execution_count": 26,
   "outputs": [
    {
     "name": "stdout",
     "output_type": "stream",
     "text": [
      "[[0.         0.         0.         ... 0.         0.         0.        ]\n",
      " [0.         0.         0.         ... 0.         0.         0.        ]\n",
      " [0.         0.         0.         ... 0.         0.         0.        ]\n",
      " ...\n",
      " [0.         0.         0.16666667 ... 0.         0.         0.        ]\n",
      " [0.2        0.         0.16666667 ... 0.         0.         0.        ]\n",
      " [0.2        0.         0.16666667 ... 0.         0.         0.        ]]\n"
     ]
    }
   ],
   "source": [
    "# Feature scaling\n",
    "# Scale the features using MinMaxScaler in range 0-1\n",
    "from sklearn.preprocessing import MinMaxScaler\n",
    "\n",
    "sc = MinMaxScaler(feature_range=(0,1))\n",
    "final_data.columns = final_data.columns.astype(str)\n",
    "final_data_scaled = sc.fit_transform(final_data)\n",
    "\n",
    "print(final_data_scaled)"
   ],
   "metadata": {
    "collapsed": false,
    "ExecuteTime": {
     "end_time": "2023-06-25T06:50:02.619403500Z",
     "start_time": "2023-06-25T06:50:02.075280600Z"
    }
   }
  },
  {
   "cell_type": "code",
   "execution_count": 27,
   "outputs": [],
   "source": [
    "# creating sequences for LSTM model training\n",
    "X_train = []\n",
    "y_train = []\n",
    "\n",
    "for i in range(timesteps,1913-startDay):\n",
    "    X_train.append(final_data_scaled[i-timesteps:i])\n",
    "    y_train.append(final_data_scaled[i][0:30490])\n",
    "    #İmportant!! if extra features are added (like oneDayBeforeEvent)\n",
    "    #use only sales values for predictions (we only predict sales)\n",
    "    #this is why 0:30490 columns are choosen"
   ],
   "metadata": {
    "collapsed": false,
    "ExecuteTime": {
     "end_time": "2023-06-25T06:50:02.634990400Z",
     "start_time": "2023-06-25T06:50:02.621404600Z"
    }
   }
  },
  {
   "cell_type": "code",
   "execution_count": 28,
   "outputs": [
    {
     "name": "stdout",
     "output_type": "stream",
     "text": [
      "(1899, 14, 30495)\n",
      "(1899, 30490)\n"
     ]
    }
   ],
   "source": [
    "X_train = np.array(X_train)\n",
    "y_train = np.array(y_train)\n",
    "print(X_train.shape)\n",
    "print(y_train.shape)"
   ],
   "metadata": {
    "collapsed": false,
    "ExecuteTime": {
     "end_time": "2023-06-25T06:50:04.041317600Z",
     "start_time": "2023-06-25T06:50:02.634990400Z"
    }
   }
  },
  {
   "cell_type": "code",
   "execution_count": 29,
   "outputs": [
    {
     "name": "stdout",
     "output_type": "stream",
     "text": [
      "Number of NaN values in X_train: 0\n",
      "Number of NaN values in y_train: 0\n"
     ]
    }
   ],
   "source": [
    "# Count NaN values in X_train\n",
    "nan_count_X_train = np.sum(np.isnan(X_train))\n",
    "print(\"Number of NaN values in X_train:\", nan_count_X_train)\n",
    "\n",
    "# Count NaN values in y_train\n",
    "nan_count_y_train = np.sum(np.isnan(y_train))\n",
    "print(\"Number of NaN values in y_train:\", nan_count_y_train)"
   ],
   "metadata": {
    "collapsed": false,
    "ExecuteTime": {
     "end_time": "2023-06-25T06:50:04.697470500Z",
     "start_time": "2023-06-25T06:50:04.043318100Z"
    }
   }
  },
  {
   "cell_type": "code",
   "execution_count": 31,
   "outputs": [
    {
     "name": "stdout",
     "output_type": "stream",
     "text": [
      "Model: \"sequential\"\n",
      "_________________________________________________________________\n",
      " Layer (type)                Output Shape              Param #   \n",
      "=================================================================\n",
      " conv1d (Conv1D)             (None, 14, 128)           27323648  \n",
      "                                                                 \n",
      " max_pooling1d (MaxPooling1D  (None, 7, 128)           0         \n",
      " )                                                               \n",
      "                                                                 \n",
      " conv1d_1 (Conv1D)           (None, 7, 64)             57408     \n",
      "                                                                 \n",
      " max_pooling1d_1 (MaxPooling  (None, 3, 64)            0         \n",
      " 1D)                                                             \n",
      "                                                                 \n",
      " bidirectional (Bidirectiona  (None, 3, 1024)          2363392   \n",
      " l)                                                              \n",
      "                                                                 \n",
      " batch_normalization (BatchN  (None, 3, 1024)          4096      \n",
      " ormalization)                                                   \n",
      "                                                                 \n",
      " bidirectional_1 (Bidirectio  (None, 3, 512)           2623488   \n",
      " nal)                                                            \n",
      "                                                                 \n",
      " batch_normalization_1 (Batc  (None, 3, 512)           2048      \n",
      " hNormalization)                                                 \n",
      "                                                                 \n",
      " bidirectional_2 (Bidirectio  (None, 256)              656384    \n",
      " nal)                                                            \n",
      "                                                                 \n",
      " batch_normalization_2 (Batc  (None, 256)              1024      \n",
      " hNormalization)                                                 \n",
      "                                                                 \n",
      " dense (Dense)               (None, 30490)             7835930   \n",
      "                                                                 \n",
      "=================================================================\n",
      "Total params: 40,867,418\n",
      "Trainable params: 40,863,834\n",
      "Non-trainable params: 3,584\n",
      "_________________________________________________________________\n",
      "Epoch 1/150\n",
      "19/19 [==============================] - 25s 882ms/step - loss: 0.0234 - rmsse: 1.2425\n",
      "Epoch 2/150\n",
      "19/19 [==============================] - 17s 883ms/step - loss: 0.0175 - rmsse: 1.0527\n",
      "Epoch 3/150\n",
      "19/19 [==============================] - 17s 904ms/step - loss: 0.0151 - rmsse: 1.0146\n",
      "Epoch 4/150\n",
      "19/19 [==============================] - 17s 883ms/step - loss: 0.0135 - rmsse: 1.0025\n",
      "Epoch 5/150\n",
      "19/19 [==============================] - 17s 904ms/step - loss: 0.0131 - rmsse: 1.0223\n",
      "Epoch 6/150\n",
      "19/19 [==============================] - 17s 901ms/step - loss: 0.0129 - rmsse: 0.9825\n",
      "Epoch 7/150\n",
      "19/19 [==============================] - 17s 898ms/step - loss: 0.0128 - rmsse: 0.9527\n",
      "Epoch 8/150\n",
      "19/19 [==============================] - 17s 898ms/step - loss: 0.0127 - rmsse: 0.9207\n",
      "Epoch 9/150\n",
      "19/19 [==============================] - 17s 914ms/step - loss: 0.0126 - rmsse: 0.9187\n",
      "Epoch 10/150\n",
      "19/19 [==============================] - 17s 904ms/step - loss: 0.0126 - rmsse: 0.9041\n",
      "Epoch 11/150\n",
      "19/19 [==============================] - 17s 901ms/step - loss: 0.0125 - rmsse: 0.8891\n",
      "Epoch 12/150\n",
      "19/19 [==============================] - 17s 900ms/step - loss: 0.0125 - rmsse: 0.8889\n",
      "Epoch 13/150\n",
      "19/19 [==============================] - 17s 908ms/step - loss: 0.0124 - rmsse: 0.8791\n",
      "Epoch 14/150\n",
      "19/19 [==============================] - 17s 905ms/step - loss: 0.0123 - rmsse: 0.8657\n",
      "Epoch 15/150\n",
      "19/19 [==============================] - 17s 893ms/step - loss: 0.0122 - rmsse: 0.8623\n",
      "Epoch 16/150\n",
      "19/19 [==============================] - 17s 913ms/step - loss: 0.0122 - rmsse: 0.8661\n",
      "Epoch 17/150\n",
      "19/19 [==============================] - 17s 918ms/step - loss: 0.0122 - rmsse: 0.8612\n",
      "Epoch 18/150\n",
      "19/19 [==============================] - 17s 917ms/step - loss: 0.0121 - rmsse: 0.8554\n",
      "Epoch 19/150\n",
      "19/19 [==============================] - 17s 909ms/step - loss: 0.0121 - rmsse: 0.8453\n",
      "Epoch 20/150\n",
      "19/19 [==============================] - 17s 920ms/step - loss: 0.0120 - rmsse: 0.8566\n",
      "Epoch 21/150\n",
      "19/19 [==============================] - 17s 908ms/step - loss: 0.0120 - rmsse: 0.8464\n",
      "Epoch 22/150\n",
      "19/19 [==============================] - 18s 927ms/step - loss: 0.0119 - rmsse: 0.8453\n",
      "Epoch 23/150\n",
      "19/19 [==============================] - 17s 912ms/step - loss: 0.0119 - rmsse: 0.8496\n",
      "Epoch 24/150\n",
      "19/19 [==============================] - 17s 919ms/step - loss: 0.0119 - rmsse: 0.8352\n",
      "Epoch 25/150\n",
      "19/19 [==============================] - 17s 909ms/step - loss: 0.0118 - rmsse: 0.8372\n",
      "Epoch 26/150\n",
      "19/19 [==============================] - 18s 924ms/step - loss: 0.0118 - rmsse: 0.8341\n",
      "Epoch 27/150\n",
      "19/19 [==============================] - 17s 909ms/step - loss: 0.0117 - rmsse: 0.8325\n",
      "Epoch 28/150\n",
      "19/19 [==============================] - 18s 929ms/step - loss: 0.0117 - rmsse: 0.8259\n",
      "Epoch 29/150\n",
      "19/19 [==============================] - 17s 916ms/step - loss: 0.0117 - rmsse: 0.8373\n",
      "Epoch 30/150\n",
      "19/19 [==============================] - 18s 927ms/step - loss: 0.0116 - rmsse: 0.8273\n",
      "Epoch 31/150\n",
      "19/19 [==============================] - 17s 915ms/step - loss: 0.0116 - rmsse: 0.8237\n",
      "Epoch 32/150\n",
      "19/19 [==============================] - 18s 927ms/step - loss: 0.0116 - rmsse: 0.8259\n",
      "Epoch 33/150\n",
      "19/19 [==============================] - 17s 913ms/step - loss: 0.0115 - rmsse: 0.8180\n",
      "Epoch 34/150\n",
      "19/19 [==============================] - 18s 919ms/step - loss: 0.0115 - rmsse: 0.8177\n",
      "Epoch 35/150\n",
      "19/19 [==============================] - 17s 909ms/step - loss: 0.0114 - rmsse: 0.8157\n",
      "Epoch 36/150\n",
      "19/19 [==============================] - 17s 906ms/step - loss: 0.0114 - rmsse: 0.8211\n",
      "Epoch 37/150\n",
      "19/19 [==============================] - 17s 907ms/step - loss: 0.0114 - rmsse: 0.8150\n",
      "Epoch 38/150\n",
      "19/19 [==============================] - 18s 934ms/step - loss: 0.0113 - rmsse: 0.8152\n",
      "Epoch 39/150\n",
      "19/19 [==============================] - 17s 907ms/step - loss: 0.0113 - rmsse: 0.8107\n",
      "Epoch 40/150\n",
      "19/19 [==============================] - 17s 910ms/step - loss: 0.0113 - rmsse: 0.8136\n",
      "Epoch 41/150\n",
      "19/19 [==============================] - 17s 916ms/step - loss: 0.0112 - rmsse: 0.8102\n",
      "Epoch 42/150\n",
      "19/19 [==============================] - 17s 918ms/step - loss: 0.0112 - rmsse: 0.8076\n",
      "Epoch 43/150\n",
      "19/19 [==============================] - 17s 910ms/step - loss: 0.0111 - rmsse: 0.8066\n",
      "Epoch 44/150\n",
      "19/19 [==============================] - 17s 919ms/step - loss: 0.0111 - rmsse: 0.8001\n",
      "Epoch 45/150\n",
      "19/19 [==============================] - 18s 926ms/step - loss: 0.0110 - rmsse: 0.8006\n",
      "Epoch 46/150\n",
      "19/19 [==============================] - 17s 912ms/step - loss: 0.0110 - rmsse: 0.8077\n",
      "Epoch 47/150\n",
      "19/19 [==============================] - 17s 912ms/step - loss: 0.0110 - rmsse: 0.7961\n",
      "Epoch 48/150\n",
      "19/19 [==============================] - 17s 903ms/step - loss: 0.0109 - rmsse: 0.7974\n",
      "Epoch 49/150\n",
      "19/19 [==============================] - 17s 905ms/step - loss: 0.0109 - rmsse: 0.7925\n",
      "Epoch 50/150\n",
      "19/19 [==============================] - 17s 915ms/step - loss: 0.0108 - rmsse: 0.7937\n",
      "Epoch 51/150\n",
      "19/19 [==============================] - 17s 906ms/step - loss: 0.0108 - rmsse: 0.7866\n",
      "Epoch 52/150\n",
      "19/19 [==============================] - 17s 911ms/step - loss: 0.0108 - rmsse: 0.7899\n",
      "Epoch 53/150\n",
      "19/19 [==============================] - 18s 924ms/step - loss: 0.0107 - rmsse: 0.7905\n",
      "Epoch 54/150\n",
      "19/19 [==============================] - 17s 909ms/step - loss: 0.0107 - rmsse: 0.7845\n",
      "Epoch 55/150\n",
      "19/19 [==============================] - 17s 917ms/step - loss: 0.0106 - rmsse: 0.7845\n",
      "Epoch 56/150\n",
      "19/19 [==============================] - 17s 908ms/step - loss: 0.0106 - rmsse: 0.7862\n",
      "Epoch 57/150\n",
      "19/19 [==============================] - 17s 909ms/step - loss: 0.0106 - rmsse: 0.7816\n",
      "Epoch 58/150\n",
      "19/19 [==============================] - 17s 905ms/step - loss: 0.0105 - rmsse: 0.7774\n",
      "Epoch 59/150\n",
      "19/19 [==============================] - 17s 909ms/step - loss: 0.0104 - rmsse: 0.7806\n",
      "Epoch 60/150\n",
      "19/19 [==============================] - 17s 918ms/step - loss: 0.0104 - rmsse: 0.7777\n",
      "Epoch 61/150\n",
      "19/19 [==============================] - 17s 909ms/step - loss: 0.0104 - rmsse: 0.7744\n",
      "Epoch 62/150\n",
      "19/19 [==============================] - 17s 907ms/step - loss: 0.0103 - rmsse: 0.7790\n",
      "Epoch 63/150\n",
      "19/19 [==============================] - 17s 911ms/step - loss: 0.0103 - rmsse: 0.7745\n",
      "Epoch 64/150\n",
      "19/19 [==============================] - 17s 913ms/step - loss: 0.0103 - rmsse: 0.7748\n",
      "Epoch 65/150\n",
      "19/19 [==============================] - 17s 919ms/step - loss: 0.0103 - rmsse: 0.7694\n",
      "Epoch 66/150\n",
      "19/19 [==============================] - 17s 913ms/step - loss: 0.0102 - rmsse: 0.7721\n",
      "Epoch 67/150\n",
      "19/19 [==============================] - 17s 913ms/step - loss: 0.0102 - rmsse: 0.7644\n",
      "Epoch 68/150\n",
      "19/19 [==============================] - 17s 913ms/step - loss: 0.0101 - rmsse: 0.7648\n",
      "Epoch 69/150\n",
      "19/19 [==============================] - 17s 904ms/step - loss: 0.0101 - rmsse: 0.7647\n",
      "Epoch 70/150\n",
      "19/19 [==============================] - 18s 923ms/step - loss: 0.0100 - rmsse: 0.7610\n",
      "Epoch 71/150\n",
      "19/19 [==============================] - 17s 911ms/step - loss: 0.0100 - rmsse: 0.7622\n",
      "Epoch 72/150\n",
      "19/19 [==============================] - 17s 909ms/step - loss: 0.0100 - rmsse: 0.7641\n",
      "Epoch 73/150\n",
      "19/19 [==============================] - 17s 919ms/step - loss: 0.0099 - rmsse: 0.7576\n",
      "Epoch 74/150\n",
      "19/19 [==============================] - 17s 916ms/step - loss: 0.0099 - rmsse: 0.7603\n",
      "Epoch 75/150\n",
      "19/19 [==============================] - 18s 921ms/step - loss: 0.0099 - rmsse: 0.7568\n",
      "Epoch 76/150\n",
      "19/19 [==============================] - 17s 915ms/step - loss: 0.0099 - rmsse: 0.7549\n",
      "Epoch 77/150\n",
      "19/19 [==============================] - 17s 916ms/step - loss: 0.0099 - rmsse: 0.7547\n",
      "Epoch 78/150\n",
      "19/19 [==============================] - 17s 908ms/step - loss: 0.0098 - rmsse: 0.7542\n",
      "Epoch 79/150\n",
      "19/19 [==============================] - 17s 916ms/step - loss: 0.0098 - rmsse: 0.7531\n",
      "Epoch 80/150\n",
      "19/19 [==============================] - 17s 911ms/step - loss: 0.0098 - rmsse: 0.7550\n",
      "Epoch 81/150\n",
      "19/19 [==============================] - 17s 900ms/step - loss: 0.0098 - rmsse: 0.7511\n",
      "Epoch 82/150\n",
      "19/19 [==============================] - 17s 909ms/step - loss: 0.0097 - rmsse: 0.7524\n",
      "Epoch 83/150\n",
      "19/19 [==============================] - 17s 897ms/step - loss: 0.0097 - rmsse: 0.7557\n",
      "Epoch 84/150\n",
      "19/19 [==============================] - 17s 902ms/step - loss: 0.0097 - rmsse: 0.7535\n",
      "Epoch 85/150\n",
      "19/19 [==============================] - 17s 901ms/step - loss: 0.0097 - rmsse: 0.7505\n",
      "Epoch 86/150\n",
      "19/19 [==============================] - 17s 902ms/step - loss: 0.0097 - rmsse: 0.7501\n",
      "Epoch 87/150\n",
      "19/19 [==============================] - 17s 902ms/step - loss: 0.0097 - rmsse: 0.7523\n",
      "Epoch 88/150\n",
      "19/19 [==============================] - 17s 901ms/step - loss: 0.0097 - rmsse: 0.7508\n",
      "Epoch 89/150\n",
      "19/19 [==============================] - 17s 910ms/step - loss: 0.0096 - rmsse: 0.7488\n",
      "Epoch 90/150\n",
      "19/19 [==============================] - 17s 903ms/step - loss: 0.0096 - rmsse: 0.7485\n",
      "Epoch 91/150\n",
      "19/19 [==============================] - 17s 911ms/step - loss: 0.0096 - rmsse: 0.7458\n",
      "Epoch 92/150\n",
      "19/19 [==============================] - 17s 910ms/step - loss: 0.0096 - rmsse: 0.7479\n",
      "Epoch 93/150\n",
      "19/19 [==============================] - 17s 903ms/step - loss: 0.0096 - rmsse: 0.7434\n",
      "Epoch 94/150\n",
      "19/19 [==============================] - 17s 915ms/step - loss: 0.0096 - rmsse: 0.7490\n",
      "Epoch 95/150\n",
      "19/19 [==============================] - 17s 915ms/step - loss: 0.0096 - rmsse: 0.7461\n",
      "Epoch 96/150\n",
      "19/19 [==============================] - 17s 902ms/step - loss: 0.0096 - rmsse: 0.7426\n",
      "Epoch 97/150\n",
      "19/19 [==============================] - 18s 928ms/step - loss: 0.0095 - rmsse: 0.7420\n",
      "Epoch 98/150\n",
      "19/19 [==============================] - 17s 916ms/step - loss: 0.0095 - rmsse: 0.7442\n",
      "Epoch 99/150\n",
      "19/19 [==============================] - 17s 904ms/step - loss: 0.0096 - rmsse: 0.7475\n",
      "Epoch 100/150\n",
      "19/19 [==============================] - 17s 904ms/step - loss: 0.0095 - rmsse: 0.7408\n",
      "Epoch 101/150\n",
      "19/19 [==============================] - 17s 903ms/step - loss: 0.0095 - rmsse: 0.7423\n",
      "Epoch 102/150\n",
      "19/19 [==============================] - 17s 906ms/step - loss: 0.0095 - rmsse: 0.7417\n",
      "Epoch 103/150\n",
      "19/19 [==============================] - 17s 903ms/step - loss: 0.0095 - rmsse: 0.7381\n",
      "Epoch 104/150\n",
      "19/19 [==============================] - 17s 908ms/step - loss: 0.0095 - rmsse: 0.7370\n",
      "Epoch 105/150\n",
      "19/19 [==============================] - 17s 922ms/step - loss: 0.0095 - rmsse: 0.7434\n",
      "Epoch 106/150\n",
      "19/19 [==============================] - 18s 924ms/step - loss: 0.0095 - rmsse: 0.7417\n",
      "Epoch 107/150\n",
      "19/19 [==============================] - 17s 910ms/step - loss: 0.0095 - rmsse: 0.7419\n",
      "Epoch 108/150\n",
      "19/19 [==============================] - 17s 909ms/step - loss: 0.0095 - rmsse: 0.7400\n",
      "Epoch 109/150\n",
      "19/19 [==============================] - 17s 907ms/step - loss: 0.0095 - rmsse: 0.7394\n",
      "Epoch 110/150\n",
      "19/19 [==============================] - 17s 911ms/step - loss: 0.0095 - rmsse: 0.7400\n",
      "Epoch 111/150\n",
      "19/19 [==============================] - 17s 911ms/step - loss: 0.0095 - rmsse: 0.7383\n",
      "Epoch 112/150\n",
      "19/19 [==============================] - 17s 909ms/step - loss: 0.0095 - rmsse: 0.7391\n",
      "Epoch 113/150\n",
      "19/19 [==============================] - 17s 916ms/step - loss: 0.0094 - rmsse: 0.7355\n",
      "Epoch 114/150\n",
      "19/19 [==============================] - 17s 907ms/step - loss: 0.0094 - rmsse: 0.7388\n",
      "Epoch 115/150\n",
      "19/19 [==============================] - 17s 915ms/step - loss: 0.0094 - rmsse: 0.7385\n",
      "Epoch 116/150\n",
      "19/19 [==============================] - 17s 908ms/step - loss: 0.0094 - rmsse: 0.7417\n",
      "Epoch 117/150\n",
      "19/19 [==============================] - 17s 905ms/step - loss: 0.0094 - rmsse: 0.7368\n",
      "Epoch 118/150\n",
      "19/19 [==============================] - 17s 917ms/step - loss: 0.0094 - rmsse: 0.7372\n",
      "Epoch 119/150\n",
      "19/19 [==============================] - 18s 927ms/step - loss: 0.0094 - rmsse: 0.7373\n",
      "Epoch 120/150\n",
      "19/19 [==============================] - 17s 910ms/step - loss: 0.0094 - rmsse: 0.7377\n",
      "Epoch 121/150\n",
      "19/19 [==============================] - 17s 909ms/step - loss: 0.0094 - rmsse: 0.7384\n",
      "Epoch 122/150\n",
      "19/19 [==============================] - 17s 903ms/step - loss: 0.0094 - rmsse: 0.7357\n",
      "Epoch 123/150\n",
      "19/19 [==============================] - 17s 902ms/step - loss: 0.0094 - rmsse: 0.7349\n",
      "Epoch 124/150\n",
      "19/19 [==============================] - 17s 907ms/step - loss: 0.0094 - rmsse: 0.7358\n",
      "Epoch 125/150\n",
      "19/19 [==============================] - 17s 907ms/step - loss: 0.0094 - rmsse: 0.7361\n",
      "Epoch 126/150\n",
      "19/19 [==============================] - 17s 921ms/step - loss: 0.0094 - rmsse: 0.7367\n",
      "Epoch 127/150\n",
      "19/19 [==============================] - 17s 918ms/step - loss: 0.0094 - rmsse: 0.7375\n",
      "Epoch 128/150\n",
      "19/19 [==============================] - 17s 913ms/step - loss: 0.0094 - rmsse: 0.7362\n",
      "Epoch 129/150\n",
      "19/19 [==============================] - 17s 910ms/step - loss: 0.0094 - rmsse: 0.7389\n",
      "Epoch 130/150\n",
      "19/19 [==============================] - 17s 908ms/step - loss: 0.0094 - rmsse: 0.7361\n",
      "Epoch 131/150\n",
      "19/19 [==============================] - 17s 914ms/step - loss: 0.0094 - rmsse: 0.7360\n",
      "Epoch 132/150\n",
      "19/19 [==============================] - 17s 904ms/step - loss: 0.0093 - rmsse: 0.7348\n",
      "Epoch 133/150\n",
      "19/19 [==============================] - 17s 917ms/step - loss: 0.0093 - rmsse: 0.7352\n",
      "Epoch 134/150\n",
      "19/19 [==============================] - 18s 925ms/step - loss: 0.0093 - rmsse: 0.7346\n",
      "Epoch 135/150\n",
      "19/19 [==============================] - 17s 902ms/step - loss: 0.0094 - rmsse: 0.7401\n",
      "Epoch 136/150\n",
      "19/19 [==============================] - 17s 901ms/step - loss: 0.0093 - rmsse: 0.7368\n",
      "Epoch 137/150\n",
      "19/19 [==============================] - 17s 918ms/step - loss: 0.0093 - rmsse: 0.7349\n",
      "Epoch 138/150\n",
      "19/19 [==============================] - 17s 911ms/step - loss: 0.0093 - rmsse: 0.7386\n",
      "Epoch 139/150\n",
      "19/19 [==============================] - 17s 909ms/step - loss: 0.0093 - rmsse: 0.7359\n",
      "Epoch 140/150\n",
      "19/19 [==============================] - 17s 906ms/step - loss: 0.0093 - rmsse: 0.7351\n",
      "Epoch 141/150\n",
      "19/19 [==============================] - 17s 913ms/step - loss: 0.0093 - rmsse: 0.7353\n",
      "Epoch 142/150\n",
      "19/19 [==============================] - 17s 912ms/step - loss: 0.0093 - rmsse: 0.7352\n",
      "Epoch 143/150\n",
      "19/19 [==============================] - 17s 908ms/step - loss: 0.0093 - rmsse: 0.7350\n",
      "Epoch 144/150\n",
      "19/19 [==============================] - 18s 928ms/step - loss: 0.0093 - rmsse: 0.7355\n",
      "Epoch 145/150\n",
      "19/19 [==============================] - 17s 913ms/step - loss: 0.0093 - rmsse: 0.7358\n",
      "Epoch 146/150\n",
      "19/19 [==============================] - 17s 908ms/step - loss: 0.0093 - rmsse: 0.7363\n",
      "Epoch 147/150\n",
      "19/19 [==============================] - 17s 920ms/step - loss: 0.0093 - rmsse: 0.7348\n",
      "Epoch 148/150\n",
      "19/19 [==============================] - 17s 913ms/step - loss: 0.0093 - rmsse: 0.7332\n",
      "Epoch 149/150\n",
      "19/19 [==============================] - 17s 896ms/step - loss: 0.0093 - rmsse: 0.7354\n",
      "Epoch 150/150\n",
      "19/19 [==============================] - 17s 906ms/step - loss: 0.0093 - rmsse: 0.7355\n"
     ]
    },
    {
     "data": {
      "text/plain": "<keras.callbacks.History at 0x168e52f0700>"
     },
     "execution_count": 31,
     "metadata": {},
     "output_type": "execute_result"
    }
   ],
   "source": [
    "from keras.backend import *\n",
    "import tensorflow as tf\n",
    "from keras.callbacks import EarlyStopping\n",
    "\n",
    "tf.random.set_seed(42)\n",
    "np.random.seed(42)\n",
    "\n",
    "n_timesteps = X_train.shape[1] #28\n",
    "n_products = X_train.shape[2] # all 30490 products + 5 features\n",
    "\n",
    "\n",
    "model = tf.keras.models.Sequential([\n",
    "    tf.keras.layers.Conv1D(filters=128, kernel_size=7,\n",
    "                           strides=1, padding=\"causal\",\n",
    "                           activation=\"relu\",\n",
    "                           input_shape=(n_timesteps, n_products)),\n",
    "    tf.keras.layers.MaxPooling1D(),\n",
    "    tf.keras.layers.Conv1D(filters=64, kernel_size=7,\n",
    "                           strides=1, activation='relu', padding=\"causal\"),\n",
    "    tf.keras.layers.MaxPooling1D(),\n",
    "    tf.keras.layers.Bidirectional(tf.keras.layers.LSTM(512, return_sequences=True)),\n",
    "    tf.keras.layers.BatchNormalization(),\n",
    "    tf.keras.layers.Bidirectional(tf.keras.layers.LSTM(256, return_sequences=True)),\n",
    "    tf.keras.layers.BatchNormalization(),\n",
    "    tf.keras.layers.Bidirectional(tf.keras.layers.LSTM(128)),\n",
    "    tf.keras.layers.BatchNormalization(),\n",
    "    tf.keras.layers.Dense(30490)\n",
    "])\n",
    "\n",
    "\n",
    "opt_adam = tf.keras.optimizers.Adam(clipvalue=0.5)\n",
    "\n",
    "def rmsse(y_true, y_pred):\n",
    "    scaling_factor = tf.sqrt(tf.reduce_mean(tf.square(y_true), axis=1))\n",
    "    error = y_true - y_pred\n",
    "    rmsse = tf.sqrt(tf.reduce_mean(tf.square(error), axis=1)) / scaling_factor\n",
    "    return rmsse\n",
    "\n",
    "model.compile(loss='mean_squared_error',\n",
    "              optimizer=opt_adam,\n",
    "              metrics=[rmsse])\n",
    "\n",
    "model.summary()\n",
    "\n",
    "# Clear TensorFlow session\n",
    "tf.keras.backend.clear_session()\n",
    "\n",
    "es = EarlyStopping(monitor='val_loss', mode='min', verbose=1, patience=100)\n",
    "# Training parameters\n",
    "epochs = 150\n",
    "batch_size = 100\n",
    "\n",
    "# Training the model\n",
    "model.fit(X_train, y_train, epochs=epochs, batch_size=batch_size)\n"
   ],
   "metadata": {
    "collapsed": false
   }
  },
  {
   "cell_type": "code",
   "execution_count": 33,
   "outputs": [
    {
     "name": "stdout",
     "output_type": "stream",
     "text": [
      "[[0.         0.         0.         ... 0.         1.         1.        ]\n",
      " [0.         0.         0.         ... 0.         1.         1.        ]\n",
      " [0.         0.         0.16666667 ... 0.         1.         0.        ]\n",
      " ...\n",
      " [0.         0.         0.16666667 ... 0.         0.         0.        ]\n",
      " [0.2        0.         0.16666667 ... 0.         0.         0.        ]\n",
      " [0.2        0.         0.16666667 ... 0.         0.         0.        ]]\n"
     ]
    }
   ],
   "source": [
    "inputs = final_data[-timesteps:]\n",
    "inputs = sc.transform(inputs)\n",
    "print(inputs)"
   ],
   "metadata": {
    "collapsed": false,
    "ExecuteTime": {
     "end_time": "2023-06-25T07:33:33.749994900Z",
     "start_time": "2023-06-25T07:33:33.558950200Z"
    }
   }
  },
  {
   "cell_type": "code",
   "execution_count": 34,
   "outputs": [
    {
     "name": "stdout",
     "output_type": "stream",
     "text": [
      "(1, 14, 30495)\n",
      "1/1 [==============================] - 2s 2s/step\n",
      "1/1 [==============================] - 0s 42ms/step\n",
      "1/1 [==============================] - 0s 45ms/step\n",
      "1/1 [==============================] - 0s 43ms/step\n",
      "1/1 [==============================] - 0s 44ms/step\n",
      "1/1 [==============================] - 0s 44ms/step\n",
      "1/1 [==============================] - 0s 44ms/step\n",
      "1/1 [==============================] - 0s 42ms/step\n",
      "1/1 [==============================] - 0s 43ms/step\n",
      "1/1 [==============================] - 0s 43ms/step\n",
      "1/1 [==============================] - 0s 44ms/step\n",
      "1/1 [==============================] - 0s 42ms/step\n",
      "1/1 [==============================] - 0s 44ms/step\n",
      "1/1 [==============================] - 0s 44ms/step\n",
      "1/1 [==============================] - 0s 42ms/step\n",
      "1/1 [==============================] - 0s 42ms/step\n",
      "1/1 [==============================] - 0s 44ms/step\n",
      "1/1 [==============================] - 0s 45ms/step\n",
      "1/1 [==============================] - 0s 41ms/step\n",
      "1/1 [==============================] - 0s 44ms/step\n",
      "1/1 [==============================] - 0s 43ms/step\n",
      "1/1 [==============================] - 0s 44ms/step\n",
      "1/1 [==============================] - 0s 43ms/step\n",
      "1/1 [==============================] - 0s 42ms/step\n",
      "1/1 [==============================] - 0s 44ms/step\n",
      "1/1 [==============================] - 0s 43ms/step\n",
      "1/1 [==============================] - 0s 42ms/step\n",
      "1/1 [==============================] - 0s 42ms/step\n",
      "(1, 30495)\n"
     ]
    }
   ],
   "source": [
    "X_test = []\n",
    "X_test.append(inputs[0:timesteps])\n",
    "X_test = np.array(X_test)\n",
    "print(X_test.shape)\n",
    "predictions = []\n",
    "testInput = None\n",
    "\n",
    "for j in range(timesteps,timesteps + 28):\n",
    "    predicted_sales  = model.predict(X_test[0,j - timesteps:j].reshape(1, timesteps, 30495))\n",
    "\n",
    "    testInput = np.column_stack((np.array(predicted_sales),\n",
    "                                 daysBeforeEvent1_test.loc[1913 + j - timesteps],\n",
    "                                 daysBeforeEvent2_test.loc[1913 + j - timesteps],\n",
    "                                 snap_CA_test.loc[1913 + j - timesteps],\n",
    "                                 snap_TX_test.loc[1913 + j - timesteps],\n",
    "                                 snap_WI_test.loc[1913 + j - timesteps]))\n",
    "\n",
    "    X_test = np.append(X_test, testInput).reshape(1,j + 1,30495)\n",
    "    predicted_sales = sc.inverse_transform(testInput)[:,0:30490]\n",
    "    predictions.append(predicted_sales)\n",
    "\n",
    "print(testInput.shape)"
   ],
   "metadata": {
    "collapsed": false,
    "ExecuteTime": {
     "end_time": "2023-06-25T07:33:37.911692700Z",
     "start_time": "2023-06-25T07:33:33.752995100Z"
    }
   }
  },
  {
   "cell_type": "code",
   "execution_count": 41,
   "outputs": [],
   "source": [
    "submission = pd.DataFrame(data=np.array(predictions).reshape(28,30490))\n",
    "submission = submission.T\n",
    "submission = pd.concat((submission, submission), ignore_index=True)\n",
    "\n",
    "idColumn = ss_data[['id']]\n",
    "submission[['id']] = idColumn\n",
    "\n",
    "cols = list(submission.columns)\n",
    "cols = cols[-1:]+cols[:-1]\n",
    "submission = submission[cols]\n",
    "\n",
    "colsdname = ['id'] + [f'F{i}' for i in range(1,29)]\n",
    "submission.columns = colsdname\n",
    "\n",
    "cols = ['F1', 'F2', 'F3', 'F4', 'F5', 'F6', 'F7', 'F8', 'F9', 'F10',\n",
    "        'F11', 'F12', 'F13', 'F14', 'F15', 'F16', 'F17', 'F18', 'F19', 'F20',\n",
    "        'F21', 'F22', 'F23', 'F24', 'F25', 'F26', 'F27', 'F28']\n",
    "\n",
    "submission[cols] = submission[cols].mask(submission[cols] < 0, 0)\n",
    "\n",
    "submission.to_csv('submission_cnn_lstm.csv', index=False, header=True)"
   ],
   "metadata": {
    "collapsed": false,
    "ExecuteTime": {
     "end_time": "2023-06-25T07:33:39.224001700Z",
     "start_time": "2023-06-25T07:33:38.102736100Z"
    }
   }
  },
  {
   "cell_type": "code",
   "execution_count": null,
   "outputs": [],
   "source": [
    "submission.shape"
   ],
   "metadata": {
    "collapsed": false
   }
  }
 ],
 "metadata": {
  "kernelspec": {
   "display_name": "Python 3",
   "language": "python",
   "name": "python3"
  },
  "language_info": {
   "codemirror_mode": {
    "name": "ipython",
    "version": 2
   },
   "file_extension": ".py",
   "mimetype": "text/x-python",
   "name": "python",
   "nbconvert_exporter": "python",
   "pygments_lexer": "ipython2",
   "version": "2.7.6"
  }
 },
 "nbformat": 4,
 "nbformat_minor": 0
}
