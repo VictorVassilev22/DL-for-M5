{
 "cells": [
  {
   "cell_type": "raw",
   "source": [],
   "metadata": {
    "collapsed": false,
    "pycharm": {
     "name": ""
    }
   }
  },
  {
   "cell_type": "code",
   "execution_count": 7,
   "outputs": [],
   "source": [
    "import numpy as np\n",
    "import pandas as pd\n",
    "import config.config_paths as paths\n",
    "from sklearn.preprocessing import LabelEncoder, MinMaxScaler\n",
    "from sklearn.model_selection import train_test_split"
   ],
   "metadata": {
    "collapsed": false,
    "ExecuteTime": {
     "start_time": "2023-06-17T18:52:21.972177Z",
     "end_time": "2023-06-17T18:52:21.985017Z"
    }
   }
  },
  {
   "cell_type": "markdown",
   "source": [
    "Data loading and exploration"
   ],
   "metadata": {
    "collapsed": false
   }
  },
  {
   "cell_type": "code",
   "execution_count": 8,
   "outputs": [],
   "source": [
    "# Reading the CSV files\n",
    "calendar_df = pd.read_csv(paths.calendar_path)\n",
    "sales_train_evaluation_df = pd.read_csv(paths.sales_train_eval_path)\n",
    "sell_prices_df = pd.read_csv(paths.sell_prices_path)"
   ],
   "metadata": {
    "collapsed": false,
    "ExecuteTime": {
     "start_time": "2023-06-17T18:52:21.990018Z",
     "end_time": "2023-06-17T18:52:26.433329Z"
    }
   }
  },
  {
   "cell_type": "code",
   "execution_count": 9,
   "outputs": [],
   "source": [
    "def downcast_types(df):\n",
    "    float_cols = [c for c in df if df[c].dtype == 'float64']\n",
    "    int_cols = [c for c in df if df[c].dtype in ['int64', 'int32']]\n",
    "    df[float_cols] = df[float_cols].astype(np.float32)\n",
    "    df[int_cols] = df[int_cols].astype(np.int16)\n",
    "    return df"
   ],
   "metadata": {
    "collapsed": false,
    "ExecuteTime": {
     "start_time": "2023-06-17T18:52:26.433329Z",
     "end_time": "2023-06-17T18:52:26.439903Z"
    }
   }
  },
  {
   "cell_type": "code",
   "execution_count": 10,
   "outputs": [
    {
     "name": "stdout",
     "output_type": "stream",
     "text": [
      "<class 'pandas.core.frame.DataFrame'>\n",
      "RangeIndex: 1969 entries, 0 to 1968\n",
      "Data columns (total 14 columns):\n",
      " #   Column        Non-Null Count  Dtype \n",
      "---  ------        --------------  ----- \n",
      " 0   date          1969 non-null   object\n",
      " 1   wm_yr_wk      1969 non-null   int16 \n",
      " 2   weekday       1969 non-null   object\n",
      " 3   wday          1969 non-null   int16 \n",
      " 4   month         1969 non-null   int16 \n",
      " 5   year          1969 non-null   int16 \n",
      " 6   d             1969 non-null   object\n",
      " 7   event_name_1  162 non-null    object\n",
      " 8   event_type_1  162 non-null    object\n",
      " 9   event_name_2  5 non-null      object\n",
      " 10  event_type_2  5 non-null      object\n",
      " 11  snap_CA       1969 non-null   int16 \n",
      " 12  snap_TX       1969 non-null   int16 \n",
      " 13  snap_WI       1969 non-null   int16 \n",
      "dtypes: int16(7), object(7)\n",
      "memory usage: 134.7+ KB\n"
     ]
    }
   ],
   "source": [
    "calendar_df = downcast_types(calendar_df)\n",
    "calendar_df.info()"
   ],
   "metadata": {
    "collapsed": false,
    "ExecuteTime": {
     "start_time": "2023-06-17T18:52:26.441904Z",
     "end_time": "2023-06-17T18:52:26.457124Z"
    }
   }
  },
  {
   "cell_type": "code",
   "execution_count": 11,
   "outputs": [
    {
     "name": "stdout",
     "output_type": "stream",
     "text": [
      "<class 'pandas.core.frame.DataFrame'>\n",
      "RangeIndex: 30490 entries, 0 to 30489\n",
      "Columns: 1947 entries, id to d_1941\n",
      "dtypes: int16(1941), object(6)\n",
      "memory usage: 114.3+ MB\n"
     ]
    }
   ],
   "source": [
    "sales_train_evaluation_df = downcast_types(sales_train_evaluation_df)\n",
    "sales_train_evaluation_df.info()"
   ],
   "metadata": {
    "collapsed": false,
    "ExecuteTime": {
     "start_time": "2023-06-17T18:52:26.454122Z",
     "end_time": "2023-06-17T18:52:27.115468Z"
    }
   }
  },
  {
   "cell_type": "code",
   "execution_count": 12,
   "outputs": [
    {
     "data": {
      "text/plain": "                              id        item_id    dept_id   cat_id store_id  \\\n0  HOBBIES_1_001_CA_1_evaluation  HOBBIES_1_001  HOBBIES_1  HOBBIES     CA_1   \n1  HOBBIES_1_002_CA_1_evaluation  HOBBIES_1_002  HOBBIES_1  HOBBIES     CA_1   \n2  HOBBIES_1_003_CA_1_evaluation  HOBBIES_1_003  HOBBIES_1  HOBBIES     CA_1   \n3  HOBBIES_1_004_CA_1_evaluation  HOBBIES_1_004  HOBBIES_1  HOBBIES     CA_1   \n4  HOBBIES_1_005_CA_1_evaluation  HOBBIES_1_005  HOBBIES_1  HOBBIES     CA_1   \n5  HOBBIES_1_006_CA_1_evaluation  HOBBIES_1_006  HOBBIES_1  HOBBIES     CA_1   \n6  HOBBIES_1_007_CA_1_evaluation  HOBBIES_1_007  HOBBIES_1  HOBBIES     CA_1   \n7  HOBBIES_1_008_CA_1_evaluation  HOBBIES_1_008  HOBBIES_1  HOBBIES     CA_1   \n8  HOBBIES_1_009_CA_1_evaluation  HOBBIES_1_009  HOBBIES_1  HOBBIES     CA_1   \n9  HOBBIES_1_010_CA_1_evaluation  HOBBIES_1_010  HOBBIES_1  HOBBIES     CA_1   \n\n  state_id  d_1  d_2  d_3  d_4  ...  d_1932  d_1933  d_1934  d_1935  d_1936  \\\n0       CA    0    0    0    0  ...       2       4       0       0       0   \n1       CA    0    0    0    0  ...       0       1       2       1       1   \n2       CA    0    0    0    0  ...       1       0       2       0       0   \n3       CA    0    0    0    0  ...       1       1       0       4       0   \n4       CA    0    0    0    0  ...       0       0       0       2       1   \n5       CA    0    0    0    0  ...       2       1       0       0       1   \n6       CA    0    0    0    0  ...       0       1       0       0       0   \n7       CA   12   15    0    0  ...       7       0       6       0      15   \n8       CA    2    0    7    3  ...       1       0       0       0       0   \n9       CA    0    0    1    0  ...       0       0       1       0       2   \n\n   d_1937  d_1938  d_1939  d_1940  d_1941  \n0       0       3       3       0       1  \n1       0       0       0       0       0  \n2       0       2       3       0       1  \n3       1       3       0       2       6  \n4       0       0       2       1       0  \n5       0       0       5       2       0  \n6       1       0       1       1       0  \n7       5       4       1      40      32  \n8       0       0       0       1       0  \n9       1       1       0       0       1  \n\n[10 rows x 1947 columns]",
      "text/html": "<div>\n<style scoped>\n    .dataframe tbody tr th:only-of-type {\n        vertical-align: middle;\n    }\n\n    .dataframe tbody tr th {\n        vertical-align: top;\n    }\n\n    .dataframe thead th {\n        text-align: right;\n    }\n</style>\n<table border=\"1\" class=\"dataframe\">\n  <thead>\n    <tr style=\"text-align: right;\">\n      <th></th>\n      <th>id</th>\n      <th>item_id</th>\n      <th>dept_id</th>\n      <th>cat_id</th>\n      <th>store_id</th>\n      <th>state_id</th>\n      <th>d_1</th>\n      <th>d_2</th>\n      <th>d_3</th>\n      <th>d_4</th>\n      <th>...</th>\n      <th>d_1932</th>\n      <th>d_1933</th>\n      <th>d_1934</th>\n      <th>d_1935</th>\n      <th>d_1936</th>\n      <th>d_1937</th>\n      <th>d_1938</th>\n      <th>d_1939</th>\n      <th>d_1940</th>\n      <th>d_1941</th>\n    </tr>\n  </thead>\n  <tbody>\n    <tr>\n      <th>0</th>\n      <td>HOBBIES_1_001_CA_1_evaluation</td>\n      <td>HOBBIES_1_001</td>\n      <td>HOBBIES_1</td>\n      <td>HOBBIES</td>\n      <td>CA_1</td>\n      <td>CA</td>\n      <td>0</td>\n      <td>0</td>\n      <td>0</td>\n      <td>0</td>\n      <td>...</td>\n      <td>2</td>\n      <td>4</td>\n      <td>0</td>\n      <td>0</td>\n      <td>0</td>\n      <td>0</td>\n      <td>3</td>\n      <td>3</td>\n      <td>0</td>\n      <td>1</td>\n    </tr>\n    <tr>\n      <th>1</th>\n      <td>HOBBIES_1_002_CA_1_evaluation</td>\n      <td>HOBBIES_1_002</td>\n      <td>HOBBIES_1</td>\n      <td>HOBBIES</td>\n      <td>CA_1</td>\n      <td>CA</td>\n      <td>0</td>\n      <td>0</td>\n      <td>0</td>\n      <td>0</td>\n      <td>...</td>\n      <td>0</td>\n      <td>1</td>\n      <td>2</td>\n      <td>1</td>\n      <td>1</td>\n      <td>0</td>\n      <td>0</td>\n      <td>0</td>\n      <td>0</td>\n      <td>0</td>\n    </tr>\n    <tr>\n      <th>2</th>\n      <td>HOBBIES_1_003_CA_1_evaluation</td>\n      <td>HOBBIES_1_003</td>\n      <td>HOBBIES_1</td>\n      <td>HOBBIES</td>\n      <td>CA_1</td>\n      <td>CA</td>\n      <td>0</td>\n      <td>0</td>\n      <td>0</td>\n      <td>0</td>\n      <td>...</td>\n      <td>1</td>\n      <td>0</td>\n      <td>2</td>\n      <td>0</td>\n      <td>0</td>\n      <td>0</td>\n      <td>2</td>\n      <td>3</td>\n      <td>0</td>\n      <td>1</td>\n    </tr>\n    <tr>\n      <th>3</th>\n      <td>HOBBIES_1_004_CA_1_evaluation</td>\n      <td>HOBBIES_1_004</td>\n      <td>HOBBIES_1</td>\n      <td>HOBBIES</td>\n      <td>CA_1</td>\n      <td>CA</td>\n      <td>0</td>\n      <td>0</td>\n      <td>0</td>\n      <td>0</td>\n      <td>...</td>\n      <td>1</td>\n      <td>1</td>\n      <td>0</td>\n      <td>4</td>\n      <td>0</td>\n      <td>1</td>\n      <td>3</td>\n      <td>0</td>\n      <td>2</td>\n      <td>6</td>\n    </tr>\n    <tr>\n      <th>4</th>\n      <td>HOBBIES_1_005_CA_1_evaluation</td>\n      <td>HOBBIES_1_005</td>\n      <td>HOBBIES_1</td>\n      <td>HOBBIES</td>\n      <td>CA_1</td>\n      <td>CA</td>\n      <td>0</td>\n      <td>0</td>\n      <td>0</td>\n      <td>0</td>\n      <td>...</td>\n      <td>0</td>\n      <td>0</td>\n      <td>0</td>\n      <td>2</td>\n      <td>1</td>\n      <td>0</td>\n      <td>0</td>\n      <td>2</td>\n      <td>1</td>\n      <td>0</td>\n    </tr>\n    <tr>\n      <th>5</th>\n      <td>HOBBIES_1_006_CA_1_evaluation</td>\n      <td>HOBBIES_1_006</td>\n      <td>HOBBIES_1</td>\n      <td>HOBBIES</td>\n      <td>CA_1</td>\n      <td>CA</td>\n      <td>0</td>\n      <td>0</td>\n      <td>0</td>\n      <td>0</td>\n      <td>...</td>\n      <td>2</td>\n      <td>1</td>\n      <td>0</td>\n      <td>0</td>\n      <td>1</td>\n      <td>0</td>\n      <td>0</td>\n      <td>5</td>\n      <td>2</td>\n      <td>0</td>\n    </tr>\n    <tr>\n      <th>6</th>\n      <td>HOBBIES_1_007_CA_1_evaluation</td>\n      <td>HOBBIES_1_007</td>\n      <td>HOBBIES_1</td>\n      <td>HOBBIES</td>\n      <td>CA_1</td>\n      <td>CA</td>\n      <td>0</td>\n      <td>0</td>\n      <td>0</td>\n      <td>0</td>\n      <td>...</td>\n      <td>0</td>\n      <td>1</td>\n      <td>0</td>\n      <td>0</td>\n      <td>0</td>\n      <td>1</td>\n      <td>0</td>\n      <td>1</td>\n      <td>1</td>\n      <td>0</td>\n    </tr>\n    <tr>\n      <th>7</th>\n      <td>HOBBIES_1_008_CA_1_evaluation</td>\n      <td>HOBBIES_1_008</td>\n      <td>HOBBIES_1</td>\n      <td>HOBBIES</td>\n      <td>CA_1</td>\n      <td>CA</td>\n      <td>12</td>\n      <td>15</td>\n      <td>0</td>\n      <td>0</td>\n      <td>...</td>\n      <td>7</td>\n      <td>0</td>\n      <td>6</td>\n      <td>0</td>\n      <td>15</td>\n      <td>5</td>\n      <td>4</td>\n      <td>1</td>\n      <td>40</td>\n      <td>32</td>\n    </tr>\n    <tr>\n      <th>8</th>\n      <td>HOBBIES_1_009_CA_1_evaluation</td>\n      <td>HOBBIES_1_009</td>\n      <td>HOBBIES_1</td>\n      <td>HOBBIES</td>\n      <td>CA_1</td>\n      <td>CA</td>\n      <td>2</td>\n      <td>0</td>\n      <td>7</td>\n      <td>3</td>\n      <td>...</td>\n      <td>1</td>\n      <td>0</td>\n      <td>0</td>\n      <td>0</td>\n      <td>0</td>\n      <td>0</td>\n      <td>0</td>\n      <td>0</td>\n      <td>1</td>\n      <td>0</td>\n    </tr>\n    <tr>\n      <th>9</th>\n      <td>HOBBIES_1_010_CA_1_evaluation</td>\n      <td>HOBBIES_1_010</td>\n      <td>HOBBIES_1</td>\n      <td>HOBBIES</td>\n      <td>CA_1</td>\n      <td>CA</td>\n      <td>0</td>\n      <td>0</td>\n      <td>1</td>\n      <td>0</td>\n      <td>...</td>\n      <td>0</td>\n      <td>0</td>\n      <td>1</td>\n      <td>0</td>\n      <td>2</td>\n      <td>1</td>\n      <td>1</td>\n      <td>0</td>\n      <td>0</td>\n      <td>1</td>\n    </tr>\n  </tbody>\n</table>\n<p>10 rows × 1947 columns</p>\n</div>"
     },
     "execution_count": 12,
     "metadata": {},
     "output_type": "execute_result"
    }
   ],
   "source": [
    "sales_train_evaluation_df.head(10)"
   ],
   "metadata": {
    "collapsed": false,
    "ExecuteTime": {
     "start_time": "2023-06-17T18:52:27.114467Z",
     "end_time": "2023-06-17T18:52:27.206102Z"
    }
   }
  },
  {
   "cell_type": "code",
   "execution_count": 13,
   "outputs": [
    {
     "name": "stdout",
     "output_type": "stream",
     "text": [
      "Summary statistics:\n",
      "            wm_yr_wk         wday        month         year      snap_CA  \\\n",
      "count   1969.000000  1969.000000  1969.000000  1969.000000  1969.000000   \n",
      "mean   11347.086338     3.997461     6.325546  2013.288471     0.330117   \n",
      "std      155.277043     2.001141     3.416864     1.580198     0.470374   \n",
      "min    11101.000000     1.000000     1.000000  2011.000000     0.000000   \n",
      "25%    11219.000000     2.000000     3.000000  2012.000000     0.000000   \n",
      "50%    11337.000000     4.000000     6.000000  2013.000000     0.000000   \n",
      "75%    11502.000000     6.000000     9.000000  2015.000000     1.000000   \n",
      "max    11621.000000     7.000000    12.000000  2016.000000     1.000000   \n",
      "\n",
      "           snap_TX      snap_WI  \n",
      "count  1969.000000  1969.000000  \n",
      "mean      0.330117     0.330117  \n",
      "std       0.470374     0.470374  \n",
      "min       0.000000     0.000000  \n",
      "25%       0.000000     0.000000  \n",
      "50%       0.000000     0.000000  \n",
      "75%       1.000000     1.000000  \n",
      "max       1.000000     1.000000  \n",
      "\n",
      "Missing values per column:\n",
      " date               0\n",
      "wm_yr_wk           0\n",
      "weekday            0\n",
      "wday               0\n",
      "month              0\n",
      "year               0\n",
      "d                  0\n",
      "event_name_1    1807\n",
      "event_type_1    1807\n",
      "event_name_2    1964\n",
      "event_type_2    1964\n",
      "snap_CA            0\n",
      "snap_TX            0\n",
      "snap_WI            0\n",
      "dtype: int64\n"
     ]
    }
   ],
   "source": [
    "# Display basic statistics for numerical columns\n",
    "print(\"Summary statistics:\\n\", calendar_df.describe())\n",
    "\n",
    "# Count missing (null) values for each column\n",
    "missing_values = calendar_df.isnull().sum()\n",
    "print(\"\\nMissing values per column:\\n\", missing_values)"
   ],
   "metadata": {
    "collapsed": false,
    "ExecuteTime": {
     "start_time": "2023-06-17T18:52:27.175131Z",
     "end_time": "2023-06-17T18:52:27.207105Z"
    }
   }
  },
  {
   "cell_type": "code",
   "execution_count": 14,
   "outputs": [],
   "source": [
    "## Check and fill missing values\n",
    "calendar_df.fillna(\"unknown\", inplace=True)"
   ],
   "metadata": {
    "collapsed": false,
    "ExecuteTime": {
     "start_time": "2023-06-17T18:52:27.192148Z",
     "end_time": "2023-06-17T18:52:27.207105Z"
    }
   }
  },
  {
   "cell_type": "code",
   "execution_count": 15,
   "outputs": [
    {
     "data": {
      "text/plain": "                              id        item_id    dept_id   cat_id store_id  \\\n0  HOBBIES_1_001_CA_1_evaluation  HOBBIES_1_001  HOBBIES_1  HOBBIES     CA_1   \n1  HOBBIES_1_002_CA_1_evaluation  HOBBIES_1_002  HOBBIES_1  HOBBIES     CA_1   \n2  HOBBIES_1_003_CA_1_evaluation  HOBBIES_1_003  HOBBIES_1  HOBBIES     CA_1   \n3  HOBBIES_1_004_CA_1_evaluation  HOBBIES_1_004  HOBBIES_1  HOBBIES     CA_1   \n4  HOBBIES_1_005_CA_1_evaluation  HOBBIES_1_005  HOBBIES_1  HOBBIES     CA_1   \n5  HOBBIES_1_006_CA_1_evaluation  HOBBIES_1_006  HOBBIES_1  HOBBIES     CA_1   \n6  HOBBIES_1_007_CA_1_evaluation  HOBBIES_1_007  HOBBIES_1  HOBBIES     CA_1   \n7  HOBBIES_1_008_CA_1_evaluation  HOBBIES_1_008  HOBBIES_1  HOBBIES     CA_1   \n8  HOBBIES_1_009_CA_1_evaluation  HOBBIES_1_009  HOBBIES_1  HOBBIES     CA_1   \n9  HOBBIES_1_010_CA_1_evaluation  HOBBIES_1_010  HOBBIES_1  HOBBIES     CA_1   \n\n  state_id    d  daily_sales  \n0       CA  d_1            0  \n1       CA  d_1            0  \n2       CA  d_1            0  \n3       CA  d_1            0  \n4       CA  d_1            0  \n5       CA  d_1            0  \n6       CA  d_1            0  \n7       CA  d_1           12  \n8       CA  d_1            2  \n9       CA  d_1            0  ",
      "text/html": "<div>\n<style scoped>\n    .dataframe tbody tr th:only-of-type {\n        vertical-align: middle;\n    }\n\n    .dataframe tbody tr th {\n        vertical-align: top;\n    }\n\n    .dataframe thead th {\n        text-align: right;\n    }\n</style>\n<table border=\"1\" class=\"dataframe\">\n  <thead>\n    <tr style=\"text-align: right;\">\n      <th></th>\n      <th>id</th>\n      <th>item_id</th>\n      <th>dept_id</th>\n      <th>cat_id</th>\n      <th>store_id</th>\n      <th>state_id</th>\n      <th>d</th>\n      <th>daily_sales</th>\n    </tr>\n  </thead>\n  <tbody>\n    <tr>\n      <th>0</th>\n      <td>HOBBIES_1_001_CA_1_evaluation</td>\n      <td>HOBBIES_1_001</td>\n      <td>HOBBIES_1</td>\n      <td>HOBBIES</td>\n      <td>CA_1</td>\n      <td>CA</td>\n      <td>d_1</td>\n      <td>0</td>\n    </tr>\n    <tr>\n      <th>1</th>\n      <td>HOBBIES_1_002_CA_1_evaluation</td>\n      <td>HOBBIES_1_002</td>\n      <td>HOBBIES_1</td>\n      <td>HOBBIES</td>\n      <td>CA_1</td>\n      <td>CA</td>\n      <td>d_1</td>\n      <td>0</td>\n    </tr>\n    <tr>\n      <th>2</th>\n      <td>HOBBIES_1_003_CA_1_evaluation</td>\n      <td>HOBBIES_1_003</td>\n      <td>HOBBIES_1</td>\n      <td>HOBBIES</td>\n      <td>CA_1</td>\n      <td>CA</td>\n      <td>d_1</td>\n      <td>0</td>\n    </tr>\n    <tr>\n      <th>3</th>\n      <td>HOBBIES_1_004_CA_1_evaluation</td>\n      <td>HOBBIES_1_004</td>\n      <td>HOBBIES_1</td>\n      <td>HOBBIES</td>\n      <td>CA_1</td>\n      <td>CA</td>\n      <td>d_1</td>\n      <td>0</td>\n    </tr>\n    <tr>\n      <th>4</th>\n      <td>HOBBIES_1_005_CA_1_evaluation</td>\n      <td>HOBBIES_1_005</td>\n      <td>HOBBIES_1</td>\n      <td>HOBBIES</td>\n      <td>CA_1</td>\n      <td>CA</td>\n      <td>d_1</td>\n      <td>0</td>\n    </tr>\n    <tr>\n      <th>5</th>\n      <td>HOBBIES_1_006_CA_1_evaluation</td>\n      <td>HOBBIES_1_006</td>\n      <td>HOBBIES_1</td>\n      <td>HOBBIES</td>\n      <td>CA_1</td>\n      <td>CA</td>\n      <td>d_1</td>\n      <td>0</td>\n    </tr>\n    <tr>\n      <th>6</th>\n      <td>HOBBIES_1_007_CA_1_evaluation</td>\n      <td>HOBBIES_1_007</td>\n      <td>HOBBIES_1</td>\n      <td>HOBBIES</td>\n      <td>CA_1</td>\n      <td>CA</td>\n      <td>d_1</td>\n      <td>0</td>\n    </tr>\n    <tr>\n      <th>7</th>\n      <td>HOBBIES_1_008_CA_1_evaluation</td>\n      <td>HOBBIES_1_008</td>\n      <td>HOBBIES_1</td>\n      <td>HOBBIES</td>\n      <td>CA_1</td>\n      <td>CA</td>\n      <td>d_1</td>\n      <td>12</td>\n    </tr>\n    <tr>\n      <th>8</th>\n      <td>HOBBIES_1_009_CA_1_evaluation</td>\n      <td>HOBBIES_1_009</td>\n      <td>HOBBIES_1</td>\n      <td>HOBBIES</td>\n      <td>CA_1</td>\n      <td>CA</td>\n      <td>d_1</td>\n      <td>2</td>\n    </tr>\n    <tr>\n      <th>9</th>\n      <td>HOBBIES_1_010_CA_1_evaluation</td>\n      <td>HOBBIES_1_010</td>\n      <td>HOBBIES_1</td>\n      <td>HOBBIES</td>\n      <td>CA_1</td>\n      <td>CA</td>\n      <td>d_1</td>\n      <td>0</td>\n    </tr>\n  </tbody>\n</table>\n</div>"
     },
     "execution_count": 15,
     "metadata": {},
     "output_type": "execute_result"
    }
   ],
   "source": [
    "# Feature Engineering\n",
    "sales_data = sales_train_evaluation_df.melt(\n",
    "    id_vars=['id', 'item_id', 'dept_id', 'cat_id', 'store_id', 'state_id'],\n",
    "    var_name='d',\n",
    "    value_name='daily_sales'\n",
    ")\n",
    "sales_data.head(10)"
   ],
   "metadata": {
    "collapsed": false,
    "ExecuteTime": {
     "start_time": "2023-06-17T18:52:27.198088Z",
     "end_time": "2023-06-17T18:52:53.727605Z"
    }
   }
  },
  {
   "cell_type": "code",
   "execution_count": 16,
   "outputs": [],
   "source": [
    "## Merge calendar events into sales data\n",
    "# sales_data.drop(columns='id', inplace=True)\n",
    "sales_data = pd.merge(sales_data, calendar_df[\n",
    "    ['date', 'wm_yr_wk', 'weekday', 'wday', 'month', 'year', 'd', 'event_name_1', 'event_type_1', 'event_name_2',\n",
    "     'event_type_2', 'snap_CA', 'snap_TX', 'snap_WI']], on='d')"
   ],
   "metadata": {
    "collapsed": false,
    "ExecuteTime": {
     "start_time": "2023-06-17T18:52:52.124605Z",
     "end_time": "2023-06-17T18:53:22.690640Z"
    }
   }
  },
  {
   "cell_type": "code",
   "execution_count": 17,
   "outputs": [],
   "source": [
    "## Add sell_prices information\n",
    "sales_data = pd.merge(sales_data, sell_prices_df, on=['store_id', 'item_id', 'wm_yr_wk'])"
   ],
   "metadata": {
    "collapsed": false,
    "ExecuteTime": {
     "start_time": "2023-06-17T18:53:22.725640Z",
     "end_time": "2023-06-17T18:54:48.150126Z"
    }
   }
  },
  {
   "cell_type": "code",
   "execution_count": 18,
   "outputs": [
    {
     "data": {
      "text/plain": "                              id        item_id    dept_id   cat_id store_id  \\\n0  HOBBIES_1_008_CA_1_evaluation  HOBBIES_1_008  HOBBIES_1  HOBBIES     CA_1   \n1  HOBBIES_1_008_CA_1_evaluation  HOBBIES_1_008  HOBBIES_1  HOBBIES     CA_1   \n2  HOBBIES_1_008_CA_1_evaluation  HOBBIES_1_008  HOBBIES_1  HOBBIES     CA_1   \n3  HOBBIES_1_008_CA_1_evaluation  HOBBIES_1_008  HOBBIES_1  HOBBIES     CA_1   \n4  HOBBIES_1_008_CA_1_evaluation  HOBBIES_1_008  HOBBIES_1  HOBBIES     CA_1   \n5  HOBBIES_1_008_CA_1_evaluation  HOBBIES_1_008  HOBBIES_1  HOBBIES     CA_1   \n6  HOBBIES_1_008_CA_1_evaluation  HOBBIES_1_008  HOBBIES_1  HOBBIES     CA_1   \n7  HOBBIES_1_009_CA_1_evaluation  HOBBIES_1_009  HOBBIES_1  HOBBIES     CA_1   \n8  HOBBIES_1_009_CA_1_evaluation  HOBBIES_1_009  HOBBIES_1  HOBBIES     CA_1   \n9  HOBBIES_1_009_CA_1_evaluation  HOBBIES_1_009  HOBBIES_1  HOBBIES     CA_1   \n\n  state_id    d  daily_sales        date  wm_yr_wk  ... month  year  \\\n0       CA  d_1           12  2011-01-29     11101  ...     1  2011   \n1       CA  d_2           15  2011-01-30     11101  ...     1  2011   \n2       CA  d_3            0  2011-01-31     11101  ...     1  2011   \n3       CA  d_4            0  2011-02-01     11101  ...     2  2011   \n4       CA  d_5            0  2011-02-02     11101  ...     2  2011   \n5       CA  d_6            4  2011-02-03     11101  ...     2  2011   \n6       CA  d_7            6  2011-02-04     11101  ...     2  2011   \n7       CA  d_1            2  2011-01-29     11101  ...     1  2011   \n8       CA  d_2            0  2011-01-30     11101  ...     1  2011   \n9       CA  d_3            7  2011-01-31     11101  ...     1  2011   \n\n   event_name_1  event_type_1 event_name_2 event_type_2 snap_CA snap_TX  \\\n0       unknown       unknown      unknown      unknown       0       0   \n1       unknown       unknown      unknown      unknown       0       0   \n2       unknown       unknown      unknown      unknown       0       0   \n3       unknown       unknown      unknown      unknown       1       1   \n4       unknown       unknown      unknown      unknown       1       0   \n5       unknown       unknown      unknown      unknown       1       1   \n6       unknown       unknown      unknown      unknown       1       0   \n7       unknown       unknown      unknown      unknown       0       0   \n8       unknown       unknown      unknown      unknown       0       0   \n9       unknown       unknown      unknown      unknown       0       0   \n\n   snap_WI  sell_price  \n0        0        0.46  \n1        0        0.46  \n2        0        0.46  \n3        0        0.46  \n4        1        0.46  \n5        1        0.46  \n6        0        0.46  \n7        0        1.56  \n8        0        1.56  \n9        0        1.56  \n\n[10 rows x 22 columns]",
      "text/html": "<div>\n<style scoped>\n    .dataframe tbody tr th:only-of-type {\n        vertical-align: middle;\n    }\n\n    .dataframe tbody tr th {\n        vertical-align: top;\n    }\n\n    .dataframe thead th {\n        text-align: right;\n    }\n</style>\n<table border=\"1\" class=\"dataframe\">\n  <thead>\n    <tr style=\"text-align: right;\">\n      <th></th>\n      <th>id</th>\n      <th>item_id</th>\n      <th>dept_id</th>\n      <th>cat_id</th>\n      <th>store_id</th>\n      <th>state_id</th>\n      <th>d</th>\n      <th>daily_sales</th>\n      <th>date</th>\n      <th>wm_yr_wk</th>\n      <th>...</th>\n      <th>month</th>\n      <th>year</th>\n      <th>event_name_1</th>\n      <th>event_type_1</th>\n      <th>event_name_2</th>\n      <th>event_type_2</th>\n      <th>snap_CA</th>\n      <th>snap_TX</th>\n      <th>snap_WI</th>\n      <th>sell_price</th>\n    </tr>\n  </thead>\n  <tbody>\n    <tr>\n      <th>0</th>\n      <td>HOBBIES_1_008_CA_1_evaluation</td>\n      <td>HOBBIES_1_008</td>\n      <td>HOBBIES_1</td>\n      <td>HOBBIES</td>\n      <td>CA_1</td>\n      <td>CA</td>\n      <td>d_1</td>\n      <td>12</td>\n      <td>2011-01-29</td>\n      <td>11101</td>\n      <td>...</td>\n      <td>1</td>\n      <td>2011</td>\n      <td>unknown</td>\n      <td>unknown</td>\n      <td>unknown</td>\n      <td>unknown</td>\n      <td>0</td>\n      <td>0</td>\n      <td>0</td>\n      <td>0.46</td>\n    </tr>\n    <tr>\n      <th>1</th>\n      <td>HOBBIES_1_008_CA_1_evaluation</td>\n      <td>HOBBIES_1_008</td>\n      <td>HOBBIES_1</td>\n      <td>HOBBIES</td>\n      <td>CA_1</td>\n      <td>CA</td>\n      <td>d_2</td>\n      <td>15</td>\n      <td>2011-01-30</td>\n      <td>11101</td>\n      <td>...</td>\n      <td>1</td>\n      <td>2011</td>\n      <td>unknown</td>\n      <td>unknown</td>\n      <td>unknown</td>\n      <td>unknown</td>\n      <td>0</td>\n      <td>0</td>\n      <td>0</td>\n      <td>0.46</td>\n    </tr>\n    <tr>\n      <th>2</th>\n      <td>HOBBIES_1_008_CA_1_evaluation</td>\n      <td>HOBBIES_1_008</td>\n      <td>HOBBIES_1</td>\n      <td>HOBBIES</td>\n      <td>CA_1</td>\n      <td>CA</td>\n      <td>d_3</td>\n      <td>0</td>\n      <td>2011-01-31</td>\n      <td>11101</td>\n      <td>...</td>\n      <td>1</td>\n      <td>2011</td>\n      <td>unknown</td>\n      <td>unknown</td>\n      <td>unknown</td>\n      <td>unknown</td>\n      <td>0</td>\n      <td>0</td>\n      <td>0</td>\n      <td>0.46</td>\n    </tr>\n    <tr>\n      <th>3</th>\n      <td>HOBBIES_1_008_CA_1_evaluation</td>\n      <td>HOBBIES_1_008</td>\n      <td>HOBBIES_1</td>\n      <td>HOBBIES</td>\n      <td>CA_1</td>\n      <td>CA</td>\n      <td>d_4</td>\n      <td>0</td>\n      <td>2011-02-01</td>\n      <td>11101</td>\n      <td>...</td>\n      <td>2</td>\n      <td>2011</td>\n      <td>unknown</td>\n      <td>unknown</td>\n      <td>unknown</td>\n      <td>unknown</td>\n      <td>1</td>\n      <td>1</td>\n      <td>0</td>\n      <td>0.46</td>\n    </tr>\n    <tr>\n      <th>4</th>\n      <td>HOBBIES_1_008_CA_1_evaluation</td>\n      <td>HOBBIES_1_008</td>\n      <td>HOBBIES_1</td>\n      <td>HOBBIES</td>\n      <td>CA_1</td>\n      <td>CA</td>\n      <td>d_5</td>\n      <td>0</td>\n      <td>2011-02-02</td>\n      <td>11101</td>\n      <td>...</td>\n      <td>2</td>\n      <td>2011</td>\n      <td>unknown</td>\n      <td>unknown</td>\n      <td>unknown</td>\n      <td>unknown</td>\n      <td>1</td>\n      <td>0</td>\n      <td>1</td>\n      <td>0.46</td>\n    </tr>\n    <tr>\n      <th>5</th>\n      <td>HOBBIES_1_008_CA_1_evaluation</td>\n      <td>HOBBIES_1_008</td>\n      <td>HOBBIES_1</td>\n      <td>HOBBIES</td>\n      <td>CA_1</td>\n      <td>CA</td>\n      <td>d_6</td>\n      <td>4</td>\n      <td>2011-02-03</td>\n      <td>11101</td>\n      <td>...</td>\n      <td>2</td>\n      <td>2011</td>\n      <td>unknown</td>\n      <td>unknown</td>\n      <td>unknown</td>\n      <td>unknown</td>\n      <td>1</td>\n      <td>1</td>\n      <td>1</td>\n      <td>0.46</td>\n    </tr>\n    <tr>\n      <th>6</th>\n      <td>HOBBIES_1_008_CA_1_evaluation</td>\n      <td>HOBBIES_1_008</td>\n      <td>HOBBIES_1</td>\n      <td>HOBBIES</td>\n      <td>CA_1</td>\n      <td>CA</td>\n      <td>d_7</td>\n      <td>6</td>\n      <td>2011-02-04</td>\n      <td>11101</td>\n      <td>...</td>\n      <td>2</td>\n      <td>2011</td>\n      <td>unknown</td>\n      <td>unknown</td>\n      <td>unknown</td>\n      <td>unknown</td>\n      <td>1</td>\n      <td>0</td>\n      <td>0</td>\n      <td>0.46</td>\n    </tr>\n    <tr>\n      <th>7</th>\n      <td>HOBBIES_1_009_CA_1_evaluation</td>\n      <td>HOBBIES_1_009</td>\n      <td>HOBBIES_1</td>\n      <td>HOBBIES</td>\n      <td>CA_1</td>\n      <td>CA</td>\n      <td>d_1</td>\n      <td>2</td>\n      <td>2011-01-29</td>\n      <td>11101</td>\n      <td>...</td>\n      <td>1</td>\n      <td>2011</td>\n      <td>unknown</td>\n      <td>unknown</td>\n      <td>unknown</td>\n      <td>unknown</td>\n      <td>0</td>\n      <td>0</td>\n      <td>0</td>\n      <td>1.56</td>\n    </tr>\n    <tr>\n      <th>8</th>\n      <td>HOBBIES_1_009_CA_1_evaluation</td>\n      <td>HOBBIES_1_009</td>\n      <td>HOBBIES_1</td>\n      <td>HOBBIES</td>\n      <td>CA_1</td>\n      <td>CA</td>\n      <td>d_2</td>\n      <td>0</td>\n      <td>2011-01-30</td>\n      <td>11101</td>\n      <td>...</td>\n      <td>1</td>\n      <td>2011</td>\n      <td>unknown</td>\n      <td>unknown</td>\n      <td>unknown</td>\n      <td>unknown</td>\n      <td>0</td>\n      <td>0</td>\n      <td>0</td>\n      <td>1.56</td>\n    </tr>\n    <tr>\n      <th>9</th>\n      <td>HOBBIES_1_009_CA_1_evaluation</td>\n      <td>HOBBIES_1_009</td>\n      <td>HOBBIES_1</td>\n      <td>HOBBIES</td>\n      <td>CA_1</td>\n      <td>CA</td>\n      <td>d_3</td>\n      <td>7</td>\n      <td>2011-01-31</td>\n      <td>11101</td>\n      <td>...</td>\n      <td>1</td>\n      <td>2011</td>\n      <td>unknown</td>\n      <td>unknown</td>\n      <td>unknown</td>\n      <td>unknown</td>\n      <td>0</td>\n      <td>0</td>\n      <td>0</td>\n      <td>1.56</td>\n    </tr>\n  </tbody>\n</table>\n<p>10 rows × 22 columns</p>\n</div>"
     },
     "execution_count": 18,
     "metadata": {},
     "output_type": "execute_result"
    }
   ],
   "source": [
    "sales_data.head(10)"
   ],
   "metadata": {
    "collapsed": false,
    "ExecuteTime": {
     "start_time": "2023-06-17T18:54:48.157125Z",
     "end_time": "2023-06-17T18:54:48.273284Z"
    }
   }
  },
  {
   "cell_type": "code",
   "execution_count": 19,
   "outputs": [
    {
     "name": "stdout",
     "output_type": "stream",
     "text": [
      "<class 'pandas.core.frame.DataFrame'>\n",
      "RangeIndex: 46881677 entries, 0 to 46881676\n",
      "Data columns (total 22 columns):\n",
      " #   Column        Dtype  \n",
      "---  ------        -----  \n",
      " 0   id            object \n",
      " 1   item_id       object \n",
      " 2   dept_id       object \n",
      " 3   cat_id        object \n",
      " 4   store_id      object \n",
      " 5   state_id      object \n",
      " 6   d             object \n",
      " 7   daily_sales   int16  \n",
      " 8   date          object \n",
      " 9   wm_yr_wk      int16  \n",
      " 10  weekday       object \n",
      " 11  wday          int16  \n",
      " 12  month         int16  \n",
      " 13  year          int16  \n",
      " 14  event_name_1  object \n",
      " 15  event_type_1  object \n",
      " 16  event_name_2  object \n",
      " 17  event_type_2  object \n",
      " 18  snap_CA       int16  \n",
      " 19  snap_TX       int16  \n",
      " 20  snap_WI       int16  \n",
      " 21  sell_price    float64\n",
      "dtypes: float64(1), int16(8), object(13)\n",
      "memory usage: 5.6+ GB\n"
     ]
    }
   ],
   "source": [
    "sales_data.info()"
   ],
   "metadata": {
    "collapsed": false,
    "ExecuteTime": {
     "start_time": "2023-06-17T18:54:48.262284Z",
     "end_time": "2023-06-17T18:54:48.370022Z"
    }
   }
  },
  {
   "cell_type": "code",
   "execution_count": 20,
   "outputs": [
    {
     "name": "stdout",
     "output_type": "stream",
     "text": [
      "<class 'pandas.core.frame.DataFrame'>\n",
      "RangeIndex: 46881677 entries, 0 to 46881676\n",
      "Data columns (total 19 columns):\n",
      " #   Column        Dtype  \n",
      "---  ------        -----  \n",
      " 0   id            object \n",
      " 1   item_id       object \n",
      " 2   dept_id       object \n",
      " 3   cat_id        object \n",
      " 4   store_id      object \n",
      " 5   state_id      object \n",
      " 6   daily_sales   int16  \n",
      " 7   wm_yr_wk      int16  \n",
      " 8   wday          int16  \n",
      " 9   month         int16  \n",
      " 10  year          int16  \n",
      " 11  event_name_1  object \n",
      " 12  event_type_1  object \n",
      " 13  event_name_2  object \n",
      " 14  event_type_2  object \n",
      " 15  snap_CA       int16  \n",
      " 16  snap_TX       int16  \n",
      " 17  snap_WI       int16  \n",
      " 18  sell_price    float32\n",
      "dtypes: float32(1), int16(8), object(10)\n",
      "memory usage: 4.4+ GB\n"
     ]
    }
   ],
   "source": [
    "## remove non-relevant features for LSTM input\n",
    "sales_data.drop(columns=['d', 'date', 'weekday'], inplace=True)\n",
    "sales_data = downcast_types(sales_data)\n",
    "sales_data.info()"
   ],
   "metadata": {
    "collapsed": false,
    "ExecuteTime": {
     "start_time": "2023-06-17T18:54:48.348025Z",
     "end_time": "2023-06-17T18:55:03.707262Z"
    }
   }
  },
  {
   "cell_type": "code",
   "execution_count": 21,
   "outputs": [
    {
     "data": {
      "text/plain": "                              id        item_id    dept_id   cat_id store_id  \\\n0  HOBBIES_1_008_CA_1_evaluation  HOBBIES_1_008  HOBBIES_1  HOBBIES     CA_1   \n1  HOBBIES_1_008_CA_1_evaluation  HOBBIES_1_008  HOBBIES_1  HOBBIES     CA_1   \n2  HOBBIES_1_008_CA_1_evaluation  HOBBIES_1_008  HOBBIES_1  HOBBIES     CA_1   \n3  HOBBIES_1_008_CA_1_evaluation  HOBBIES_1_008  HOBBIES_1  HOBBIES     CA_1   \n4  HOBBIES_1_008_CA_1_evaluation  HOBBIES_1_008  HOBBIES_1  HOBBIES     CA_1   \n5  HOBBIES_1_008_CA_1_evaluation  HOBBIES_1_008  HOBBIES_1  HOBBIES     CA_1   \n6  HOBBIES_1_008_CA_1_evaluation  HOBBIES_1_008  HOBBIES_1  HOBBIES     CA_1   \n7  HOBBIES_1_009_CA_1_evaluation  HOBBIES_1_009  HOBBIES_1  HOBBIES     CA_1   \n8  HOBBIES_1_009_CA_1_evaluation  HOBBIES_1_009  HOBBIES_1  HOBBIES     CA_1   \n9  HOBBIES_1_009_CA_1_evaluation  HOBBIES_1_009  HOBBIES_1  HOBBIES     CA_1   \n\n  state_id  daily_sales  wm_yr_wk  wday  month  year event_name_1  \\\n0       CA           12     11101     1      1  2011      unknown   \n1       CA           15     11101     2      1  2011      unknown   \n2       CA            0     11101     3      1  2011      unknown   \n3       CA            0     11101     4      2  2011      unknown   \n4       CA            0     11101     5      2  2011      unknown   \n5       CA            4     11101     6      2  2011      unknown   \n6       CA            6     11101     7      2  2011      unknown   \n7       CA            2     11101     1      1  2011      unknown   \n8       CA            0     11101     2      1  2011      unknown   \n9       CA            7     11101     3      1  2011      unknown   \n\n  event_type_1 event_name_2 event_type_2  snap_CA  snap_TX  snap_WI  \\\n0      unknown      unknown      unknown        0        0        0   \n1      unknown      unknown      unknown        0        0        0   \n2      unknown      unknown      unknown        0        0        0   \n3      unknown      unknown      unknown        1        1        0   \n4      unknown      unknown      unknown        1        0        1   \n5      unknown      unknown      unknown        1        1        1   \n6      unknown      unknown      unknown        1        0        0   \n7      unknown      unknown      unknown        0        0        0   \n8      unknown      unknown      unknown        0        0        0   \n9      unknown      unknown      unknown        0        0        0   \n\n   sell_price  \n0        0.46  \n1        0.46  \n2        0.46  \n3        0.46  \n4        0.46  \n5        0.46  \n6        0.46  \n7        1.56  \n8        1.56  \n9        1.56  ",
      "text/html": "<div>\n<style scoped>\n    .dataframe tbody tr th:only-of-type {\n        vertical-align: middle;\n    }\n\n    .dataframe tbody tr th {\n        vertical-align: top;\n    }\n\n    .dataframe thead th {\n        text-align: right;\n    }\n</style>\n<table border=\"1\" class=\"dataframe\">\n  <thead>\n    <tr style=\"text-align: right;\">\n      <th></th>\n      <th>id</th>\n      <th>item_id</th>\n      <th>dept_id</th>\n      <th>cat_id</th>\n      <th>store_id</th>\n      <th>state_id</th>\n      <th>daily_sales</th>\n      <th>wm_yr_wk</th>\n      <th>wday</th>\n      <th>month</th>\n      <th>year</th>\n      <th>event_name_1</th>\n      <th>event_type_1</th>\n      <th>event_name_2</th>\n      <th>event_type_2</th>\n      <th>snap_CA</th>\n      <th>snap_TX</th>\n      <th>snap_WI</th>\n      <th>sell_price</th>\n    </tr>\n  </thead>\n  <tbody>\n    <tr>\n      <th>0</th>\n      <td>HOBBIES_1_008_CA_1_evaluation</td>\n      <td>HOBBIES_1_008</td>\n      <td>HOBBIES_1</td>\n      <td>HOBBIES</td>\n      <td>CA_1</td>\n      <td>CA</td>\n      <td>12</td>\n      <td>11101</td>\n      <td>1</td>\n      <td>1</td>\n      <td>2011</td>\n      <td>unknown</td>\n      <td>unknown</td>\n      <td>unknown</td>\n      <td>unknown</td>\n      <td>0</td>\n      <td>0</td>\n      <td>0</td>\n      <td>0.46</td>\n    </tr>\n    <tr>\n      <th>1</th>\n      <td>HOBBIES_1_008_CA_1_evaluation</td>\n      <td>HOBBIES_1_008</td>\n      <td>HOBBIES_1</td>\n      <td>HOBBIES</td>\n      <td>CA_1</td>\n      <td>CA</td>\n      <td>15</td>\n      <td>11101</td>\n      <td>2</td>\n      <td>1</td>\n      <td>2011</td>\n      <td>unknown</td>\n      <td>unknown</td>\n      <td>unknown</td>\n      <td>unknown</td>\n      <td>0</td>\n      <td>0</td>\n      <td>0</td>\n      <td>0.46</td>\n    </tr>\n    <tr>\n      <th>2</th>\n      <td>HOBBIES_1_008_CA_1_evaluation</td>\n      <td>HOBBIES_1_008</td>\n      <td>HOBBIES_1</td>\n      <td>HOBBIES</td>\n      <td>CA_1</td>\n      <td>CA</td>\n      <td>0</td>\n      <td>11101</td>\n      <td>3</td>\n      <td>1</td>\n      <td>2011</td>\n      <td>unknown</td>\n      <td>unknown</td>\n      <td>unknown</td>\n      <td>unknown</td>\n      <td>0</td>\n      <td>0</td>\n      <td>0</td>\n      <td>0.46</td>\n    </tr>\n    <tr>\n      <th>3</th>\n      <td>HOBBIES_1_008_CA_1_evaluation</td>\n      <td>HOBBIES_1_008</td>\n      <td>HOBBIES_1</td>\n      <td>HOBBIES</td>\n      <td>CA_1</td>\n      <td>CA</td>\n      <td>0</td>\n      <td>11101</td>\n      <td>4</td>\n      <td>2</td>\n      <td>2011</td>\n      <td>unknown</td>\n      <td>unknown</td>\n      <td>unknown</td>\n      <td>unknown</td>\n      <td>1</td>\n      <td>1</td>\n      <td>0</td>\n      <td>0.46</td>\n    </tr>\n    <tr>\n      <th>4</th>\n      <td>HOBBIES_1_008_CA_1_evaluation</td>\n      <td>HOBBIES_1_008</td>\n      <td>HOBBIES_1</td>\n      <td>HOBBIES</td>\n      <td>CA_1</td>\n      <td>CA</td>\n      <td>0</td>\n      <td>11101</td>\n      <td>5</td>\n      <td>2</td>\n      <td>2011</td>\n      <td>unknown</td>\n      <td>unknown</td>\n      <td>unknown</td>\n      <td>unknown</td>\n      <td>1</td>\n      <td>0</td>\n      <td>1</td>\n      <td>0.46</td>\n    </tr>\n    <tr>\n      <th>5</th>\n      <td>HOBBIES_1_008_CA_1_evaluation</td>\n      <td>HOBBIES_1_008</td>\n      <td>HOBBIES_1</td>\n      <td>HOBBIES</td>\n      <td>CA_1</td>\n      <td>CA</td>\n      <td>4</td>\n      <td>11101</td>\n      <td>6</td>\n      <td>2</td>\n      <td>2011</td>\n      <td>unknown</td>\n      <td>unknown</td>\n      <td>unknown</td>\n      <td>unknown</td>\n      <td>1</td>\n      <td>1</td>\n      <td>1</td>\n      <td>0.46</td>\n    </tr>\n    <tr>\n      <th>6</th>\n      <td>HOBBIES_1_008_CA_1_evaluation</td>\n      <td>HOBBIES_1_008</td>\n      <td>HOBBIES_1</td>\n      <td>HOBBIES</td>\n      <td>CA_1</td>\n      <td>CA</td>\n      <td>6</td>\n      <td>11101</td>\n      <td>7</td>\n      <td>2</td>\n      <td>2011</td>\n      <td>unknown</td>\n      <td>unknown</td>\n      <td>unknown</td>\n      <td>unknown</td>\n      <td>1</td>\n      <td>0</td>\n      <td>0</td>\n      <td>0.46</td>\n    </tr>\n    <tr>\n      <th>7</th>\n      <td>HOBBIES_1_009_CA_1_evaluation</td>\n      <td>HOBBIES_1_009</td>\n      <td>HOBBIES_1</td>\n      <td>HOBBIES</td>\n      <td>CA_1</td>\n      <td>CA</td>\n      <td>2</td>\n      <td>11101</td>\n      <td>1</td>\n      <td>1</td>\n      <td>2011</td>\n      <td>unknown</td>\n      <td>unknown</td>\n      <td>unknown</td>\n      <td>unknown</td>\n      <td>0</td>\n      <td>0</td>\n      <td>0</td>\n      <td>1.56</td>\n    </tr>\n    <tr>\n      <th>8</th>\n      <td>HOBBIES_1_009_CA_1_evaluation</td>\n      <td>HOBBIES_1_009</td>\n      <td>HOBBIES_1</td>\n      <td>HOBBIES</td>\n      <td>CA_1</td>\n      <td>CA</td>\n      <td>0</td>\n      <td>11101</td>\n      <td>2</td>\n      <td>1</td>\n      <td>2011</td>\n      <td>unknown</td>\n      <td>unknown</td>\n      <td>unknown</td>\n      <td>unknown</td>\n      <td>0</td>\n      <td>0</td>\n      <td>0</td>\n      <td>1.56</td>\n    </tr>\n    <tr>\n      <th>9</th>\n      <td>HOBBIES_1_009_CA_1_evaluation</td>\n      <td>HOBBIES_1_009</td>\n      <td>HOBBIES_1</td>\n      <td>HOBBIES</td>\n      <td>CA_1</td>\n      <td>CA</td>\n      <td>7</td>\n      <td>11101</td>\n      <td>3</td>\n      <td>1</td>\n      <td>2011</td>\n      <td>unknown</td>\n      <td>unknown</td>\n      <td>unknown</td>\n      <td>unknown</td>\n      <td>0</td>\n      <td>0</td>\n      <td>0</td>\n      <td>1.56</td>\n    </tr>\n  </tbody>\n</table>\n</div>"
     },
     "execution_count": 21,
     "metadata": {},
     "output_type": "execute_result"
    }
   ],
   "source": [
    "sales_data.head(10)"
   ],
   "metadata": {
    "collapsed": false,
    "ExecuteTime": {
     "start_time": "2023-06-17T18:55:03.754880Z",
     "end_time": "2023-06-17T18:55:03.801558Z"
    }
   }
  },
  {
   "cell_type": "code",
   "execution_count": 22,
   "outputs": [],
   "source": [
    "all_items = sales_data['id'].unique()"
   ],
   "metadata": {
    "collapsed": false,
    "ExecuteTime": {
     "start_time": "2023-06-17T18:55:03.770289Z",
     "end_time": "2023-06-17T18:55:12.091251Z"
    }
   }
  },
  {
   "cell_type": "code",
   "execution_count": 23,
   "outputs": [],
   "source": [
    "item0_df = sales_data[sales_data['id'] == all_items[0]]"
   ],
   "metadata": {
    "collapsed": false,
    "ExecuteTime": {
     "start_time": "2023-06-17T18:55:12.094251Z",
     "end_time": "2023-06-17T18:55:16.725305Z"
    }
   }
  },
  {
   "cell_type": "code",
   "execution_count": 24,
   "outputs": [
    {
     "name": "stdout",
     "output_type": "stream",
     "text": [
      "<class 'pandas.core.frame.DataFrame'>\n",
      "RangeIndex: 1941 entries, 0 to 1940\n",
      "Data columns (total 13 columns):\n",
      " #   Column        Non-Null Count  Dtype  \n",
      "---  ------        --------------  -----  \n",
      " 0   wm_yr_wk      1941 non-null   int16  \n",
      " 1   wday          1941 non-null   int16  \n",
      " 2   month         1941 non-null   int16  \n",
      " 3   year          1941 non-null   int16  \n",
      " 4   event_name_1  1941 non-null   object \n",
      " 5   event_type_1  1941 non-null   object \n",
      " 6   event_name_2  1941 non-null   object \n",
      " 7   event_type_2  1941 non-null   object \n",
      " 8   snap_CA       1941 non-null   int16  \n",
      " 9   snap_TX       1941 non-null   int16  \n",
      " 10  snap_TX       1941 non-null   int16  \n",
      " 11  sell_price    1941 non-null   float32\n",
      " 12  daily_sales   1941 non-null   int16  \n",
      "dtypes: float32(1), int16(8), object(4)\n",
      "memory usage: 98.7+ KB\n"
     ]
    }
   ],
   "source": [
    "item_sales_df = item0_df[\n",
    "    ['wm_yr_wk', 'wday', 'month', 'year', 'event_name_1', 'event_type_1', 'event_name_2', 'event_type_2', 'snap_CA',\n",
    "     'snap_TX', 'snap_TX', 'sell_price', 'daily_sales']].reset_index(drop=True)\n",
    "item_sales_df.info()"
   ],
   "metadata": {
    "collapsed": false,
    "ExecuteTime": {
     "start_time": "2023-06-17T18:55:16.747412Z",
     "end_time": "2023-06-17T18:55:16.799821Z"
    }
   }
  },
  {
   "cell_type": "code",
   "execution_count": 25,
   "outputs": [
    {
     "data": {
      "text/plain": "wm_yr_wk        1941\nwday            1941\nmonth           1941\nyear            1941\nevent_name_1    1941\nevent_type_1    1941\nevent_name_2    1941\nevent_type_2    1941\nsnap_CA         1941\nsnap_TX         1941\nsnap_TX         1941\nsell_price      1941\ndaily_sales     1941\ndtype: int64"
     },
     "execution_count": 25,
     "metadata": {},
     "output_type": "execute_result"
    }
   ],
   "source": [
    "item_sales_df.count()"
   ],
   "metadata": {
    "collapsed": false,
    "ExecuteTime": {
     "start_time": "2023-06-17T18:55:16.800763Z",
     "end_time": "2023-06-17T18:55:16.881918Z"
    }
   }
  },
  {
   "cell_type": "code",
   "execution_count": 26,
   "outputs": [],
   "source": [
    "scaler = MinMaxScaler()\n",
    "numerical_features = ['daily_sales', 'sell_price']\n",
    "item_sales_df[numerical_features] = scaler.fit_transform(item_sales_df[numerical_features])"
   ],
   "metadata": {
    "collapsed": false,
    "ExecuteTime": {
     "start_time": "2023-06-17T18:55:16.818860Z",
     "end_time": "2023-06-17T18:55:16.883921Z"
    }
   }
  },
  {
   "cell_type": "code",
   "execution_count": 27,
   "outputs": [],
   "source": [
    "# Perform one-hot encoding for the specified columns\n",
    "one_hot_encoded_columns = ['event_name_1', 'event_type_1', 'event_name_2', 'event_type_2']\n",
    "item_sales_df = pd.get_dummies(item_sales_df, columns=one_hot_encoded_columns)"
   ],
   "metadata": {
    "collapsed": false,
    "ExecuteTime": {
     "start_time": "2023-06-17T18:55:16.888920Z",
     "end_time": "2023-06-17T18:55:16.948559Z"
    }
   }
  },
  {
   "cell_type": "code",
   "execution_count": 28,
   "outputs": [
    {
     "data": {
      "text/plain": "     wm_yr_wk  wday  month  year  snap_CA  snap_TX  snap_TX  sell_price  \\\n0       11101     1      1  2011        0        0        0         0.5   \n1       11101     2      1  2011        0        0        0         0.5   \n2       11101     3      1  2011        0        0        0         0.5   \n3       11101     4      2  2011        1        1        1         0.5   \n4       11101     5      2  2011        1        0        0         0.5   \n..        ...   ...    ...   ...      ...      ...      ...         ...   \n195     11128     7      8  2011        0        1        1         1.0   \n196     11129     1      8  2011        0        1        1         1.0   \n197     11129     2      8  2011        0        0        0         1.0   \n198     11129     3      8  2011        0        1        1         1.0   \n199     11129     4      8  2011        0        0        0         1.0   \n\n     daily_sales  event_name_1_Chanukah End  ...  event_type_1_Sporting  \\\n0       0.131868                          0  ...                      0   \n1       0.164835                          0  ...                      0   \n2       0.000000                          0  ...                      0   \n3       0.000000                          0  ...                      0   \n4       0.000000                          0  ...                      0   \n..           ...                        ...  ...                    ...   \n195     0.043956                          0  ...                      0   \n196     0.043956                          0  ...                      0   \n197     0.109890                          0  ...                      0   \n198     0.021978                          0  ...                      0   \n199     0.021978                          0  ...                      0   \n\n     event_type_1_unknown  event_name_2_Cinco De Mayo  event_name_2_Easter  \\\n0                       1                           0                    0   \n1                       1                           0                    0   \n2                       1                           0                    0   \n3                       1                           0                    0   \n4                       1                           0                    0   \n..                    ...                         ...                  ...   \n195                     1                           0                    0   \n196                     1                           0                    0   \n197                     1                           0                    0   \n198                     1                           0                    0   \n199                     1                           0                    0   \n\n     event_name_2_Father's day  event_name_2_OrthodoxEaster  \\\n0                            0                            0   \n1                            0                            0   \n2                            0                            0   \n3                            0                            0   \n4                            0                            0   \n..                         ...                          ...   \n195                          0                            0   \n196                          0                            0   \n197                          0                            0   \n198                          0                            0   \n199                          0                            0   \n\n     event_name_2_unknown  event_type_2_Cultural  event_type_2_Religious  \\\n0                       1                      0                       0   \n1                       1                      0                       0   \n2                       1                      0                       0   \n3                       1                      0                       0   \n4                       1                      0                       0   \n..                    ...                    ...                     ...   \n195                     1                      0                       0   \n196                     1                      0                       0   \n197                     1                      0                       0   \n198                     1                      0                       0   \n199                     1                      0                       0   \n\n     event_type_2_unknown  \n0                       1  \n1                       1  \n2                       1  \n3                       1  \n4                       1  \n..                    ...  \n195                     1  \n196                     1  \n197                     1  \n198                     1  \n199                     1  \n\n[200 rows x 53 columns]",
      "text/html": "<div>\n<style scoped>\n    .dataframe tbody tr th:only-of-type {\n        vertical-align: middle;\n    }\n\n    .dataframe tbody tr th {\n        vertical-align: top;\n    }\n\n    .dataframe thead th {\n        text-align: right;\n    }\n</style>\n<table border=\"1\" class=\"dataframe\">\n  <thead>\n    <tr style=\"text-align: right;\">\n      <th></th>\n      <th>wm_yr_wk</th>\n      <th>wday</th>\n      <th>month</th>\n      <th>year</th>\n      <th>snap_CA</th>\n      <th>snap_TX</th>\n      <th>snap_TX</th>\n      <th>sell_price</th>\n      <th>daily_sales</th>\n      <th>event_name_1_Chanukah End</th>\n      <th>...</th>\n      <th>event_type_1_Sporting</th>\n      <th>event_type_1_unknown</th>\n      <th>event_name_2_Cinco De Mayo</th>\n      <th>event_name_2_Easter</th>\n      <th>event_name_2_Father's day</th>\n      <th>event_name_2_OrthodoxEaster</th>\n      <th>event_name_2_unknown</th>\n      <th>event_type_2_Cultural</th>\n      <th>event_type_2_Religious</th>\n      <th>event_type_2_unknown</th>\n    </tr>\n  </thead>\n  <tbody>\n    <tr>\n      <th>0</th>\n      <td>11101</td>\n      <td>1</td>\n      <td>1</td>\n      <td>2011</td>\n      <td>0</td>\n      <td>0</td>\n      <td>0</td>\n      <td>0.5</td>\n      <td>0.131868</td>\n      <td>0</td>\n      <td>...</td>\n      <td>0</td>\n      <td>1</td>\n      <td>0</td>\n      <td>0</td>\n      <td>0</td>\n      <td>0</td>\n      <td>1</td>\n      <td>0</td>\n      <td>0</td>\n      <td>1</td>\n    </tr>\n    <tr>\n      <th>1</th>\n      <td>11101</td>\n      <td>2</td>\n      <td>1</td>\n      <td>2011</td>\n      <td>0</td>\n      <td>0</td>\n      <td>0</td>\n      <td>0.5</td>\n      <td>0.164835</td>\n      <td>0</td>\n      <td>...</td>\n      <td>0</td>\n      <td>1</td>\n      <td>0</td>\n      <td>0</td>\n      <td>0</td>\n      <td>0</td>\n      <td>1</td>\n      <td>0</td>\n      <td>0</td>\n      <td>1</td>\n    </tr>\n    <tr>\n      <th>2</th>\n      <td>11101</td>\n      <td>3</td>\n      <td>1</td>\n      <td>2011</td>\n      <td>0</td>\n      <td>0</td>\n      <td>0</td>\n      <td>0.5</td>\n      <td>0.000000</td>\n      <td>0</td>\n      <td>...</td>\n      <td>0</td>\n      <td>1</td>\n      <td>0</td>\n      <td>0</td>\n      <td>0</td>\n      <td>0</td>\n      <td>1</td>\n      <td>0</td>\n      <td>0</td>\n      <td>1</td>\n    </tr>\n    <tr>\n      <th>3</th>\n      <td>11101</td>\n      <td>4</td>\n      <td>2</td>\n      <td>2011</td>\n      <td>1</td>\n      <td>1</td>\n      <td>1</td>\n      <td>0.5</td>\n      <td>0.000000</td>\n      <td>0</td>\n      <td>...</td>\n      <td>0</td>\n      <td>1</td>\n      <td>0</td>\n      <td>0</td>\n      <td>0</td>\n      <td>0</td>\n      <td>1</td>\n      <td>0</td>\n      <td>0</td>\n      <td>1</td>\n    </tr>\n    <tr>\n      <th>4</th>\n      <td>11101</td>\n      <td>5</td>\n      <td>2</td>\n      <td>2011</td>\n      <td>1</td>\n      <td>0</td>\n      <td>0</td>\n      <td>0.5</td>\n      <td>0.000000</td>\n      <td>0</td>\n      <td>...</td>\n      <td>0</td>\n      <td>1</td>\n      <td>0</td>\n      <td>0</td>\n      <td>0</td>\n      <td>0</td>\n      <td>1</td>\n      <td>0</td>\n      <td>0</td>\n      <td>1</td>\n    </tr>\n    <tr>\n      <th>...</th>\n      <td>...</td>\n      <td>...</td>\n      <td>...</td>\n      <td>...</td>\n      <td>...</td>\n      <td>...</td>\n      <td>...</td>\n      <td>...</td>\n      <td>...</td>\n      <td>...</td>\n      <td>...</td>\n      <td>...</td>\n      <td>...</td>\n      <td>...</td>\n      <td>...</td>\n      <td>...</td>\n      <td>...</td>\n      <td>...</td>\n      <td>...</td>\n      <td>...</td>\n      <td>...</td>\n    </tr>\n    <tr>\n      <th>195</th>\n      <td>11128</td>\n      <td>7</td>\n      <td>8</td>\n      <td>2011</td>\n      <td>0</td>\n      <td>1</td>\n      <td>1</td>\n      <td>1.0</td>\n      <td>0.043956</td>\n      <td>0</td>\n      <td>...</td>\n      <td>0</td>\n      <td>1</td>\n      <td>0</td>\n      <td>0</td>\n      <td>0</td>\n      <td>0</td>\n      <td>1</td>\n      <td>0</td>\n      <td>0</td>\n      <td>1</td>\n    </tr>\n    <tr>\n      <th>196</th>\n      <td>11129</td>\n      <td>1</td>\n      <td>8</td>\n      <td>2011</td>\n      <td>0</td>\n      <td>1</td>\n      <td>1</td>\n      <td>1.0</td>\n      <td>0.043956</td>\n      <td>0</td>\n      <td>...</td>\n      <td>0</td>\n      <td>1</td>\n      <td>0</td>\n      <td>0</td>\n      <td>0</td>\n      <td>0</td>\n      <td>1</td>\n      <td>0</td>\n      <td>0</td>\n      <td>1</td>\n    </tr>\n    <tr>\n      <th>197</th>\n      <td>11129</td>\n      <td>2</td>\n      <td>8</td>\n      <td>2011</td>\n      <td>0</td>\n      <td>0</td>\n      <td>0</td>\n      <td>1.0</td>\n      <td>0.109890</td>\n      <td>0</td>\n      <td>...</td>\n      <td>0</td>\n      <td>1</td>\n      <td>0</td>\n      <td>0</td>\n      <td>0</td>\n      <td>0</td>\n      <td>1</td>\n      <td>0</td>\n      <td>0</td>\n      <td>1</td>\n    </tr>\n    <tr>\n      <th>198</th>\n      <td>11129</td>\n      <td>3</td>\n      <td>8</td>\n      <td>2011</td>\n      <td>0</td>\n      <td>1</td>\n      <td>1</td>\n      <td>1.0</td>\n      <td>0.021978</td>\n      <td>0</td>\n      <td>...</td>\n      <td>0</td>\n      <td>1</td>\n      <td>0</td>\n      <td>0</td>\n      <td>0</td>\n      <td>0</td>\n      <td>1</td>\n      <td>0</td>\n      <td>0</td>\n      <td>1</td>\n    </tr>\n    <tr>\n      <th>199</th>\n      <td>11129</td>\n      <td>4</td>\n      <td>8</td>\n      <td>2011</td>\n      <td>0</td>\n      <td>0</td>\n      <td>0</td>\n      <td>1.0</td>\n      <td>0.021978</td>\n      <td>0</td>\n      <td>...</td>\n      <td>0</td>\n      <td>1</td>\n      <td>0</td>\n      <td>0</td>\n      <td>0</td>\n      <td>0</td>\n      <td>1</td>\n      <td>0</td>\n      <td>0</td>\n      <td>1</td>\n    </tr>\n  </tbody>\n</table>\n<p>200 rows × 53 columns</p>\n</div>"
     },
     "execution_count": 28,
     "metadata": {},
     "output_type": "execute_result"
    }
   ],
   "source": [
    "bool_cols = item_sales_df.select_dtypes(include=['bool']).columns.tolist()\n",
    "for col in bool_cols:\n",
    "    item_sales_df[col] = item_sales_df[col].astype(int)\n",
    "int32_cols = item_sales_df.select_dtypes(include=['int32']).columns.tolist()\n",
    "for col in int32_cols:\n",
    "    item_sales_df[col] = item_sales_df[col].astype('int16')\n",
    "\n",
    "item_sales_df.head(200)"
   ],
   "metadata": {
    "collapsed": false,
    "ExecuteTime": {
     "start_time": "2023-06-17T18:55:16.941557Z",
     "end_time": "2023-06-17T18:55:17.092516Z"
    }
   }
  },
  {
   "cell_type": "code",
   "execution_count": 29,
   "outputs": [
    {
     "name": "stdout",
     "output_type": "stream",
     "text": [
      "<class 'pandas.core.frame.DataFrame'>\n",
      "RangeIndex: 1941 entries, 0 to 1940\n",
      "Data columns (total 53 columns):\n",
      " #   Column                            Non-Null Count  Dtype  \n",
      "---  ------                            --------------  -----  \n",
      " 0   wm_yr_wk                          1941 non-null   int16  \n",
      " 1   wday                              1941 non-null   int16  \n",
      " 2   month                             1941 non-null   int16  \n",
      " 3   year                              1941 non-null   int16  \n",
      " 4   snap_CA                           1941 non-null   int16  \n",
      " 5   snap_TX                           1941 non-null   int16  \n",
      " 6   snap_TX                           1941 non-null   int16  \n",
      " 7   sell_price                        1941 non-null   float32\n",
      " 8   daily_sales                       1941 non-null   float32\n",
      " 9   event_name_1_Chanukah End         1941 non-null   int16  \n",
      " 10  event_name_1_Christmas            1941 non-null   int16  \n",
      " 11  event_name_1_Cinco De Mayo        1941 non-null   int16  \n",
      " 12  event_name_1_ColumbusDay          1941 non-null   int16  \n",
      " 13  event_name_1_Easter               1941 non-null   int16  \n",
      " 14  event_name_1_Eid al-Fitr          1941 non-null   int16  \n",
      " 15  event_name_1_EidAlAdha            1941 non-null   int16  \n",
      " 16  event_name_1_Father's day         1941 non-null   int16  \n",
      " 17  event_name_1_Halloween            1941 non-null   int16  \n",
      " 18  event_name_1_IndependenceDay      1941 non-null   int16  \n",
      " 19  event_name_1_LaborDay             1941 non-null   int16  \n",
      " 20  event_name_1_LentStart            1941 non-null   int16  \n",
      " 21  event_name_1_LentWeek2            1941 non-null   int16  \n",
      " 22  event_name_1_MartinLutherKingDay  1941 non-null   int16  \n",
      " 23  event_name_1_MemorialDay          1941 non-null   int16  \n",
      " 24  event_name_1_Mother's day         1941 non-null   int16  \n",
      " 25  event_name_1_NBAFinalsEnd         1941 non-null   int16  \n",
      " 26  event_name_1_NBAFinalsStart       1941 non-null   int16  \n",
      " 27  event_name_1_NewYear              1941 non-null   int16  \n",
      " 28  event_name_1_OrthodoxChristmas    1941 non-null   int16  \n",
      " 29  event_name_1_OrthodoxEaster       1941 non-null   int16  \n",
      " 30  event_name_1_Pesach End           1941 non-null   int16  \n",
      " 31  event_name_1_PresidentsDay        1941 non-null   int16  \n",
      " 32  event_name_1_Purim End            1941 non-null   int16  \n",
      " 33  event_name_1_Ramadan starts       1941 non-null   int16  \n",
      " 34  event_name_1_StPatricksDay        1941 non-null   int16  \n",
      " 35  event_name_1_SuperBowl            1941 non-null   int16  \n",
      " 36  event_name_1_Thanksgiving         1941 non-null   int16  \n",
      " 37  event_name_1_ValentinesDay        1941 non-null   int16  \n",
      " 38  event_name_1_VeteransDay          1941 non-null   int16  \n",
      " 39  event_name_1_unknown              1941 non-null   int16  \n",
      " 40  event_type_1_Cultural             1941 non-null   int16  \n",
      " 41  event_type_1_National             1941 non-null   int16  \n",
      " 42  event_type_1_Religious            1941 non-null   int16  \n",
      " 43  event_type_1_Sporting             1941 non-null   int16  \n",
      " 44  event_type_1_unknown              1941 non-null   int16  \n",
      " 45  event_name_2_Cinco De Mayo        1941 non-null   int16  \n",
      " 46  event_name_2_Easter               1941 non-null   int16  \n",
      " 47  event_name_2_Father's day         1941 non-null   int16  \n",
      " 48  event_name_2_OrthodoxEaster       1941 non-null   int16  \n",
      " 49  event_name_2_unknown              1941 non-null   int16  \n",
      " 50  event_type_2_Cultural             1941 non-null   int16  \n",
      " 51  event_type_2_Religious            1941 non-null   int16  \n",
      " 52  event_type_2_unknown              1941 non-null   int16  \n",
      "dtypes: float32(2), int16(51)\n",
      "memory usage: 208.6 KB\n"
     ]
    }
   ],
   "source": [
    "item_sales_df.info()"
   ],
   "metadata": {
    "collapsed": false,
    "ExecuteTime": {
     "start_time": "2023-06-17T18:55:17.091515Z",
     "end_time": "2023-06-17T18:55:17.150023Z"
    }
   }
  },
  {
   "cell_type": "code",
   "execution_count": 30,
   "outputs": [
    {
     "data": {
      "text/plain": "(1941, 53)"
     },
     "execution_count": 30,
     "metadata": {},
     "output_type": "execute_result"
    }
   ],
   "source": [
    "item_sales_df.shape"
   ],
   "metadata": {
    "collapsed": false,
    "ExecuteTime": {
     "start_time": "2023-06-17T18:55:17.131750Z",
     "end_time": "2023-06-17T18:55:17.265225Z"
    }
   }
  },
  {
   "cell_type": "markdown",
   "source": [],
   "metadata": {
    "collapsed": false
   }
  },
  {
   "cell_type": "code",
   "execution_count": 31,
   "outputs": [],
   "source": [
    "# for i in range(n_past, len(item_sales_df) - n_future + 1):\n"
   ],
   "metadata": {
    "collapsed": false,
    "ExecuteTime": {
     "start_time": "2023-06-17T18:55:17.172633Z",
     "end_time": "2023-06-17T18:55:17.390454Z"
    }
   }
  },
  {
   "cell_type": "code",
   "execution_count": 32,
   "outputs": [],
   "source": [
    "## Reshape data for LSTM input format [samples, time steps, features]\n",
    "# time_window = 14\n",
    "# data = []\n",
    "# for i in range(len(sales_data) - time_window):\n",
    "#     data.append(sales_data.iloc[i:i+time_window].values)\n",
    "# data = np.array(data)"
   ],
   "metadata": {
    "collapsed": false,
    "ExecuteTime": {
     "start_time": "2023-06-17T18:55:17.181644Z",
     "end_time": "2023-06-17T18:55:17.475799Z"
    }
   }
  },
  {
   "cell_type": "code",
   "execution_count": 33,
   "outputs": [],
   "source": [
    "# def print_array_info(array):\n",
    "#     print(\"Array Elements:\")\n",
    "#     print(array)\n",
    "#     print(\"Array Shape:\", array.shape)\n",
    "#     print(\"Array Size:\", array.size)\n",
    "#     print(\"Array Dimensions:\", array.ndim)\n",
    "#     print(\"Array Data Type:\", array.dtype)\n",
    "#\n",
    "# print_array_info(data)"
   ],
   "metadata": {
    "collapsed": false,
    "ExecuteTime": {
     "start_time": "2023-06-17T18:55:17.208455Z",
     "end_time": "2023-06-17T18:55:17.475799Z"
    }
   }
  },
  {
   "cell_type": "code",
   "execution_count": 35,
   "outputs": [],
   "source": [
    "# The expected output is a DataFrame containing the predicted sales for the next 28 days (F1-F28) for each item-store pair, both for the public leaderboard (validation) and private leaderboard (evaluation).\n",
    "#\n",
    "#\n",
    "# For evaluating the model, we used the RMSSE score as specified. It measures the deviation between predicted sales and actual sales at the store level, taking into account the scaling factor of actual sales. This provides a better understanding of forecast accuracy and helps in comparing models."
   ],
   "metadata": {
    "collapsed": false,
    "ExecuteTime": {
     "start_time": "2023-06-17T18:55:17.230481Z",
     "end_time": "2023-06-17T18:55:17.475799Z"
    }
   }
  }
 ],
 "metadata": {
  "kernelspec": {
   "display_name": "Python 3",
   "language": "python",
   "name": "python3"
  },
  "language_info": {
   "codemirror_mode": {
    "name": "ipython",
    "version": 2
   },
   "file_extension": ".py",
   "mimetype": "text/x-python",
   "name": "python",
   "nbconvert_exporter": "python",
   "pygments_lexer": "ipython2",
   "version": "2.7.6"
  }
 },
 "nbformat": 4,
 "nbformat_minor": 0
}
