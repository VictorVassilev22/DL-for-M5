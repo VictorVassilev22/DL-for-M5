{
 "cells": [
  {
   "cell_type": "code",
   "execution_count": 1,
   "metadata": {
    "collapsed": true,
    "ExecuteTime": {
     "end_time": "2023-06-25T13:50:01.658662100Z",
     "start_time": "2023-06-25T13:50:01.330443100Z"
    }
   },
   "outputs": [],
   "source": [
    "import numpy as np\n",
    "import pandas as pd\n",
    "import config.config_paths as paths"
   ]
  },
  {
   "cell_type": "code",
   "execution_count": 2,
   "outputs": [],
   "source": [
    "# Reading the CSV files\n",
    "cal_data = pd.read_csv(paths.calendar_path)\n",
    "# salestv_data = pd.read_csv(paths.sales_train_val_path)\n",
    "salestv_data = pd.read_csv(paths.sales_train_eval_path)\n",
    "ss_data = pd.read_csv(paths.sample_submission_path)"
   ],
   "metadata": {
    "collapsed": false,
    "ExecuteTime": {
     "end_time": "2023-06-25T13:50:03.556921200Z",
     "start_time": "2023-06-25T13:50:01.660662400Z"
    }
   }
  },
  {
   "cell_type": "code",
   "execution_count": 3,
   "outputs": [],
   "source": [
    "timesteps=14\n",
    "startDay=0"
   ],
   "metadata": {
    "collapsed": false,
    "ExecuteTime": {
     "end_time": "2023-06-25T13:50:03.572930500Z",
     "start_time": "2023-06-25T13:50:03.557921200Z"
    }
   }
  },
  {
   "cell_type": "code",
   "execution_count": 4,
   "outputs": [
    {
     "data": {
      "text/plain": "(30490, 1947)"
     },
     "execution_count": 4,
     "metadata": {},
     "output_type": "execute_result"
    }
   ],
   "source": [
    "salestv_data.shape"
   ],
   "metadata": {
    "collapsed": false,
    "ExecuteTime": {
     "end_time": "2023-06-25T13:50:03.619188Z",
     "start_time": "2023-06-25T13:50:03.573931200Z"
    }
   }
  },
  {
   "cell_type": "code",
   "execution_count": 5,
   "outputs": [
    {
     "data": {
      "text/plain": "                              id        item_id    dept_id   cat_id store_id  \\\n0  HOBBIES_1_001_CA_1_evaluation  HOBBIES_1_001  HOBBIES_1  HOBBIES     CA_1   \n1  HOBBIES_1_002_CA_1_evaluation  HOBBIES_1_002  HOBBIES_1  HOBBIES     CA_1   \n2  HOBBIES_1_003_CA_1_evaluation  HOBBIES_1_003  HOBBIES_1  HOBBIES     CA_1   \n3  HOBBIES_1_004_CA_1_evaluation  HOBBIES_1_004  HOBBIES_1  HOBBIES     CA_1   \n4  HOBBIES_1_005_CA_1_evaluation  HOBBIES_1_005  HOBBIES_1  HOBBIES     CA_1   \n\n  state_id  d_1  d_2  d_3  d_4  ...  d_1932  d_1933  d_1934  d_1935  d_1936  \\\n0       CA    0    0    0    0  ...       2       4       0       0       0   \n1       CA    0    0    0    0  ...       0       1       2       1       1   \n2       CA    0    0    0    0  ...       1       0       2       0       0   \n3       CA    0    0    0    0  ...       1       1       0       4       0   \n4       CA    0    0    0    0  ...       0       0       0       2       1   \n\n   d_1937  d_1938  d_1939  d_1940  d_1941  \n0       0       3       3       0       1  \n1       0       0       0       0       0  \n2       0       2       3       0       1  \n3       1       3       0       2       6  \n4       0       0       2       1       0  \n\n[5 rows x 1947 columns]",
      "text/html": "<div>\n<style scoped>\n    .dataframe tbody tr th:only-of-type {\n        vertical-align: middle;\n    }\n\n    .dataframe tbody tr th {\n        vertical-align: top;\n    }\n\n    .dataframe thead th {\n        text-align: right;\n    }\n</style>\n<table border=\"1\" class=\"dataframe\">\n  <thead>\n    <tr style=\"text-align: right;\">\n      <th></th>\n      <th>id</th>\n      <th>item_id</th>\n      <th>dept_id</th>\n      <th>cat_id</th>\n      <th>store_id</th>\n      <th>state_id</th>\n      <th>d_1</th>\n      <th>d_2</th>\n      <th>d_3</th>\n      <th>d_4</th>\n      <th>...</th>\n      <th>d_1932</th>\n      <th>d_1933</th>\n      <th>d_1934</th>\n      <th>d_1935</th>\n      <th>d_1936</th>\n      <th>d_1937</th>\n      <th>d_1938</th>\n      <th>d_1939</th>\n      <th>d_1940</th>\n      <th>d_1941</th>\n    </tr>\n  </thead>\n  <tbody>\n    <tr>\n      <th>0</th>\n      <td>HOBBIES_1_001_CA_1_evaluation</td>\n      <td>HOBBIES_1_001</td>\n      <td>HOBBIES_1</td>\n      <td>HOBBIES</td>\n      <td>CA_1</td>\n      <td>CA</td>\n      <td>0</td>\n      <td>0</td>\n      <td>0</td>\n      <td>0</td>\n      <td>...</td>\n      <td>2</td>\n      <td>4</td>\n      <td>0</td>\n      <td>0</td>\n      <td>0</td>\n      <td>0</td>\n      <td>3</td>\n      <td>3</td>\n      <td>0</td>\n      <td>1</td>\n    </tr>\n    <tr>\n      <th>1</th>\n      <td>HOBBIES_1_002_CA_1_evaluation</td>\n      <td>HOBBIES_1_002</td>\n      <td>HOBBIES_1</td>\n      <td>HOBBIES</td>\n      <td>CA_1</td>\n      <td>CA</td>\n      <td>0</td>\n      <td>0</td>\n      <td>0</td>\n      <td>0</td>\n      <td>...</td>\n      <td>0</td>\n      <td>1</td>\n      <td>2</td>\n      <td>1</td>\n      <td>1</td>\n      <td>0</td>\n      <td>0</td>\n      <td>0</td>\n      <td>0</td>\n      <td>0</td>\n    </tr>\n    <tr>\n      <th>2</th>\n      <td>HOBBIES_1_003_CA_1_evaluation</td>\n      <td>HOBBIES_1_003</td>\n      <td>HOBBIES_1</td>\n      <td>HOBBIES</td>\n      <td>CA_1</td>\n      <td>CA</td>\n      <td>0</td>\n      <td>0</td>\n      <td>0</td>\n      <td>0</td>\n      <td>...</td>\n      <td>1</td>\n      <td>0</td>\n      <td>2</td>\n      <td>0</td>\n      <td>0</td>\n      <td>0</td>\n      <td>2</td>\n      <td>3</td>\n      <td>0</td>\n      <td>1</td>\n    </tr>\n    <tr>\n      <th>3</th>\n      <td>HOBBIES_1_004_CA_1_evaluation</td>\n      <td>HOBBIES_1_004</td>\n      <td>HOBBIES_1</td>\n      <td>HOBBIES</td>\n      <td>CA_1</td>\n      <td>CA</td>\n      <td>0</td>\n      <td>0</td>\n      <td>0</td>\n      <td>0</td>\n      <td>...</td>\n      <td>1</td>\n      <td>1</td>\n      <td>0</td>\n      <td>4</td>\n      <td>0</td>\n      <td>1</td>\n      <td>3</td>\n      <td>0</td>\n      <td>2</td>\n      <td>6</td>\n    </tr>\n    <tr>\n      <th>4</th>\n      <td>HOBBIES_1_005_CA_1_evaluation</td>\n      <td>HOBBIES_1_005</td>\n      <td>HOBBIES_1</td>\n      <td>HOBBIES</td>\n      <td>CA_1</td>\n      <td>CA</td>\n      <td>0</td>\n      <td>0</td>\n      <td>0</td>\n      <td>0</td>\n      <td>...</td>\n      <td>0</td>\n      <td>0</td>\n      <td>0</td>\n      <td>2</td>\n      <td>1</td>\n      <td>0</td>\n      <td>0</td>\n      <td>2</td>\n      <td>1</td>\n      <td>0</td>\n    </tr>\n  </tbody>\n</table>\n<p>5 rows × 1947 columns</p>\n</div>"
     },
     "execution_count": 5,
     "metadata": {},
     "output_type": "execute_result"
    }
   ],
   "source": [
    "salestv_data.head()"
   ],
   "metadata": {
    "collapsed": false,
    "ExecuteTime": {
     "end_time": "2023-06-25T13:50:03.626190900Z",
     "start_time": "2023-06-25T13:50:03.590182100Z"
    }
   }
  },
  {
   "cell_type": "code",
   "execution_count": 6,
   "outputs": [
    {
     "data": {
      "text/plain": "         date  wm_yr_wk    weekday  wday  month  year    d event_name_1  \\\n0  2011-01-29     11101   Saturday     1      1  2011  d_1          NaN   \n1  2011-01-30     11101     Sunday     2      1  2011  d_2          NaN   \n2  2011-01-31     11101     Monday     3      1  2011  d_3          NaN   \n3  2011-02-01     11101    Tuesday     4      2  2011  d_4          NaN   \n4  2011-02-02     11101  Wednesday     5      2  2011  d_5          NaN   \n\n  event_type_1 event_name_2 event_type_2  snap_CA  snap_TX  snap_WI  \n0          NaN          NaN          NaN        0        0        0  \n1          NaN          NaN          NaN        0        0        0  \n2          NaN          NaN          NaN        0        0        0  \n3          NaN          NaN          NaN        1        1        0  \n4          NaN          NaN          NaN        1        0        1  ",
      "text/html": "<div>\n<style scoped>\n    .dataframe tbody tr th:only-of-type {\n        vertical-align: middle;\n    }\n\n    .dataframe tbody tr th {\n        vertical-align: top;\n    }\n\n    .dataframe thead th {\n        text-align: right;\n    }\n</style>\n<table border=\"1\" class=\"dataframe\">\n  <thead>\n    <tr style=\"text-align: right;\">\n      <th></th>\n      <th>date</th>\n      <th>wm_yr_wk</th>\n      <th>weekday</th>\n      <th>wday</th>\n      <th>month</th>\n      <th>year</th>\n      <th>d</th>\n      <th>event_name_1</th>\n      <th>event_type_1</th>\n      <th>event_name_2</th>\n      <th>event_type_2</th>\n      <th>snap_CA</th>\n      <th>snap_TX</th>\n      <th>snap_WI</th>\n    </tr>\n  </thead>\n  <tbody>\n    <tr>\n      <th>0</th>\n      <td>2011-01-29</td>\n      <td>11101</td>\n      <td>Saturday</td>\n      <td>1</td>\n      <td>1</td>\n      <td>2011</td>\n      <td>d_1</td>\n      <td>NaN</td>\n      <td>NaN</td>\n      <td>NaN</td>\n      <td>NaN</td>\n      <td>0</td>\n      <td>0</td>\n      <td>0</td>\n    </tr>\n    <tr>\n      <th>1</th>\n      <td>2011-01-30</td>\n      <td>11101</td>\n      <td>Sunday</td>\n      <td>2</td>\n      <td>1</td>\n      <td>2011</td>\n      <td>d_2</td>\n      <td>NaN</td>\n      <td>NaN</td>\n      <td>NaN</td>\n      <td>NaN</td>\n      <td>0</td>\n      <td>0</td>\n      <td>0</td>\n    </tr>\n    <tr>\n      <th>2</th>\n      <td>2011-01-31</td>\n      <td>11101</td>\n      <td>Monday</td>\n      <td>3</td>\n      <td>1</td>\n      <td>2011</td>\n      <td>d_3</td>\n      <td>NaN</td>\n      <td>NaN</td>\n      <td>NaN</td>\n      <td>NaN</td>\n      <td>0</td>\n      <td>0</td>\n      <td>0</td>\n    </tr>\n    <tr>\n      <th>3</th>\n      <td>2011-02-01</td>\n      <td>11101</td>\n      <td>Tuesday</td>\n      <td>4</td>\n      <td>2</td>\n      <td>2011</td>\n      <td>d_4</td>\n      <td>NaN</td>\n      <td>NaN</td>\n      <td>NaN</td>\n      <td>NaN</td>\n      <td>1</td>\n      <td>1</td>\n      <td>0</td>\n    </tr>\n    <tr>\n      <th>4</th>\n      <td>2011-02-02</td>\n      <td>11101</td>\n      <td>Wednesday</td>\n      <td>5</td>\n      <td>2</td>\n      <td>2011</td>\n      <td>d_5</td>\n      <td>NaN</td>\n      <td>NaN</td>\n      <td>NaN</td>\n      <td>NaN</td>\n      <td>1</td>\n      <td>0</td>\n      <td>1</td>\n    </tr>\n  </tbody>\n</table>\n</div>"
     },
     "execution_count": 6,
     "metadata": {},
     "output_type": "execute_result"
    }
   ],
   "source": [
    "cal_data.head()"
   ],
   "metadata": {
    "collapsed": false,
    "ExecuteTime": {
     "end_time": "2023-06-25T13:50:03.627190300Z",
     "start_time": "2023-06-25T13:50:03.619188Z"
    }
   }
  },
  {
   "cell_type": "code",
   "execution_count": 7,
   "outputs": [
    {
     "data": {
      "text/plain": "                                id  F1  F2  F3  F4  F5  F6  F7  F8  F9  ...  \\\n60975  FOODS_3_823_WI_3_evaluation   0   0   0   0   0   0   0   0   0  ...   \n60976  FOODS_3_824_WI_3_evaluation   0   0   0   0   0   0   0   0   0  ...   \n60977  FOODS_3_825_WI_3_evaluation   0   0   0   0   0   0   0   0   0  ...   \n60978  FOODS_3_826_WI_3_evaluation   0   0   0   0   0   0   0   0   0  ...   \n60979  FOODS_3_827_WI_3_evaluation   0   0   0   0   0   0   0   0   0  ...   \n\n       F19  F20  F21  F22  F23  F24  F25  F26  F27  F28  \n60975    0    0    0    0    0    0    0    0    0    0  \n60976    0    0    0    0    0    0    0    0    0    0  \n60977    0    0    0    0    0    0    0    0    0    0  \n60978    0    0    0    0    0    0    0    0    0    0  \n60979    0    0    0    0    0    0    0    0    0    0  \n\n[5 rows x 29 columns]",
      "text/html": "<div>\n<style scoped>\n    .dataframe tbody tr th:only-of-type {\n        vertical-align: middle;\n    }\n\n    .dataframe tbody tr th {\n        vertical-align: top;\n    }\n\n    .dataframe thead th {\n        text-align: right;\n    }\n</style>\n<table border=\"1\" class=\"dataframe\">\n  <thead>\n    <tr style=\"text-align: right;\">\n      <th></th>\n      <th>id</th>\n      <th>F1</th>\n      <th>F2</th>\n      <th>F3</th>\n      <th>F4</th>\n      <th>F5</th>\n      <th>F6</th>\n      <th>F7</th>\n      <th>F8</th>\n      <th>F9</th>\n      <th>...</th>\n      <th>F19</th>\n      <th>F20</th>\n      <th>F21</th>\n      <th>F22</th>\n      <th>F23</th>\n      <th>F24</th>\n      <th>F25</th>\n      <th>F26</th>\n      <th>F27</th>\n      <th>F28</th>\n    </tr>\n  </thead>\n  <tbody>\n    <tr>\n      <th>60975</th>\n      <td>FOODS_3_823_WI_3_evaluation</td>\n      <td>0</td>\n      <td>0</td>\n      <td>0</td>\n      <td>0</td>\n      <td>0</td>\n      <td>0</td>\n      <td>0</td>\n      <td>0</td>\n      <td>0</td>\n      <td>...</td>\n      <td>0</td>\n      <td>0</td>\n      <td>0</td>\n      <td>0</td>\n      <td>0</td>\n      <td>0</td>\n      <td>0</td>\n      <td>0</td>\n      <td>0</td>\n      <td>0</td>\n    </tr>\n    <tr>\n      <th>60976</th>\n      <td>FOODS_3_824_WI_3_evaluation</td>\n      <td>0</td>\n      <td>0</td>\n      <td>0</td>\n      <td>0</td>\n      <td>0</td>\n      <td>0</td>\n      <td>0</td>\n      <td>0</td>\n      <td>0</td>\n      <td>...</td>\n      <td>0</td>\n      <td>0</td>\n      <td>0</td>\n      <td>0</td>\n      <td>0</td>\n      <td>0</td>\n      <td>0</td>\n      <td>0</td>\n      <td>0</td>\n      <td>0</td>\n    </tr>\n    <tr>\n      <th>60977</th>\n      <td>FOODS_3_825_WI_3_evaluation</td>\n      <td>0</td>\n      <td>0</td>\n      <td>0</td>\n      <td>0</td>\n      <td>0</td>\n      <td>0</td>\n      <td>0</td>\n      <td>0</td>\n      <td>0</td>\n      <td>...</td>\n      <td>0</td>\n      <td>0</td>\n      <td>0</td>\n      <td>0</td>\n      <td>0</td>\n      <td>0</td>\n      <td>0</td>\n      <td>0</td>\n      <td>0</td>\n      <td>0</td>\n    </tr>\n    <tr>\n      <th>60978</th>\n      <td>FOODS_3_826_WI_3_evaluation</td>\n      <td>0</td>\n      <td>0</td>\n      <td>0</td>\n      <td>0</td>\n      <td>0</td>\n      <td>0</td>\n      <td>0</td>\n      <td>0</td>\n      <td>0</td>\n      <td>...</td>\n      <td>0</td>\n      <td>0</td>\n      <td>0</td>\n      <td>0</td>\n      <td>0</td>\n      <td>0</td>\n      <td>0</td>\n      <td>0</td>\n      <td>0</td>\n      <td>0</td>\n    </tr>\n    <tr>\n      <th>60979</th>\n      <td>FOODS_3_827_WI_3_evaluation</td>\n      <td>0</td>\n      <td>0</td>\n      <td>0</td>\n      <td>0</td>\n      <td>0</td>\n      <td>0</td>\n      <td>0</td>\n      <td>0</td>\n      <td>0</td>\n      <td>...</td>\n      <td>0</td>\n      <td>0</td>\n      <td>0</td>\n      <td>0</td>\n      <td>0</td>\n      <td>0</td>\n      <td>0</td>\n      <td>0</td>\n      <td>0</td>\n      <td>0</td>\n    </tr>\n  </tbody>\n</table>\n<p>5 rows × 29 columns</p>\n</div>"
     },
     "execution_count": 7,
     "metadata": {},
     "output_type": "execute_result"
    }
   ],
   "source": [
    "ss_data.tail()"
   ],
   "metadata": {
    "collapsed": false,
    "ExecuteTime": {
     "end_time": "2023-06-25T13:50:03.636192900Z",
     "start_time": "2023-06-25T13:50:03.620189Z"
    }
   }
  },
  {
   "cell_type": "code",
   "execution_count": 8,
   "outputs": [
    {
     "data": {
      "text/plain": "                d_1           d_2           d_3           d_4           d_5  \\\ncount  30490.000000  30490.000000  30490.000000  30490.000000  30490.000000   \nmean       1.070220      1.041292      0.780026      0.833454      0.627944   \nstd        5.126689      5.365468      3.667454      4.415141      3.379344   \nmin        0.000000      0.000000      0.000000      0.000000      0.000000   \n25%        0.000000      0.000000      0.000000      0.000000      0.000000   \n50%        0.000000      0.000000      0.000000      0.000000      0.000000   \n75%        0.000000      0.000000      0.000000      0.000000      0.000000   \nmax      360.000000    436.000000    207.000000    323.000000    296.000000   \n\n                d_6           d_7           d_8           d_9          d_10  \\\ncount  30490.000000  30490.000000  30490.000000  30490.000000  30490.000000   \nmean       0.958052      0.918662      1.244080      1.073663      0.838701   \nstd        4.785947      5.059495      6.617729      5.917204      4.206199   \nmin        0.000000      0.000000      0.000000      0.000000      0.000000   \n25%        0.000000      0.000000      0.000000      0.000000      0.000000   \n50%        0.000000      0.000000      0.000000      0.000000      0.000000   \n75%        0.000000      0.000000      0.000000      0.000000      0.000000   \nmax      314.000000    316.000000    370.000000    385.000000    353.000000   \n\n       ...        d_1932        d_1933        d_1934        d_1935  \\\ncount  ...  30490.000000  30490.000000  30490.000000  30490.000000   \nmean   ...      1.445490      1.781174      1.965267      1.389374   \nstd    ...      3.656824      4.426550      4.706284      3.313292   \nmin    ...      0.000000      0.000000      0.000000      0.000000   \n25%    ...      0.000000      0.000000      0.000000      0.000000   \n50%    ...      0.000000      1.000000      1.000000      0.000000   \n75%    ...      2.000000      2.000000      2.000000      2.000000   \nmax    ...    143.000000    156.000000    187.000000     98.000000   \n\n             d_1936        d_1937        d_1938        d_1939        d_1940  \\\ncount  30490.000000  30490.000000  30490.000000  30490.000000  30490.000000   \nmean       1.271794      1.216661      1.212299      1.395605      1.689669   \nstd        3.126178      3.000348      2.955910      3.514318      4.089208   \nmin        0.000000      0.000000      0.000000      0.000000      0.000000   \n25%        0.000000      0.000000      0.000000      0.000000      0.000000   \n50%        0.000000      0.000000      0.000000      0.000000      1.000000   \n75%        1.000000      1.000000      1.000000      1.000000      2.000000   \nmax       90.000000     77.000000     84.000000    110.000000    156.000000   \n\n             d_1941  \ncount  30490.000000  \nmean       1.782158  \nstd        4.284356  \nmin        0.000000  \n25%        0.000000  \n50%        1.000000  \n75%        2.000000  \nmax      117.000000  \n\n[8 rows x 1941 columns]",
      "text/html": "<div>\n<style scoped>\n    .dataframe tbody tr th:only-of-type {\n        vertical-align: middle;\n    }\n\n    .dataframe tbody tr th {\n        vertical-align: top;\n    }\n\n    .dataframe thead th {\n        text-align: right;\n    }\n</style>\n<table border=\"1\" class=\"dataframe\">\n  <thead>\n    <tr style=\"text-align: right;\">\n      <th></th>\n      <th>d_1</th>\n      <th>d_2</th>\n      <th>d_3</th>\n      <th>d_4</th>\n      <th>d_5</th>\n      <th>d_6</th>\n      <th>d_7</th>\n      <th>d_8</th>\n      <th>d_9</th>\n      <th>d_10</th>\n      <th>...</th>\n      <th>d_1932</th>\n      <th>d_1933</th>\n      <th>d_1934</th>\n      <th>d_1935</th>\n      <th>d_1936</th>\n      <th>d_1937</th>\n      <th>d_1938</th>\n      <th>d_1939</th>\n      <th>d_1940</th>\n      <th>d_1941</th>\n    </tr>\n  </thead>\n  <tbody>\n    <tr>\n      <th>count</th>\n      <td>30490.000000</td>\n      <td>30490.000000</td>\n      <td>30490.000000</td>\n      <td>30490.000000</td>\n      <td>30490.000000</td>\n      <td>30490.000000</td>\n      <td>30490.000000</td>\n      <td>30490.000000</td>\n      <td>30490.000000</td>\n      <td>30490.000000</td>\n      <td>...</td>\n      <td>30490.000000</td>\n      <td>30490.000000</td>\n      <td>30490.000000</td>\n      <td>30490.000000</td>\n      <td>30490.000000</td>\n      <td>30490.000000</td>\n      <td>30490.000000</td>\n      <td>30490.000000</td>\n      <td>30490.000000</td>\n      <td>30490.000000</td>\n    </tr>\n    <tr>\n      <th>mean</th>\n      <td>1.070220</td>\n      <td>1.041292</td>\n      <td>0.780026</td>\n      <td>0.833454</td>\n      <td>0.627944</td>\n      <td>0.958052</td>\n      <td>0.918662</td>\n      <td>1.244080</td>\n      <td>1.073663</td>\n      <td>0.838701</td>\n      <td>...</td>\n      <td>1.445490</td>\n      <td>1.781174</td>\n      <td>1.965267</td>\n      <td>1.389374</td>\n      <td>1.271794</td>\n      <td>1.216661</td>\n      <td>1.212299</td>\n      <td>1.395605</td>\n      <td>1.689669</td>\n      <td>1.782158</td>\n    </tr>\n    <tr>\n      <th>std</th>\n      <td>5.126689</td>\n      <td>5.365468</td>\n      <td>3.667454</td>\n      <td>4.415141</td>\n      <td>3.379344</td>\n      <td>4.785947</td>\n      <td>5.059495</td>\n      <td>6.617729</td>\n      <td>5.917204</td>\n      <td>4.206199</td>\n      <td>...</td>\n      <td>3.656824</td>\n      <td>4.426550</td>\n      <td>4.706284</td>\n      <td>3.313292</td>\n      <td>3.126178</td>\n      <td>3.000348</td>\n      <td>2.955910</td>\n      <td>3.514318</td>\n      <td>4.089208</td>\n      <td>4.284356</td>\n    </tr>\n    <tr>\n      <th>min</th>\n      <td>0.000000</td>\n      <td>0.000000</td>\n      <td>0.000000</td>\n      <td>0.000000</td>\n      <td>0.000000</td>\n      <td>0.000000</td>\n      <td>0.000000</td>\n      <td>0.000000</td>\n      <td>0.000000</td>\n      <td>0.000000</td>\n      <td>...</td>\n      <td>0.000000</td>\n      <td>0.000000</td>\n      <td>0.000000</td>\n      <td>0.000000</td>\n      <td>0.000000</td>\n      <td>0.000000</td>\n      <td>0.000000</td>\n      <td>0.000000</td>\n      <td>0.000000</td>\n      <td>0.000000</td>\n    </tr>\n    <tr>\n      <th>25%</th>\n      <td>0.000000</td>\n      <td>0.000000</td>\n      <td>0.000000</td>\n      <td>0.000000</td>\n      <td>0.000000</td>\n      <td>0.000000</td>\n      <td>0.000000</td>\n      <td>0.000000</td>\n      <td>0.000000</td>\n      <td>0.000000</td>\n      <td>...</td>\n      <td>0.000000</td>\n      <td>0.000000</td>\n      <td>0.000000</td>\n      <td>0.000000</td>\n      <td>0.000000</td>\n      <td>0.000000</td>\n      <td>0.000000</td>\n      <td>0.000000</td>\n      <td>0.000000</td>\n      <td>0.000000</td>\n    </tr>\n    <tr>\n      <th>50%</th>\n      <td>0.000000</td>\n      <td>0.000000</td>\n      <td>0.000000</td>\n      <td>0.000000</td>\n      <td>0.000000</td>\n      <td>0.000000</td>\n      <td>0.000000</td>\n      <td>0.000000</td>\n      <td>0.000000</td>\n      <td>0.000000</td>\n      <td>...</td>\n      <td>0.000000</td>\n      <td>1.000000</td>\n      <td>1.000000</td>\n      <td>0.000000</td>\n      <td>0.000000</td>\n      <td>0.000000</td>\n      <td>0.000000</td>\n      <td>0.000000</td>\n      <td>1.000000</td>\n      <td>1.000000</td>\n    </tr>\n    <tr>\n      <th>75%</th>\n      <td>0.000000</td>\n      <td>0.000000</td>\n      <td>0.000000</td>\n      <td>0.000000</td>\n      <td>0.000000</td>\n      <td>0.000000</td>\n      <td>0.000000</td>\n      <td>0.000000</td>\n      <td>0.000000</td>\n      <td>0.000000</td>\n      <td>...</td>\n      <td>2.000000</td>\n      <td>2.000000</td>\n      <td>2.000000</td>\n      <td>2.000000</td>\n      <td>1.000000</td>\n      <td>1.000000</td>\n      <td>1.000000</td>\n      <td>1.000000</td>\n      <td>2.000000</td>\n      <td>2.000000</td>\n    </tr>\n    <tr>\n      <th>max</th>\n      <td>360.000000</td>\n      <td>436.000000</td>\n      <td>207.000000</td>\n      <td>323.000000</td>\n      <td>296.000000</td>\n      <td>314.000000</td>\n      <td>316.000000</td>\n      <td>370.000000</td>\n      <td>385.000000</td>\n      <td>353.000000</td>\n      <td>...</td>\n      <td>143.000000</td>\n      <td>156.000000</td>\n      <td>187.000000</td>\n      <td>98.000000</td>\n      <td>90.000000</td>\n      <td>77.000000</td>\n      <td>84.000000</td>\n      <td>110.000000</td>\n      <td>156.000000</td>\n      <td>117.000000</td>\n    </tr>\n  </tbody>\n</table>\n<p>8 rows × 1941 columns</p>\n</div>"
     },
     "execution_count": 8,
     "metadata": {},
     "output_type": "execute_result"
    }
   ],
   "source": [
    "salestv_data.describe()"
   ],
   "metadata": {
    "collapsed": false,
    "ExecuteTime": {
     "end_time": "2023-06-25T13:50:06.096756600Z",
     "start_time": "2023-06-25T13:50:03.638193200Z"
    }
   }
  },
  {
   "cell_type": "code",
   "execution_count": 9,
   "outputs": [
    {
     "data": {
      "text/plain": "          id  item_id  dept_id  cat_id  store_id  state_id    d_1    d_2  \\\n0      False    False    False   False     False     False  False  False   \n1      False    False    False   False     False     False  False  False   \n2      False    False    False   False     False     False  False  False   \n3      False    False    False   False     False     False  False  False   \n4      False    False    False   False     False     False  False  False   \n...      ...      ...      ...     ...       ...       ...    ...    ...   \n30485  False    False    False   False     False     False  False  False   \n30486  False    False    False   False     False     False  False  False   \n30487  False    False    False   False     False     False  False  False   \n30488  False    False    False   False     False     False  False  False   \n30489  False    False    False   False     False     False  False  False   \n\n         d_3    d_4  ...  d_1932  d_1933  d_1934  d_1935  d_1936  d_1937  \\\n0      False  False  ...   False   False   False   False   False   False   \n1      False  False  ...   False   False   False   False   False   False   \n2      False  False  ...   False   False   False   False   False   False   \n3      False  False  ...   False   False   False   False   False   False   \n4      False  False  ...   False   False   False   False   False   False   \n...      ...    ...  ...     ...     ...     ...     ...     ...     ...   \n30485  False  False  ...   False   False   False   False   False   False   \n30486  False  False  ...   False   False   False   False   False   False   \n30487  False  False  ...   False   False   False   False   False   False   \n30488  False  False  ...   False   False   False   False   False   False   \n30489  False  False  ...   False   False   False   False   False   False   \n\n       d_1938  d_1939  d_1940  d_1941  \n0       False   False   False   False  \n1       False   False   False   False  \n2       False   False   False   False  \n3       False   False   False   False  \n4       False   False   False   False  \n...       ...     ...     ...     ...  \n30485   False   False   False   False  \n30486   False   False   False   False  \n30487   False   False   False   False  \n30488   False   False   False   False  \n30489   False   False   False   False  \n\n[30490 rows x 1947 columns]",
      "text/html": "<div>\n<style scoped>\n    .dataframe tbody tr th:only-of-type {\n        vertical-align: middle;\n    }\n\n    .dataframe tbody tr th {\n        vertical-align: top;\n    }\n\n    .dataframe thead th {\n        text-align: right;\n    }\n</style>\n<table border=\"1\" class=\"dataframe\">\n  <thead>\n    <tr style=\"text-align: right;\">\n      <th></th>\n      <th>id</th>\n      <th>item_id</th>\n      <th>dept_id</th>\n      <th>cat_id</th>\n      <th>store_id</th>\n      <th>state_id</th>\n      <th>d_1</th>\n      <th>d_2</th>\n      <th>d_3</th>\n      <th>d_4</th>\n      <th>...</th>\n      <th>d_1932</th>\n      <th>d_1933</th>\n      <th>d_1934</th>\n      <th>d_1935</th>\n      <th>d_1936</th>\n      <th>d_1937</th>\n      <th>d_1938</th>\n      <th>d_1939</th>\n      <th>d_1940</th>\n      <th>d_1941</th>\n    </tr>\n  </thead>\n  <tbody>\n    <tr>\n      <th>0</th>\n      <td>False</td>\n      <td>False</td>\n      <td>False</td>\n      <td>False</td>\n      <td>False</td>\n      <td>False</td>\n      <td>False</td>\n      <td>False</td>\n      <td>False</td>\n      <td>False</td>\n      <td>...</td>\n      <td>False</td>\n      <td>False</td>\n      <td>False</td>\n      <td>False</td>\n      <td>False</td>\n      <td>False</td>\n      <td>False</td>\n      <td>False</td>\n      <td>False</td>\n      <td>False</td>\n    </tr>\n    <tr>\n      <th>1</th>\n      <td>False</td>\n      <td>False</td>\n      <td>False</td>\n      <td>False</td>\n      <td>False</td>\n      <td>False</td>\n      <td>False</td>\n      <td>False</td>\n      <td>False</td>\n      <td>False</td>\n      <td>...</td>\n      <td>False</td>\n      <td>False</td>\n      <td>False</td>\n      <td>False</td>\n      <td>False</td>\n      <td>False</td>\n      <td>False</td>\n      <td>False</td>\n      <td>False</td>\n      <td>False</td>\n    </tr>\n    <tr>\n      <th>2</th>\n      <td>False</td>\n      <td>False</td>\n      <td>False</td>\n      <td>False</td>\n      <td>False</td>\n      <td>False</td>\n      <td>False</td>\n      <td>False</td>\n      <td>False</td>\n      <td>False</td>\n      <td>...</td>\n      <td>False</td>\n      <td>False</td>\n      <td>False</td>\n      <td>False</td>\n      <td>False</td>\n      <td>False</td>\n      <td>False</td>\n      <td>False</td>\n      <td>False</td>\n      <td>False</td>\n    </tr>\n    <tr>\n      <th>3</th>\n      <td>False</td>\n      <td>False</td>\n      <td>False</td>\n      <td>False</td>\n      <td>False</td>\n      <td>False</td>\n      <td>False</td>\n      <td>False</td>\n      <td>False</td>\n      <td>False</td>\n      <td>...</td>\n      <td>False</td>\n      <td>False</td>\n      <td>False</td>\n      <td>False</td>\n      <td>False</td>\n      <td>False</td>\n      <td>False</td>\n      <td>False</td>\n      <td>False</td>\n      <td>False</td>\n    </tr>\n    <tr>\n      <th>4</th>\n      <td>False</td>\n      <td>False</td>\n      <td>False</td>\n      <td>False</td>\n      <td>False</td>\n      <td>False</td>\n      <td>False</td>\n      <td>False</td>\n      <td>False</td>\n      <td>False</td>\n      <td>...</td>\n      <td>False</td>\n      <td>False</td>\n      <td>False</td>\n      <td>False</td>\n      <td>False</td>\n      <td>False</td>\n      <td>False</td>\n      <td>False</td>\n      <td>False</td>\n      <td>False</td>\n    </tr>\n    <tr>\n      <th>...</th>\n      <td>...</td>\n      <td>...</td>\n      <td>...</td>\n      <td>...</td>\n      <td>...</td>\n      <td>...</td>\n      <td>...</td>\n      <td>...</td>\n      <td>...</td>\n      <td>...</td>\n      <td>...</td>\n      <td>...</td>\n      <td>...</td>\n      <td>...</td>\n      <td>...</td>\n      <td>...</td>\n      <td>...</td>\n      <td>...</td>\n      <td>...</td>\n      <td>...</td>\n      <td>...</td>\n    </tr>\n    <tr>\n      <th>30485</th>\n      <td>False</td>\n      <td>False</td>\n      <td>False</td>\n      <td>False</td>\n      <td>False</td>\n      <td>False</td>\n      <td>False</td>\n      <td>False</td>\n      <td>False</td>\n      <td>False</td>\n      <td>...</td>\n      <td>False</td>\n      <td>False</td>\n      <td>False</td>\n      <td>False</td>\n      <td>False</td>\n      <td>False</td>\n      <td>False</td>\n      <td>False</td>\n      <td>False</td>\n      <td>False</td>\n    </tr>\n    <tr>\n      <th>30486</th>\n      <td>False</td>\n      <td>False</td>\n      <td>False</td>\n      <td>False</td>\n      <td>False</td>\n      <td>False</td>\n      <td>False</td>\n      <td>False</td>\n      <td>False</td>\n      <td>False</td>\n      <td>...</td>\n      <td>False</td>\n      <td>False</td>\n      <td>False</td>\n      <td>False</td>\n      <td>False</td>\n      <td>False</td>\n      <td>False</td>\n      <td>False</td>\n      <td>False</td>\n      <td>False</td>\n    </tr>\n    <tr>\n      <th>30487</th>\n      <td>False</td>\n      <td>False</td>\n      <td>False</td>\n      <td>False</td>\n      <td>False</td>\n      <td>False</td>\n      <td>False</td>\n      <td>False</td>\n      <td>False</td>\n      <td>False</td>\n      <td>...</td>\n      <td>False</td>\n      <td>False</td>\n      <td>False</td>\n      <td>False</td>\n      <td>False</td>\n      <td>False</td>\n      <td>False</td>\n      <td>False</td>\n      <td>False</td>\n      <td>False</td>\n    </tr>\n    <tr>\n      <th>30488</th>\n      <td>False</td>\n      <td>False</td>\n      <td>False</td>\n      <td>False</td>\n      <td>False</td>\n      <td>False</td>\n      <td>False</td>\n      <td>False</td>\n      <td>False</td>\n      <td>False</td>\n      <td>...</td>\n      <td>False</td>\n      <td>False</td>\n      <td>False</td>\n      <td>False</td>\n      <td>False</td>\n      <td>False</td>\n      <td>False</td>\n      <td>False</td>\n      <td>False</td>\n      <td>False</td>\n    </tr>\n    <tr>\n      <th>30489</th>\n      <td>False</td>\n      <td>False</td>\n      <td>False</td>\n      <td>False</td>\n      <td>False</td>\n      <td>False</td>\n      <td>False</td>\n      <td>False</td>\n      <td>False</td>\n      <td>False</td>\n      <td>...</td>\n      <td>False</td>\n      <td>False</td>\n      <td>False</td>\n      <td>False</td>\n      <td>False</td>\n      <td>False</td>\n      <td>False</td>\n      <td>False</td>\n      <td>False</td>\n      <td>False</td>\n    </tr>\n  </tbody>\n</table>\n<p>30490 rows × 1947 columns</p>\n</div>"
     },
     "execution_count": 9,
     "metadata": {},
     "output_type": "execute_result"
    }
   ],
   "source": [
    "salestv_data.isnull()"
   ],
   "metadata": {
    "collapsed": false,
    "ExecuteTime": {
     "end_time": "2023-06-25T13:50:06.174784800Z",
     "start_time": "2023-06-25T13:50:06.098633100Z"
    }
   }
  },
  {
   "cell_type": "code",
   "execution_count": 10,
   "outputs": [
    {
     "name": "stdout",
     "output_type": "stream",
     "text": [
      "<class 'pandas.core.frame.DataFrame'>\n",
      "RangeIndex: 30490 entries, 0 to 30489\n",
      "Columns: 1947 entries, id to d_1941\n",
      "dtypes: int64(1941), object(6)\n",
      "memory usage: 452.9+ MB\n",
      "None\n"
     ]
    }
   ],
   "source": [
    "print(salestv_data.info())"
   ],
   "metadata": {
    "collapsed": false,
    "ExecuteTime": {
     "end_time": "2023-06-25T13:50:06.279808500Z",
     "start_time": "2023-06-25T13:50:06.144779300Z"
    }
   }
  },
  {
   "cell_type": "code",
   "execution_count": 11,
   "outputs": [],
   "source": [
    "# Making dates as row to get the data in exact format\n",
    "salestv_data_transposed = salestv_data.T"
   ],
   "metadata": {
    "collapsed": false,
    "ExecuteTime": {
     "end_time": "2023-06-25T13:50:06.774920500Z",
     "start_time": "2023-06-25T13:50:06.239799100Z"
    }
   }
  },
  {
   "cell_type": "code",
   "execution_count": 12,
   "outputs": [
    {
     "data": {
      "text/plain": "                                  0                              1      \\\nid        HOBBIES_1_001_CA_1_evaluation  HOBBIES_1_002_CA_1_evaluation   \nitem_id                   HOBBIES_1_001                  HOBBIES_1_002   \ndept_id                       HOBBIES_1                      HOBBIES_1   \ncat_id                          HOBBIES                        HOBBIES   \nstore_id                           CA_1                           CA_1   \nstate_id                             CA                             CA   \nd_1                                   0                              0   \nd_2                                   0                              0   \n\n                                  2                              3      \\\nid        HOBBIES_1_003_CA_1_evaluation  HOBBIES_1_004_CA_1_evaluation   \nitem_id                   HOBBIES_1_003                  HOBBIES_1_004   \ndept_id                       HOBBIES_1                      HOBBIES_1   \ncat_id                          HOBBIES                        HOBBIES   \nstore_id                           CA_1                           CA_1   \nstate_id                             CA                             CA   \nd_1                                   0                              0   \nd_2                                   0                              0   \n\n                                  4                              5      \\\nid        HOBBIES_1_005_CA_1_evaluation  HOBBIES_1_006_CA_1_evaluation   \nitem_id                   HOBBIES_1_005                  HOBBIES_1_006   \ndept_id                       HOBBIES_1                      HOBBIES_1   \ncat_id                          HOBBIES                        HOBBIES   \nstore_id                           CA_1                           CA_1   \nstate_id                             CA                             CA   \nd_1                                   0                              0   \nd_2                                   0                              0   \n\n                                  6                              7      \\\nid        HOBBIES_1_007_CA_1_evaluation  HOBBIES_1_008_CA_1_evaluation   \nitem_id                   HOBBIES_1_007                  HOBBIES_1_008   \ndept_id                       HOBBIES_1                      HOBBIES_1   \ncat_id                          HOBBIES                        HOBBIES   \nstore_id                           CA_1                           CA_1   \nstate_id                             CA                             CA   \nd_1                                   0                             12   \nd_2                                   0                             15   \n\n                                  8                              9      ...  \\\nid        HOBBIES_1_009_CA_1_evaluation  HOBBIES_1_010_CA_1_evaluation  ...   \nitem_id                   HOBBIES_1_009                  HOBBIES_1_010  ...   \ndept_id                       HOBBIES_1                      HOBBIES_1  ...   \ncat_id                          HOBBIES                        HOBBIES  ...   \nstore_id                           CA_1                           CA_1  ...   \nstate_id                             CA                             CA  ...   \nd_1                                   2                              0  ...   \nd_2                                   0                              0  ...   \n\n                                30480                        30481  \\\nid        FOODS_3_818_WI_3_evaluation  FOODS_3_819_WI_3_evaluation   \nitem_id                   FOODS_3_818                  FOODS_3_819   \ndept_id                       FOODS_3                      FOODS_3   \ncat_id                          FOODS                        FOODS   \nstore_id                         WI_3                         WI_3   \nstate_id                           WI                           WI   \nd_1                                 0                           14   \nd_2                                 0                           11   \n\n                                30482                        30483  \\\nid        FOODS_3_820_WI_3_evaluation  FOODS_3_821_WI_3_evaluation   \nitem_id                   FOODS_3_820                  FOODS_3_821   \ndept_id                       FOODS_3                      FOODS_3   \ncat_id                          FOODS                        FOODS   \nstore_id                         WI_3                         WI_3   \nstate_id                           WI                           WI   \nd_1                                 1                            0   \nd_2                                 1                            0   \n\n                                30484                        30485  \\\nid        FOODS_3_822_WI_3_evaluation  FOODS_3_823_WI_3_evaluation   \nitem_id                   FOODS_3_822                  FOODS_3_823   \ndept_id                       FOODS_3                      FOODS_3   \ncat_id                          FOODS                        FOODS   \nstore_id                         WI_3                         WI_3   \nstate_id                           WI                           WI   \nd_1                                 4                            0   \nd_2                                 4                            0   \n\n                                30486                        30487  \\\nid        FOODS_3_824_WI_3_evaluation  FOODS_3_825_WI_3_evaluation   \nitem_id                   FOODS_3_824                  FOODS_3_825   \ndept_id                       FOODS_3                      FOODS_3   \ncat_id                          FOODS                        FOODS   \nstore_id                         WI_3                         WI_3   \nstate_id                           WI                           WI   \nd_1                                 0                            0   \nd_2                                 0                            6   \n\n                                30488                        30489  \nid        FOODS_3_826_WI_3_evaluation  FOODS_3_827_WI_3_evaluation  \nitem_id                   FOODS_3_826                  FOODS_3_827  \ndept_id                       FOODS_3                      FOODS_3  \ncat_id                          FOODS                        FOODS  \nstore_id                         WI_3                         WI_3  \nstate_id                           WI                           WI  \nd_1                                 0                            0  \nd_2                                 0                            0  \n\n[8 rows x 30490 columns]",
      "text/html": "<div>\n<style scoped>\n    .dataframe tbody tr th:only-of-type {\n        vertical-align: middle;\n    }\n\n    .dataframe tbody tr th {\n        vertical-align: top;\n    }\n\n    .dataframe thead th {\n        text-align: right;\n    }\n</style>\n<table border=\"1\" class=\"dataframe\">\n  <thead>\n    <tr style=\"text-align: right;\">\n      <th></th>\n      <th>0</th>\n      <th>1</th>\n      <th>2</th>\n      <th>3</th>\n      <th>4</th>\n      <th>5</th>\n      <th>6</th>\n      <th>7</th>\n      <th>8</th>\n      <th>9</th>\n      <th>...</th>\n      <th>30480</th>\n      <th>30481</th>\n      <th>30482</th>\n      <th>30483</th>\n      <th>30484</th>\n      <th>30485</th>\n      <th>30486</th>\n      <th>30487</th>\n      <th>30488</th>\n      <th>30489</th>\n    </tr>\n  </thead>\n  <tbody>\n    <tr>\n      <th>id</th>\n      <td>HOBBIES_1_001_CA_1_evaluation</td>\n      <td>HOBBIES_1_002_CA_1_evaluation</td>\n      <td>HOBBIES_1_003_CA_1_evaluation</td>\n      <td>HOBBIES_1_004_CA_1_evaluation</td>\n      <td>HOBBIES_1_005_CA_1_evaluation</td>\n      <td>HOBBIES_1_006_CA_1_evaluation</td>\n      <td>HOBBIES_1_007_CA_1_evaluation</td>\n      <td>HOBBIES_1_008_CA_1_evaluation</td>\n      <td>HOBBIES_1_009_CA_1_evaluation</td>\n      <td>HOBBIES_1_010_CA_1_evaluation</td>\n      <td>...</td>\n      <td>FOODS_3_818_WI_3_evaluation</td>\n      <td>FOODS_3_819_WI_3_evaluation</td>\n      <td>FOODS_3_820_WI_3_evaluation</td>\n      <td>FOODS_3_821_WI_3_evaluation</td>\n      <td>FOODS_3_822_WI_3_evaluation</td>\n      <td>FOODS_3_823_WI_3_evaluation</td>\n      <td>FOODS_3_824_WI_3_evaluation</td>\n      <td>FOODS_3_825_WI_3_evaluation</td>\n      <td>FOODS_3_826_WI_3_evaluation</td>\n      <td>FOODS_3_827_WI_3_evaluation</td>\n    </tr>\n    <tr>\n      <th>item_id</th>\n      <td>HOBBIES_1_001</td>\n      <td>HOBBIES_1_002</td>\n      <td>HOBBIES_1_003</td>\n      <td>HOBBIES_1_004</td>\n      <td>HOBBIES_1_005</td>\n      <td>HOBBIES_1_006</td>\n      <td>HOBBIES_1_007</td>\n      <td>HOBBIES_1_008</td>\n      <td>HOBBIES_1_009</td>\n      <td>HOBBIES_1_010</td>\n      <td>...</td>\n      <td>FOODS_3_818</td>\n      <td>FOODS_3_819</td>\n      <td>FOODS_3_820</td>\n      <td>FOODS_3_821</td>\n      <td>FOODS_3_822</td>\n      <td>FOODS_3_823</td>\n      <td>FOODS_3_824</td>\n      <td>FOODS_3_825</td>\n      <td>FOODS_3_826</td>\n      <td>FOODS_3_827</td>\n    </tr>\n    <tr>\n      <th>dept_id</th>\n      <td>HOBBIES_1</td>\n      <td>HOBBIES_1</td>\n      <td>HOBBIES_1</td>\n      <td>HOBBIES_1</td>\n      <td>HOBBIES_1</td>\n      <td>HOBBIES_1</td>\n      <td>HOBBIES_1</td>\n      <td>HOBBIES_1</td>\n      <td>HOBBIES_1</td>\n      <td>HOBBIES_1</td>\n      <td>...</td>\n      <td>FOODS_3</td>\n      <td>FOODS_3</td>\n      <td>FOODS_3</td>\n      <td>FOODS_3</td>\n      <td>FOODS_3</td>\n      <td>FOODS_3</td>\n      <td>FOODS_3</td>\n      <td>FOODS_3</td>\n      <td>FOODS_3</td>\n      <td>FOODS_3</td>\n    </tr>\n    <tr>\n      <th>cat_id</th>\n      <td>HOBBIES</td>\n      <td>HOBBIES</td>\n      <td>HOBBIES</td>\n      <td>HOBBIES</td>\n      <td>HOBBIES</td>\n      <td>HOBBIES</td>\n      <td>HOBBIES</td>\n      <td>HOBBIES</td>\n      <td>HOBBIES</td>\n      <td>HOBBIES</td>\n      <td>...</td>\n      <td>FOODS</td>\n      <td>FOODS</td>\n      <td>FOODS</td>\n      <td>FOODS</td>\n      <td>FOODS</td>\n      <td>FOODS</td>\n      <td>FOODS</td>\n      <td>FOODS</td>\n      <td>FOODS</td>\n      <td>FOODS</td>\n    </tr>\n    <tr>\n      <th>store_id</th>\n      <td>CA_1</td>\n      <td>CA_1</td>\n      <td>CA_1</td>\n      <td>CA_1</td>\n      <td>CA_1</td>\n      <td>CA_1</td>\n      <td>CA_1</td>\n      <td>CA_1</td>\n      <td>CA_1</td>\n      <td>CA_1</td>\n      <td>...</td>\n      <td>WI_3</td>\n      <td>WI_3</td>\n      <td>WI_3</td>\n      <td>WI_3</td>\n      <td>WI_3</td>\n      <td>WI_3</td>\n      <td>WI_3</td>\n      <td>WI_3</td>\n      <td>WI_3</td>\n      <td>WI_3</td>\n    </tr>\n    <tr>\n      <th>state_id</th>\n      <td>CA</td>\n      <td>CA</td>\n      <td>CA</td>\n      <td>CA</td>\n      <td>CA</td>\n      <td>CA</td>\n      <td>CA</td>\n      <td>CA</td>\n      <td>CA</td>\n      <td>CA</td>\n      <td>...</td>\n      <td>WI</td>\n      <td>WI</td>\n      <td>WI</td>\n      <td>WI</td>\n      <td>WI</td>\n      <td>WI</td>\n      <td>WI</td>\n      <td>WI</td>\n      <td>WI</td>\n      <td>WI</td>\n    </tr>\n    <tr>\n      <th>d_1</th>\n      <td>0</td>\n      <td>0</td>\n      <td>0</td>\n      <td>0</td>\n      <td>0</td>\n      <td>0</td>\n      <td>0</td>\n      <td>12</td>\n      <td>2</td>\n      <td>0</td>\n      <td>...</td>\n      <td>0</td>\n      <td>14</td>\n      <td>1</td>\n      <td>0</td>\n      <td>4</td>\n      <td>0</td>\n      <td>0</td>\n      <td>0</td>\n      <td>0</td>\n      <td>0</td>\n    </tr>\n    <tr>\n      <th>d_2</th>\n      <td>0</td>\n      <td>0</td>\n      <td>0</td>\n      <td>0</td>\n      <td>0</td>\n      <td>0</td>\n      <td>0</td>\n      <td>15</td>\n      <td>0</td>\n      <td>0</td>\n      <td>...</td>\n      <td>0</td>\n      <td>11</td>\n      <td>1</td>\n      <td>0</td>\n      <td>4</td>\n      <td>0</td>\n      <td>0</td>\n      <td>6</td>\n      <td>0</td>\n      <td>0</td>\n    </tr>\n  </tbody>\n</table>\n<p>8 rows × 30490 columns</p>\n</div>"
     },
     "execution_count": 12,
     "metadata": {},
     "output_type": "execute_result"
    }
   ],
   "source": [
    "salestv_data_transposed.head(8)"
   ],
   "metadata": {
    "collapsed": false,
    "ExecuteTime": {
     "end_time": "2023-06-25T13:50:06.790341400Z",
     "start_time": "2023-06-25T13:50:06.776922200Z"
    }
   }
  },
  {
   "cell_type": "code",
   "execution_count": 13,
   "outputs": [
    {
     "data": {
      "text/plain": "(1947, 30490)"
     },
     "execution_count": 13,
     "metadata": {},
     "output_type": "execute_result"
    }
   ],
   "source": [
    "salestv_data_transposed.shape"
   ],
   "metadata": {
    "collapsed": false,
    "ExecuteTime": {
     "end_time": "2023-06-25T13:50:06.818346500Z",
     "start_time": "2023-06-25T13:50:06.792341800Z"
    }
   }
  },
  {
   "cell_type": "code",
   "execution_count": 14,
   "outputs": [
    {
     "data": {
      "text/plain": "     0      1      2      3      4      5      6      7      8      9      \\\nd_1    0.0    0.0    0.0    0.0    0.0    0.0    0.0   12.0    2.0    0.0   \nd_2    0.0    0.0    0.0    0.0    0.0    0.0    0.0   15.0    0.0    0.0   \nd_3    0.0    0.0    0.0    0.0    0.0    0.0    0.0    0.0    7.0    1.0   \nd_4    0.0    0.0    0.0    0.0    0.0    0.0    0.0    0.0    3.0    0.0   \nd_5    0.0    0.0    0.0    0.0    0.0    0.0    0.0    0.0    0.0    0.0   \nd_6    0.0    0.0    0.0    0.0    0.0    0.0    0.0    4.0    2.0    0.0   \nd_7    0.0    0.0    0.0    0.0    0.0    0.0    0.0    6.0    3.0    0.0   \nd_8    0.0    0.0    0.0    0.0    0.0    0.0    0.0    5.0    9.0    0.0   \n\n     ...  30480  30481  30482  30483  30484  30485  30486  30487  30488  30489  \nd_1  ...    0.0   14.0    1.0    0.0    4.0    0.0    0.0    0.0    0.0    0.0  \nd_2  ...    0.0   11.0    1.0    0.0    4.0    0.0    0.0    6.0    0.0    0.0  \nd_3  ...    0.0    5.0    1.0    0.0    2.0    2.0    0.0    0.0    0.0    0.0  \nd_4  ...    0.0    6.0    1.0    0.0    5.0    2.0    0.0    2.0    0.0    0.0  \nd_5  ...    0.0    5.0    1.0    0.0    2.0    0.0    0.0    2.0    0.0    0.0  \nd_6  ...    0.0   13.0    2.0    0.0    7.0    3.0    5.0    4.0    0.0    0.0  \nd_7  ...    0.0   18.0    1.0    0.0    8.0    1.0    0.0    1.0    0.0    0.0  \nd_8  ...    0.0   13.0    3.0    0.0    4.0    4.0    1.0    8.0    0.0    0.0  \n\n[8 rows x 30490 columns]",
      "text/html": "<div>\n<style scoped>\n    .dataframe tbody tr th:only-of-type {\n        vertical-align: middle;\n    }\n\n    .dataframe tbody tr th {\n        vertical-align: top;\n    }\n\n    .dataframe thead th {\n        text-align: right;\n    }\n</style>\n<table border=\"1\" class=\"dataframe\">\n  <thead>\n    <tr style=\"text-align: right;\">\n      <th></th>\n      <th>0</th>\n      <th>1</th>\n      <th>2</th>\n      <th>3</th>\n      <th>4</th>\n      <th>5</th>\n      <th>6</th>\n      <th>7</th>\n      <th>8</th>\n      <th>9</th>\n      <th>...</th>\n      <th>30480</th>\n      <th>30481</th>\n      <th>30482</th>\n      <th>30483</th>\n      <th>30484</th>\n      <th>30485</th>\n      <th>30486</th>\n      <th>30487</th>\n      <th>30488</th>\n      <th>30489</th>\n    </tr>\n  </thead>\n  <tbody>\n    <tr>\n      <th>d_1</th>\n      <td>0.0</td>\n      <td>0.0</td>\n      <td>0.0</td>\n      <td>0.0</td>\n      <td>0.0</td>\n      <td>0.0</td>\n      <td>0.0</td>\n      <td>12.0</td>\n      <td>2.0</td>\n      <td>0.0</td>\n      <td>...</td>\n      <td>0.0</td>\n      <td>14.0</td>\n      <td>1.0</td>\n      <td>0.0</td>\n      <td>4.0</td>\n      <td>0.0</td>\n      <td>0.0</td>\n      <td>0.0</td>\n      <td>0.0</td>\n      <td>0.0</td>\n    </tr>\n    <tr>\n      <th>d_2</th>\n      <td>0.0</td>\n      <td>0.0</td>\n      <td>0.0</td>\n      <td>0.0</td>\n      <td>0.0</td>\n      <td>0.0</td>\n      <td>0.0</td>\n      <td>15.0</td>\n      <td>0.0</td>\n      <td>0.0</td>\n      <td>...</td>\n      <td>0.0</td>\n      <td>11.0</td>\n      <td>1.0</td>\n      <td>0.0</td>\n      <td>4.0</td>\n      <td>0.0</td>\n      <td>0.0</td>\n      <td>6.0</td>\n      <td>0.0</td>\n      <td>0.0</td>\n    </tr>\n    <tr>\n      <th>d_3</th>\n      <td>0.0</td>\n      <td>0.0</td>\n      <td>0.0</td>\n      <td>0.0</td>\n      <td>0.0</td>\n      <td>0.0</td>\n      <td>0.0</td>\n      <td>0.0</td>\n      <td>7.0</td>\n      <td>1.0</td>\n      <td>...</td>\n      <td>0.0</td>\n      <td>5.0</td>\n      <td>1.0</td>\n      <td>0.0</td>\n      <td>2.0</td>\n      <td>2.0</td>\n      <td>0.0</td>\n      <td>0.0</td>\n      <td>0.0</td>\n      <td>0.0</td>\n    </tr>\n    <tr>\n      <th>d_4</th>\n      <td>0.0</td>\n      <td>0.0</td>\n      <td>0.0</td>\n      <td>0.0</td>\n      <td>0.0</td>\n      <td>0.0</td>\n      <td>0.0</td>\n      <td>0.0</td>\n      <td>3.0</td>\n      <td>0.0</td>\n      <td>...</td>\n      <td>0.0</td>\n      <td>6.0</td>\n      <td>1.0</td>\n      <td>0.0</td>\n      <td>5.0</td>\n      <td>2.0</td>\n      <td>0.0</td>\n      <td>2.0</td>\n      <td>0.0</td>\n      <td>0.0</td>\n    </tr>\n    <tr>\n      <th>d_5</th>\n      <td>0.0</td>\n      <td>0.0</td>\n      <td>0.0</td>\n      <td>0.0</td>\n      <td>0.0</td>\n      <td>0.0</td>\n      <td>0.0</td>\n      <td>0.0</td>\n      <td>0.0</td>\n      <td>0.0</td>\n      <td>...</td>\n      <td>0.0</td>\n      <td>5.0</td>\n      <td>1.0</td>\n      <td>0.0</td>\n      <td>2.0</td>\n      <td>0.0</td>\n      <td>0.0</td>\n      <td>2.0</td>\n      <td>0.0</td>\n      <td>0.0</td>\n    </tr>\n    <tr>\n      <th>d_6</th>\n      <td>0.0</td>\n      <td>0.0</td>\n      <td>0.0</td>\n      <td>0.0</td>\n      <td>0.0</td>\n      <td>0.0</td>\n      <td>0.0</td>\n      <td>4.0</td>\n      <td>2.0</td>\n      <td>0.0</td>\n      <td>...</td>\n      <td>0.0</td>\n      <td>13.0</td>\n      <td>2.0</td>\n      <td>0.0</td>\n      <td>7.0</td>\n      <td>3.0</td>\n      <td>5.0</td>\n      <td>4.0</td>\n      <td>0.0</td>\n      <td>0.0</td>\n    </tr>\n    <tr>\n      <th>d_7</th>\n      <td>0.0</td>\n      <td>0.0</td>\n      <td>0.0</td>\n      <td>0.0</td>\n      <td>0.0</td>\n      <td>0.0</td>\n      <td>0.0</td>\n      <td>6.0</td>\n      <td>3.0</td>\n      <td>0.0</td>\n      <td>...</td>\n      <td>0.0</td>\n      <td>18.0</td>\n      <td>1.0</td>\n      <td>0.0</td>\n      <td>8.0</td>\n      <td>1.0</td>\n      <td>0.0</td>\n      <td>1.0</td>\n      <td>0.0</td>\n      <td>0.0</td>\n    </tr>\n    <tr>\n      <th>d_8</th>\n      <td>0.0</td>\n      <td>0.0</td>\n      <td>0.0</td>\n      <td>0.0</td>\n      <td>0.0</td>\n      <td>0.0</td>\n      <td>0.0</td>\n      <td>5.0</td>\n      <td>9.0</td>\n      <td>0.0</td>\n      <td>...</td>\n      <td>0.0</td>\n      <td>13.0</td>\n      <td>3.0</td>\n      <td>0.0</td>\n      <td>4.0</td>\n      <td>4.0</td>\n      <td>1.0</td>\n      <td>8.0</td>\n      <td>0.0</td>\n      <td>0.0</td>\n    </tr>\n  </tbody>\n</table>\n<p>8 rows × 30490 columns</p>\n</div>"
     },
     "execution_count": 14,
     "metadata": {},
     "output_type": "execute_result"
    }
   ],
   "source": [
    "#remove first 6 rows as we do not need that to feed to our model\n",
    "salestv_data_cropped = salestv_data_transposed[6+startDay:].astype('float32')\n",
    "salestv_data_cropped.head(8)"
   ],
   "metadata": {
    "collapsed": false,
    "ExecuteTime": {
     "end_time": "2023-06-25T13:50:08.089642100Z",
     "start_time": "2023-06-25T13:50:06.810345100Z"
    }
   }
  },
  {
   "cell_type": "code",
   "execution_count": 15,
   "outputs": [],
   "source": [
    "# Initialize a dataframe with zeros for 1969 days in the calendar\n",
    "\n",
    "daysBeforeEvent1 = pd.DataFrame(np.zeros((cal_data.shape[0], 1)))\n",
    "daysBeforeEvent2 = pd.DataFrame(np.zeros((cal_data.shape[0], 1)))\n",
    "\n",
    "snap_CA = cal_data[\"snap_CA\"]\n",
    "snap_TX = cal_data[\"snap_TX\"]\n",
    "snap_WI = cal_data[\"snap_WI\"]"
   ],
   "metadata": {
    "collapsed": false,
    "ExecuteTime": {
     "end_time": "2023-06-25T13:50:08.105651800Z",
     "start_time": "2023-06-25T13:50:08.090642200Z"
    }
   }
  },
  {
   "cell_type": "code",
   "execution_count": 16,
   "outputs": [],
   "source": [
    "# Label 1 to one day before the event_name_1\n",
    "# Label 1 to one day before the event_name_2\n",
    "# Sales are likely to increase one day before events like superbowl etc.\n",
    "\n",
    "for x, y in cal_data.iterrows():\n",
    "    if not (pd.isnull(cal_data[\"event_name_1\"][x])):\n",
    "        daysBeforeEvent1[0][x - 1] = 1\n",
    "\n",
    "    if not (pd.isnull(cal_data[\"event_name_2\"][x])):\n",
    "        daysBeforeEvent2[0][x - 1] = 1"
   ],
   "metadata": {
    "collapsed": false,
    "ExecuteTime": {
     "end_time": "2023-06-25T13:50:08.209587700Z",
     "start_time": "2023-06-25T13:50:08.105651800Z"
    }
   }
  },
  {
   "cell_type": "code",
   "execution_count": 17,
   "outputs": [
    {
     "data": {
      "text/plain": "(1969, 14)"
     },
     "execution_count": 17,
     "metadata": {},
     "output_type": "execute_result"
    }
   ],
   "source": [
    "cal_data.shape"
   ],
   "metadata": {
    "collapsed": false,
    "ExecuteTime": {
     "end_time": "2023-06-25T13:50:08.217592500Z",
     "start_time": "2023-06-25T13:50:08.202586500Z"
    }
   }
  },
  {
   "cell_type": "code",
   "execution_count": 18,
   "outputs": [],
   "source": [
    "\n",
    "# split dataset into evaluation (last 2 weeks), validation (first 2 weeks), training\n",
    "# input for predicting validation period day 1941 to 1969\n",
    "\n",
    "daysBeforeEvent1_eval = daysBeforeEvent1[1941:].astype('float32')\n",
    "daysBeforeEvent2_eval = daysBeforeEvent2[1941:].astype('float32')\n",
    "\n",
    "snap_CA_eval = snap_CA[1941:].astype('float32')\n",
    "snap_TX_eval = snap_TX[1941:].astype('float32')\n",
    "snap_WI_eval = snap_WI[1941:].astype('float32')"
   ],
   "metadata": {
    "collapsed": false,
    "ExecuteTime": {
     "end_time": "2023-06-25T13:50:08.248345Z",
     "start_time": "2023-06-25T13:50:08.218592800Z"
    }
   }
  },
  {
   "cell_type": "code",
   "execution_count": 19,
   "outputs": [],
   "source": [
    "# input for predicting validation period day 1913 to 1941\n",
    "\n",
    "daysBeforeEvent1_valid = daysBeforeEvent1[1913:1941].astype('float32')\n",
    "daysBeforeEvent2_valid = daysBeforeEvent2[1913:1941].astype('float32')\n",
    "\n",
    "snap_CA_valid = snap_CA[1913:1941].astype('float32')\n",
    "snap_TX_valid = snap_TX[1913:1941].astype('float32')\n",
    "snap_WI_valid = snap_WI[1913:1941].astype('float32')"
   ],
   "metadata": {
    "collapsed": false,
    "ExecuteTime": {
     "end_time": "2023-06-25T13:50:08.255347100Z",
     "start_time": "2023-06-25T13:50:08.233337400Z"
    }
   }
  },
  {
   "cell_type": "code",
   "execution_count": 20,
   "outputs": [],
   "source": [
    "# input for predicting training period from day 0 to 1913\n",
    "daysBeforeEvent1_train = daysBeforeEvent1[startDay:1941].astype('float32')\n",
    "daysBeforeEvent2_train = daysBeforeEvent2[startDay:1941].astype('float32')\n",
    "\n",
    "snap_CA_train = snap_CA[startDay:1941].astype('float32')\n",
    "snap_TX_train = snap_TX[startDay:1941].astype('float32')\n",
    "snap_WI_train = snap_WI[startDay:1941].astype('float32')"
   ],
   "metadata": {
    "collapsed": false,
    "ExecuteTime": {
     "end_time": "2023-06-25T13:50:08.265353Z",
     "start_time": "2023-06-25T13:50:08.249345800Z"
    }
   }
  },
  {
   "cell_type": "code",
   "execution_count": 21,
   "outputs": [
    {
     "name": "stdout",
     "output_type": "stream",
     "text": [
      "(28, 1)\n",
      "(28, 1)\n",
      "(28, 1)\n",
      "(28, 1)\n",
      "(1941, 1)\n",
      "(1941, 1)\n"
     ]
    }
   ],
   "source": [
    "print(daysBeforeEvent1_eval.shape)\n",
    "print(daysBeforeEvent2_eval.shape)\n",
    "\n",
    "print(daysBeforeEvent1_valid.shape)\n",
    "print(daysBeforeEvent2_valid.shape)\n",
    "\n",
    "print(daysBeforeEvent1_train.shape)\n",
    "print(daysBeforeEvent2_train.shape)"
   ],
   "metadata": {
    "collapsed": false,
    "ExecuteTime": {
     "end_time": "2023-06-25T13:50:08.311739400Z",
     "start_time": "2023-06-25T13:50:08.266353200Z"
    }
   }
  },
  {
   "cell_type": "code",
   "execution_count": 22,
   "outputs": [
    {
     "name": "stdout",
     "output_type": "stream",
     "text": [
      "(28,)\n",
      "(28,)\n",
      "(28,)\n",
      "(28,)\n",
      "(28,)\n",
      "(28,)\n",
      "(1941,)\n",
      "(1941,)\n",
      "(1941,)\n"
     ]
    }
   ],
   "source": [
    "print(snap_CA_eval.shape)\n",
    "print(snap_TX_eval.shape)\n",
    "print(snap_WI_eval.shape)\n",
    "\n",
    "print(snap_CA_valid.shape)\n",
    "print(snap_TX_valid.shape)\n",
    "print(snap_WI_valid.shape)\n",
    "\n",
    "print(snap_CA_train.shape)\n",
    "print(snap_TX_train.shape)\n",
    "print(snap_WI_train.shape)"
   ],
   "metadata": {
    "collapsed": false,
    "ExecuteTime": {
     "end_time": "2023-06-25T13:50:08.318740900Z",
     "start_time": "2023-06-25T13:50:08.282983400Z"
    }
   }
  },
  {
   "cell_type": "code",
   "execution_count": 23,
   "outputs": [],
   "source": [
    "#Before concatanation with our main data \"dt\", indexes are made same and column name is changed to \"oneDayBeforeEvent\"\n",
    "daysBeforeEvent1_train.columns = [\"oneDayBeforeEvent1\"]\n",
    "daysBeforeEvent1_train.index = salestv_data_cropped.index\n",
    "\n",
    "daysBeforeEvent2_train.columns = [\"oneDayBeforeEvent2\"]\n",
    "daysBeforeEvent2_train.index = salestv_data_cropped.index\n",
    "\n",
    "snap_CA_train.columns = [\"snap_CA\"]\n",
    "snap_CA_train.index = salestv_data_cropped.index\n",
    "\n",
    "snap_TX_train.columns = [\"snap_TX\"]\n",
    "snap_TX_train.index = salestv_data_cropped.index\n",
    "\n",
    "snap_WI_train.columns = [\"snap_WI\"]\n",
    "snap_WI_train.index = salestv_data_cropped.index"
   ],
   "metadata": {
    "collapsed": false,
    "ExecuteTime": {
     "end_time": "2023-06-25T13:50:08.318740900Z",
     "start_time": "2023-06-25T13:50:08.311739400Z"
    }
   }
  },
  {
   "cell_type": "code",
   "execution_count": 24,
   "outputs": [
    {
     "name": "stdout",
     "output_type": "stream",
     "text": [
      "          0    1    2    3    4    5    6     7    8    9  ...  30485  30486  \\\n",
      "d_1     0.0  0.0  0.0  0.0  0.0  0.0  0.0  12.0  2.0  0.0  ...    0.0    0.0   \n",
      "d_2     0.0  0.0  0.0  0.0  0.0  0.0  0.0  15.0  0.0  0.0  ...    0.0    0.0   \n",
      "d_3     0.0  0.0  0.0  0.0  0.0  0.0  0.0   0.0  7.0  1.0  ...    2.0    0.0   \n",
      "d_4     0.0  0.0  0.0  0.0  0.0  0.0  0.0   0.0  3.0  0.0  ...    2.0    0.0   \n",
      "d_5     0.0  0.0  0.0  0.0  0.0  0.0  0.0   0.0  0.0  0.0  ...    0.0    0.0   \n",
      "...     ...  ...  ...  ...  ...  ...  ...   ...  ...  ...  ...    ...    ...   \n",
      "d_1937  0.0  0.0  0.0  1.0  0.0  0.0  1.0   5.0  0.0  1.0  ...    1.0    0.0   \n",
      "d_1938  3.0  0.0  2.0  3.0  0.0  0.0  0.0   4.0  0.0  1.0  ...    0.0    1.0   \n",
      "d_1939  3.0  0.0  3.0  0.0  2.0  5.0  1.0   1.0  0.0  0.0  ...    0.0    0.0   \n",
      "d_1940  0.0  0.0  0.0  2.0  1.0  2.0  1.0  40.0  1.0  0.0  ...    1.0    1.0   \n",
      "d_1941  1.0  0.0  1.0  6.0  0.0  0.0  0.0  32.0  0.0  1.0  ...    1.0    0.0   \n",
      "\n",
      "        30487  30488  30489  oneDayBeforeEvent1  oneDayBeforeEvent2  snap_CA  \\\n",
      "d_1       0.0    0.0    0.0                 0.0                 0.0      0.0   \n",
      "d_2       6.0    0.0    0.0                 0.0                 0.0      0.0   \n",
      "d_3       0.0    0.0    0.0                 0.0                 0.0      0.0   \n",
      "d_4       2.0    0.0    0.0                 0.0                 0.0      1.0   \n",
      "d_5       2.0    0.0    0.0                 0.0                 0.0      1.0   \n",
      "...       ...    ...    ...                 ...                 ...      ...   \n",
      "d_1937    1.0    0.0    0.0                 0.0                 0.0      0.0   \n",
      "d_1938    0.0    1.0    2.0                 0.0                 0.0      0.0   \n",
      "d_1939    1.0    1.0    2.0                 0.0                 0.0      0.0   \n",
      "d_1940    0.0    1.0    5.0                 0.0                 0.0      0.0   \n",
      "d_1941    2.0    0.0    1.0                 0.0                 0.0      0.0   \n",
      "\n",
      "        snap_TX  snap_WI  \n",
      "d_1         0.0      0.0  \n",
      "d_2         0.0      0.0  \n",
      "d_3         0.0      0.0  \n",
      "d_4         1.0      0.0  \n",
      "d_5         0.0      1.0  \n",
      "...         ...      ...  \n",
      "d_1937      0.0      0.0  \n",
      "d_1938      0.0      0.0  \n",
      "d_1939      0.0      0.0  \n",
      "d_1940      0.0      0.0  \n",
      "d_1941      0.0      0.0  \n",
      "\n",
      "[1941 rows x 30495 columns]\n"
     ]
    }
   ],
   "source": [
    "final_data = pd.concat([salestv_data_cropped, daysBeforeEvent1_train, daysBeforeEvent2_train,\n",
    "                         snap_CA_train, snap_TX_train, snap_WI_train], axis = 1, sort=False)\n",
    "print(final_data)"
   ],
   "metadata": {
    "collapsed": false,
    "ExecuteTime": {
     "end_time": "2023-06-25T13:50:08.455025900Z",
     "start_time": "2023-06-25T13:50:08.312739500Z"
    }
   }
  },
  {
   "cell_type": "code",
   "execution_count": 25,
   "outputs": [
    {
     "name": "stdout",
     "output_type": "stream",
     "text": [
      "<class 'pandas.core.frame.DataFrame'>\n",
      "Index: 1941 entries, d_1 to d_1941\n",
      "Columns: 30495 entries, 0 to snap_WI\n",
      "dtypes: float32(30495)\n",
      "memory usage: 225.8+ MB\n"
     ]
    }
   ],
   "source": [
    "final_data.info()"
   ],
   "metadata": {
    "collapsed": false,
    "ExecuteTime": {
     "end_time": "2023-06-25T13:50:09.366275100Z",
     "start_time": "2023-06-25T13:50:08.455025900Z"
    }
   }
  },
  {
   "cell_type": "code",
   "execution_count": 26,
   "outputs": [
    {
     "data": {
      "text/plain": "(1941, 30495)"
     },
     "execution_count": 26,
     "metadata": {},
     "output_type": "execute_result"
    }
   ],
   "source": [
    "final_data.shape"
   ],
   "metadata": {
    "collapsed": false,
    "ExecuteTime": {
     "end_time": "2023-06-25T13:50:09.413379Z",
     "start_time": "2023-06-25T13:50:09.368274300Z"
    }
   }
  },
  {
   "cell_type": "code",
   "execution_count": 27,
   "outputs": [
    {
     "name": "stdout",
     "output_type": "stream",
     "text": [
      "[[0.         0.         0.         ... 0.         0.         0.        ]\n",
      " [0.         0.         0.         ... 0.         0.         0.        ]\n",
      " [0.         0.         0.         ... 0.         0.         0.        ]\n",
      " ...\n",
      " [0.6        0.         0.5        ... 0.         0.         0.        ]\n",
      " [0.         0.         0.         ... 0.         0.         0.        ]\n",
      " [0.2        0.         0.16666667 ... 0.         0.         0.        ]]\n"
     ]
    },
    {
     "data": {
      "text/plain": "(1941, 30495)"
     },
     "execution_count": 27,
     "metadata": {},
     "output_type": "execute_result"
    }
   ],
   "source": [
    "# Feature scaling\n",
    "# Scale the features using MinMaxScaler in range 0-1\n",
    "from sklearn.preprocessing import MinMaxScaler\n",
    "\n",
    "sc = MinMaxScaler(feature_range=(0,1))\n",
    "final_data.columns = final_data.columns.astype(str)\n",
    "final_data_scaled = sc.fit_transform(final_data)\n",
    "\n",
    "print(final_data_scaled)\n",
    "final_data_scaled.shape"
   ],
   "metadata": {
    "collapsed": false,
    "ExecuteTime": {
     "end_time": "2023-06-25T13:50:10.410568100Z",
     "start_time": "2023-06-25T13:50:09.383372100Z"
    }
   }
  },
  {
   "cell_type": "code",
   "execution_count": 28,
   "outputs": [],
   "source": [
    "# creating sequences for LSTM model training\n",
    "X_train = []\n",
    "y_train = []\n",
    "\n",
    "for i in range(timesteps,1941-startDay):\n",
    "    X_train.append(final_data_scaled[i-timesteps:i])\n",
    "    y_train.append(final_data_scaled[i][0:30490])\n",
    "    #İmportant!! if extra features are added (like oneDayBeforeEvent)\n",
    "    #use only sales values for predictions (we only predict sales)\n",
    "    #this is why 0:30490 columns are choosen"
   ],
   "metadata": {
    "collapsed": false,
    "ExecuteTime": {
     "end_time": "2023-06-25T13:50:10.455419400Z",
     "start_time": "2023-06-25T13:50:10.412567300Z"
    }
   }
  },
  {
   "cell_type": "code",
   "execution_count": 29,
   "outputs": [
    {
     "name": "stdout",
     "output_type": "stream",
     "text": [
      "(1927, 14, 30495)\n",
      "(1927, 30490)\n"
     ]
    }
   ],
   "source": [
    "X_train = np.array(X_train)\n",
    "y_train = np.array(y_train)\n",
    "print(X_train.shape)\n",
    "print(y_train.shape)"
   ],
   "metadata": {
    "collapsed": false,
    "ExecuteTime": {
     "end_time": "2023-06-25T13:50:11.880251200Z",
     "start_time": "2023-06-25T13:50:10.426412700Z"
    }
   }
  },
  {
   "cell_type": "code",
   "execution_count": 30,
   "outputs": [
    {
     "name": "stdout",
     "output_type": "stream",
     "text": [
      "Number of NaN values in X_train: 0\n",
      "Number of NaN values in y_train: 0\n"
     ]
    }
   ],
   "source": [
    "# Count NaN values in X_train\n",
    "nan_count_X_train = np.sum(np.isnan(X_train))\n",
    "print(\"Number of NaN values in X_train:\", nan_count_X_train)\n",
    "\n",
    "# Count NaN values in y_train\n",
    "nan_count_y_train = np.sum(np.isnan(y_train))\n",
    "print(\"Number of NaN values in y_train:\", nan_count_y_train)"
   ],
   "metadata": {
    "collapsed": false,
    "ExecuteTime": {
     "end_time": "2023-06-25T13:50:12.555557900Z",
     "start_time": "2023-06-25T13:50:11.882251600Z"
    }
   }
  },
  {
   "cell_type": "code",
   "execution_count": 31,
   "outputs": [
    {
     "name": "stdout",
     "output_type": "stream",
     "text": [
      "Model: \"sequential\"\n",
      "_________________________________________________________________\n",
      " Layer (type)                Output Shape              Param #   \n",
      "=================================================================\n",
      " lstm (LSTM)                 (None, 64)                7823360   \n",
      "                                                                 \n",
      " dense (Dense)               (None, 30490)             1981850   \n",
      "                                                                 \n",
      "=================================================================\n",
      "Total params: 9,805,210\n",
      "Trainable params: 9,805,210\n",
      "Non-trainable params: 0\n",
      "_________________________________________________________________\n",
      "Epoch 1/32\n",
      "44/44 [==============================] - 8s 135ms/step - loss: 0.0157\n",
      "Epoch 2/32\n",
      "44/44 [==============================] - 6s 135ms/step - loss: 0.0137\n",
      "Epoch 3/32\n",
      "44/44 [==============================] - 6s 141ms/step - loss: 0.0133\n",
      "Epoch 4/32\n",
      "44/44 [==============================] - 6s 142ms/step - loss: 0.0130\n",
      "Epoch 5/32\n",
      "44/44 [==============================] - 6s 141ms/step - loss: 0.0128\n",
      "Epoch 6/32\n",
      "44/44 [==============================] - 6s 137ms/step - loss: 0.0126\n",
      "Epoch 7/32\n",
      "44/44 [==============================] - 7s 155ms/step - loss: 0.0125\n",
      "Epoch 8/32\n",
      "44/44 [==============================] - 6s 146ms/step - loss: 0.0123\n",
      "Epoch 9/32\n",
      "44/44 [==============================] - 7s 150ms/step - loss: 0.0122\n",
      "Epoch 10/32\n",
      "44/44 [==============================] - 6s 145ms/step - loss: 0.0121\n",
      "Epoch 11/32\n",
      "44/44 [==============================] - 6s 133ms/step - loss: 0.0120\n",
      "Epoch 12/32\n",
      "44/44 [==============================] - 6s 138ms/step - loss: 0.0120\n",
      "Epoch 13/32\n",
      "44/44 [==============================] - 6s 138ms/step - loss: 0.0119\n",
      "Epoch 14/32\n",
      "44/44 [==============================] - 6s 147ms/step - loss: 0.0119\n",
      "Epoch 15/32\n",
      "44/44 [==============================] - 6s 136ms/step - loss: 0.0118\n",
      "Epoch 16/32\n",
      "44/44 [==============================] - 6s 137ms/step - loss: 0.0118\n",
      "Epoch 17/32\n",
      "44/44 [==============================] - 6s 137ms/step - loss: 0.0118\n",
      "Epoch 18/32\n",
      "44/44 [==============================] - 6s 143ms/step - loss: 0.0117\n",
      "Epoch 19/32\n",
      "44/44 [==============================] - 7s 155ms/step - loss: 0.0117\n",
      "Epoch 20/32\n",
      "44/44 [==============================] - 6s 138ms/step - loss: 0.0117\n",
      "Epoch 21/32\n",
      "44/44 [==============================] - 6s 139ms/step - loss: 0.0116\n",
      "Epoch 22/32\n",
      "44/44 [==============================] - 6s 140ms/step - loss: 0.0116\n",
      "Epoch 23/32\n",
      "44/44 [==============================] - 6s 139ms/step - loss: 0.0116\n",
      "Epoch 24/32\n",
      "44/44 [==============================] - 6s 143ms/step - loss: 0.0116\n",
      "Epoch 25/32\n",
      "44/44 [==============================] - 6s 139ms/step - loss: 0.0115\n",
      "Epoch 26/32\n",
      "44/44 [==============================] - 6s 137ms/step - loss: 0.0115\n",
      "Epoch 27/32\n",
      "44/44 [==============================] - 6s 142ms/step - loss: 0.0115\n",
      "Epoch 28/32\n",
      "44/44 [==============================] - 6s 140ms/step - loss: 0.0115\n",
      "Epoch 29/32\n",
      "44/44 [==============================] - 6s 145ms/step - loss: 0.0115\n",
      "Epoch 30/32\n",
      "44/44 [==============================] - 6s 139ms/step - loss: 0.0115\n",
      "Epoch 31/32\n",
      "44/44 [==============================] - 6s 134ms/step - loss: 0.0115\n",
      "Epoch 32/32\n",
      "44/44 [==============================] - 6s 137ms/step - loss: 0.0114\n"
     ]
    },
    {
     "data": {
      "text/plain": "<keras.callbacks.History at 0x2e57c398bb0>"
     },
     "execution_count": 31,
     "metadata": {},
     "output_type": "execute_result"
    }
   ],
   "source": [
    "import tensorflow as tf\n",
    "\n",
    "tf.random.set_seed(42)\n",
    "np.random.seed(42)\n",
    "\n",
    "n_timesteps = X_train.shape[1] #28\n",
    "n_products = X_train.shape[2] # all 30490 products + 5 features\n",
    "\n",
    "model = tf.keras.Sequential()\n",
    "model.add(tf.keras.layers.LSTM(units =64, input_shape=(n_timesteps, n_products)))\n",
    "model.add(tf.keras.layers.Dense(30490))\n",
    "\n",
    "model.compile(\n",
    "    loss='mean_squared_error',\n",
    "    optimizer=tf.keras.optimizers.Adam(0.001)\n",
    ")\n",
    "model.summary()\n",
    "\n",
    "# Clear TensorFlow session\n",
    "tf.keras.backend.clear_session()\n",
    "\n",
    "#Fitting the RNN to the trainign set\n",
    "epoch_no = 32\n",
    "batch_size = 44\n",
    "model.fit(X_train, y_train, epochs=epoch_no, batch_size=batch_size)\n"
   ],
   "metadata": {
    "collapsed": false,
    "ExecuteTime": {
     "end_time": "2023-06-25T13:53:35.001805Z",
     "start_time": "2023-06-25T13:50:12.555557900Z"
    }
   }
  },
  {
   "cell_type": "code",
   "execution_count": 32,
   "outputs": [
    {
     "name": "stdout",
     "output_type": "stream",
     "text": [
      "[[0.4        0.         0.         ... 1.         1.         1.        ]\n",
      " [0.4        0.         0.         ... 1.         0.         0.        ]\n",
      " [0.2        0.         0.16666667 ... 0.         1.         1.        ]\n",
      " ...\n",
      " [0.6        0.         0.5        ... 0.         0.         0.        ]\n",
      " [0.         0.         0.         ... 0.         0.         0.        ]\n",
      " [0.2        0.         0.16666667 ... 0.         0.         0.        ]]\n"
     ]
    },
    {
     "data": {
      "text/plain": "(14, 30495)"
     },
     "execution_count": 32,
     "metadata": {},
     "output_type": "execute_result"
    }
   ],
   "source": [
    "inputs_eval = final_data[-timesteps:]\n",
    "inputs_eval = sc.transform(inputs_eval)\n",
    "print(inputs_eval)\n",
    "inputs_eval.shape"
   ],
   "metadata": {
    "collapsed": false,
    "ExecuteTime": {
     "end_time": "2023-06-25T13:53:35.222369200Z",
     "start_time": "2023-06-25T13:53:35.002805Z"
    }
   }
  },
  {
   "cell_type": "code",
   "execution_count": 33,
   "outputs": [
    {
     "name": "stdout",
     "output_type": "stream",
     "text": [
      "[[0.         0.         0.         ... 0.         0.         0.        ]\n",
      " [0.         0.2        0.         ... 0.         0.         0.        ]\n",
      " [0.         0.         0.16666667 ... 0.         0.         0.        ]\n",
      " ...\n",
      " [0.         0.         0.33333334 ... 1.         1.         1.        ]\n",
      " [0.4        0.         0.16666667 ... 1.         1.         0.        ]\n",
      " [0.2        0.         0.5        ... 1.         0.         1.        ]]\n"
     ]
    },
    {
     "data": {
      "text/plain": "(14, 30495)"
     },
     "execution_count": 33,
     "metadata": {},
     "output_type": "execute_result"
    }
   ],
   "source": [
    "inputs = final_data[-timesteps*2:-timesteps]\n",
    "inputs = sc.transform(inputs)\n",
    "print(inputs)\n",
    "inputs.shape"
   ],
   "metadata": {
    "collapsed": false,
    "ExecuteTime": {
     "end_time": "2023-06-25T13:53:35.370402800Z",
     "start_time": "2023-06-25T13:53:35.223369200Z"
    }
   }
  },
  {
   "cell_type": "code",
   "execution_count": 34,
   "outputs": [
    {
     "name": "stdout",
     "output_type": "stream",
     "text": [
      "(1, 14, 30495)\n",
      "1/1 [==============================] - 0s 322ms/step\n",
      "1/1 [==============================] - 0s 21ms/step\n",
      "1/1 [==============================] - 0s 21ms/step\n",
      "1/1 [==============================] - 0s 21ms/step\n",
      "1/1 [==============================] - 0s 21ms/step\n",
      "1/1 [==============================] - 0s 23ms/step\n",
      "1/1 [==============================] - 0s 22ms/step\n",
      "1/1 [==============================] - 0s 21ms/step\n",
      "1/1 [==============================] - 0s 22ms/step\n",
      "1/1 [==============================] - 0s 22ms/step\n",
      "1/1 [==============================] - 0s 22ms/step\n",
      "1/1 [==============================] - 0s 21ms/step\n",
      "1/1 [==============================] - 0s 22ms/step\n",
      "1/1 [==============================] - 0s 28ms/step\n",
      "1/1 [==============================] - 0s 21ms/step\n",
      "1/1 [==============================] - 0s 22ms/step\n",
      "1/1 [==============================] - 0s 21ms/step\n",
      "1/1 [==============================] - 0s 21ms/step\n",
      "1/1 [==============================] - 0s 22ms/step\n",
      "1/1 [==============================] - 0s 22ms/step\n",
      "1/1 [==============================] - 0s 22ms/step\n",
      "1/1 [==============================] - 0s 22ms/step\n",
      "1/1 [==============================] - 0s 22ms/step\n",
      "1/1 [==============================] - 0s 21ms/step\n",
      "1/1 [==============================] - 0s 21ms/step\n",
      "1/1 [==============================] - 0s 22ms/step\n",
      "1/1 [==============================] - 0s 22ms/step\n",
      "1/1 [==============================] - 0s 21ms/step\n",
      "(1, 30495)\n"
     ]
    }
   ],
   "source": [
    "X_test = []\n",
    "X_test.append(inputs[0:timesteps])\n",
    "X_test = np.array(X_test)\n",
    "print(X_test.shape)\n",
    "predictions = []\n",
    "testInput = None\n",
    "\n",
    "for j in range(timesteps,timesteps + 28):\n",
    "    predicted_sales  = model.predict(X_test[0,j - timesteps:j].reshape(1, timesteps, 30495))\n",
    "\n",
    "    testInput = np.column_stack((np.array(predicted_sales),\n",
    "                                 daysBeforeEvent1_valid.loc[1913 + j - timesteps],\n",
    "                                 daysBeforeEvent2_valid.loc[1913 + j - timesteps],\n",
    "                                 snap_CA_valid.loc[1913 + j - timesteps],\n",
    "                                 snap_TX_valid.loc[1913 + j - timesteps],\n",
    "                                 snap_WI_valid.loc[1913 + j - timesteps]))\n",
    "\n",
    "    X_test = np.append(X_test, testInput).reshape(1,j + 1,30495)\n",
    "    predicted_sales = sc.inverse_transform(testInput)[:,0:30490]\n",
    "    predictions.append(predicted_sales)\n",
    "\n",
    "print(testInput.shape)"
   ],
   "metadata": {
    "collapsed": false,
    "ExecuteTime": {
     "end_time": "2023-06-25T13:53:37.452376900Z",
     "start_time": "2023-06-25T13:53:35.366401300Z"
    }
   }
  },
  {
   "cell_type": "code",
   "execution_count": 35,
   "outputs": [
    {
     "name": "stdout",
     "output_type": "stream",
     "text": [
      "1/1 [==============================] - 0s 21ms/step\n",
      "1/1 [==============================] - 0s 21ms/step\n",
      "1/1 [==============================] - 0s 21ms/step\n",
      "1/1 [==============================] - 0s 21ms/step\n",
      "1/1 [==============================] - 0s 22ms/step\n",
      "1/1 [==============================] - 0s 22ms/step\n",
      "1/1 [==============================] - 0s 21ms/step\n",
      "1/1 [==============================] - 0s 22ms/step\n",
      "1/1 [==============================] - 0s 23ms/step\n",
      "1/1 [==============================] - 0s 22ms/step\n",
      "1/1 [==============================] - 0s 22ms/step\n",
      "1/1 [==============================] - 0s 22ms/step\n",
      "1/1 [==============================] - 0s 22ms/step\n",
      "1/1 [==============================] - 0s 22ms/step\n",
      "1/1 [==============================] - 0s 22ms/step\n",
      "1/1 [==============================] - 0s 22ms/step\n",
      "1/1 [==============================] - 0s 21ms/step\n",
      "1/1 [==============================] - 0s 21ms/step\n",
      "1/1 [==============================] - 0s 22ms/step\n",
      "1/1 [==============================] - 0s 22ms/step\n",
      "1/1 [==============================] - 0s 22ms/step\n",
      "1/1 [==============================] - 0s 21ms/step\n",
      "1/1 [==============================] - 0s 21ms/step\n",
      "1/1 [==============================] - 0s 22ms/step\n",
      "1/1 [==============================] - 0s 21ms/step\n",
      "1/1 [==============================] - 0s 22ms/step\n",
      "1/1 [==============================] - 0s 21ms/step\n",
      "1/1 [==============================] - 0s 22ms/step\n"
     ]
    }
   ],
   "source": [
    "X_eval = []\n",
    "X_eval.append(inputs_eval[0:timesteps])\n",
    "X_eval = np.array(X_eval)\n",
    "predictions_eval = []\n",
    "\n",
    "for j in range(timesteps,timesteps + 28):\n",
    "    predicted_sales = model.predict(X_eval[0,j - timesteps:j].reshape(1, timesteps, 30495))\n",
    "\n",
    "    testInput = np.column_stack((np.array(predicted_sales),\n",
    "                                 daysBeforeEvent1_eval.loc[1941 + j - timesteps],\n",
    "                                 daysBeforeEvent2_eval.loc[1941 + j - timesteps],\n",
    "                                 snap_CA_eval.loc[1941 + j - timesteps],\n",
    "                                 snap_TX_eval.loc[1941 + j - timesteps],\n",
    "                                 snap_WI_eval.loc[1941 + j - timesteps]))\n",
    "\n",
    "    X_eval = np.append(X_eval, testInput).reshape(1,j + 1,30495)\n",
    "    predicted_sales = sc.inverse_transform(testInput)[:,0:30490]\n",
    "    predictions_eval.append(predicted_sales)"
   ],
   "metadata": {
    "collapsed": false,
    "ExecuteTime": {
     "end_time": "2023-06-25T13:53:39.257821600Z",
     "start_time": "2023-06-25T13:53:37.453376800Z"
    }
   }
  },
  {
   "cell_type": "code",
   "execution_count": 36,
   "outputs": [],
   "source": [
    "submission = pd.DataFrame(data=np.array(predictions).reshape(28,30490))\n",
    "submission = submission.T\n",
    "\n",
    "submission_eval = pd.DataFrame(data=np.array(predictions_eval).reshape(28,30490))\n",
    "submission_eval = submission_eval.T\n",
    "\n",
    "submission = pd.concat((submission, submission_eval), ignore_index=True)\n",
    "\n",
    "idColumn = ss_data[['id']]\n",
    "submission[['id']] = idColumn\n",
    "\n",
    "cols = list(submission.columns)\n",
    "cols = cols[-1:]+cols[:-1]\n",
    "submission = submission[cols]\n",
    "\n",
    "colsdname = ['id'] + [f'F{i}' for i in range(1,29)]\n",
    "submission.columns = colsdname\n",
    "\n",
    "cols = ['F1', 'F2', 'F3', 'F4', 'F5', 'F6', 'F7', 'F8', 'F9', 'F10',\n",
    "        'F11', 'F12', 'F13', 'F14', 'F15', 'F16', 'F17', 'F18', 'F19', 'F20',\n",
    "        'F21', 'F22', 'F23', 'F24', 'F25', 'F26', 'F27', 'F28']\n",
    "\n",
    "submission[cols] = submission[cols].mask(submission[cols] < 0, 0)\n",
    "\n",
    "submission.to_csv('submission_lstm_simple2.csv', index=False, header=True)"
   ],
   "metadata": {
    "collapsed": false,
    "ExecuteTime": {
     "end_time": "2023-06-25T13:53:40.246055400Z",
     "start_time": "2023-06-25T13:53:39.258821800Z"
    }
   }
  },
  {
   "cell_type": "code",
   "execution_count": 37,
   "outputs": [
    {
     "data": {
      "text/plain": "(60980, 29)"
     },
     "execution_count": 37,
     "metadata": {},
     "output_type": "execute_result"
    }
   ],
   "source": [
    "submission.shape"
   ],
   "metadata": {
    "collapsed": false,
    "ExecuteTime": {
     "end_time": "2023-06-25T13:53:40.260672300Z",
     "start_time": "2023-06-25T13:53:40.243054900Z"
    }
   }
  }
 ],
 "metadata": {
  "kernelspec": {
   "display_name": "Python 3",
   "language": "python",
   "name": "python3"
  },
  "language_info": {
   "codemirror_mode": {
    "name": "ipython",
    "version": 2
   },
   "file_extension": ".py",
   "mimetype": "text/x-python",
   "name": "python",
   "nbconvert_exporter": "python",
   "pygments_lexer": "ipython2",
   "version": "2.7.6"
  }
 },
 "nbformat": 4,
 "nbformat_minor": 0
}
